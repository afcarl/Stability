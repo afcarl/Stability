{
 "cells": [
  {
   "cell_type": "code",
   "execution_count": 9,
   "metadata": {
    "collapsed": false
   },
   "outputs": [],
   "source": [
    "import pandas as pd\n",
    "import numpy as np\n",
    "import time\n",
    "import rebound"
   ]
  },
  {
   "cell_type": "markdown",
   "metadata": {},
   "source": [
    "## Simulate Systems"
   ]
  },
  {
   "cell_type": "code",
   "execution_count": 230,
   "metadata": {
    "collapsed": false
   },
   "outputs": [
    {
     "data": {
      "text/html": [
       "<div>\n",
       "<table border=\"1\" class=\"dataframe\">\n",
       "  <thead>\n",
       "    <tr style=\"text-align: right;\">\n",
       "      <th></th>\n",
       "      <th>Stable</th>\n",
       "      <th>Norbits_instability</th>\n",
       "      <th>Norbits</th>\n",
       "      <th>Mplanet</th>\n",
       "      <th>RH/a</th>\n",
       "      <th>a1</th>\n",
       "      <th>P1</th>\n",
       "      <th>e1</th>\n",
       "      <th>pomega1</th>\n",
       "      <th>inc1</th>\n",
       "      <th>...</th>\n",
       "      <th>Omega3</th>\n",
       "      <th>f3</th>\n",
       "      <th>x3</th>\n",
       "      <th>y3</th>\n",
       "      <th>z3</th>\n",
       "      <th>vx3</th>\n",
       "      <th>vy3</th>\n",
       "      <th>vz3</th>\n",
       "      <th>Rel_Eerr</th>\n",
       "      <th>integ_time</th>\n",
       "    </tr>\n",
       "    <tr>\n",
       "      <th>Sim_ID</th>\n",
       "      <th></th>\n",
       "      <th></th>\n",
       "      <th></th>\n",
       "      <th></th>\n",
       "      <th></th>\n",
       "      <th></th>\n",
       "      <th></th>\n",
       "      <th></th>\n",
       "      <th></th>\n",
       "      <th></th>\n",
       "      <th></th>\n",
       "      <th></th>\n",
       "      <th></th>\n",
       "      <th></th>\n",
       "      <th></th>\n",
       "      <th></th>\n",
       "      <th></th>\n",
       "      <th></th>\n",
       "      <th></th>\n",
       "      <th></th>\n",
       "      <th></th>\n",
       "    </tr>\n",
       "  </thead>\n",
       "  <tbody>\n",
       "    <tr>\n",
       "      <th>0</th>\n",
       "      <td>True</td>\n",
       "      <td>1.000000e+07</td>\n",
       "      <td>10000000.0</td>\n",
       "      <td>0.000015</td>\n",
       "      <td>0.021544</td>\n",
       "      <td>0.056888</td>\n",
       "      <td>0.013569</td>\n",
       "      <td>0.005178</td>\n",
       "      <td>-3.070751</td>\n",
       "      <td>0.007067</td>\n",
       "      <td>...</td>\n",
       "      <td>-0.567081</td>\n",
       "      <td>-0.108162</td>\n",
       "      <td>-0.060508</td>\n",
       "      <td>-0.044636</td>\n",
       "      <td>-0.000307</td>\n",
       "      <td>13.734230</td>\n",
       "      <td>-18.555393</td>\n",
       "      <td>-0.036173</td>\n",
       "      <td>2.044850e-10</td>\n",
       "      <td>2039.672515</td>\n",
       "    </tr>\n",
       "    <tr>\n",
       "      <th>1</th>\n",
       "      <td>True</td>\n",
       "      <td>1.000000e+07</td>\n",
       "      <td>10000000.0</td>\n",
       "      <td>0.000015</td>\n",
       "      <td>0.021544</td>\n",
       "      <td>0.042687</td>\n",
       "      <td>0.008820</td>\n",
       "      <td>0.005101</td>\n",
       "      <td>-3.170275</td>\n",
       "      <td>0.007845</td>\n",
       "      <td>...</td>\n",
       "      <td>1.437355</td>\n",
       "      <td>-0.343874</td>\n",
       "      <td>-0.045725</td>\n",
       "      <td>0.037512</td>\n",
       "      <td>0.000634</td>\n",
       "      <td>-16.384604</td>\n",
       "      <td>-19.975136</td>\n",
       "      <td>0.171042</td>\n",
       "      <td>3.447072e-09</td>\n",
       "      <td>1894.023723</td>\n",
       "    </tr>\n",
       "    <tr>\n",
       "      <th>2</th>\n",
       "      <td>True</td>\n",
       "      <td>1.000000e+07</td>\n",
       "      <td>10000000.0</td>\n",
       "      <td>0.000015</td>\n",
       "      <td>0.021544</td>\n",
       "      <td>0.059121</td>\n",
       "      <td>0.014375</td>\n",
       "      <td>0.001697</td>\n",
       "      <td>-1.033591</td>\n",
       "      <td>0.012845</td>\n",
       "      <td>...</td>\n",
       "      <td>-0.317958</td>\n",
       "      <td>3.419165</td>\n",
       "      <td>-0.008500</td>\n",
       "      <td>0.078357</td>\n",
       "      <td>0.001246</td>\n",
       "      <td>-22.158744</td>\n",
       "      <td>-2.450004</td>\n",
       "      <td>-0.160703</td>\n",
       "      <td>3.936231e-09</td>\n",
       "      <td>2163.505740</td>\n",
       "    </tr>\n",
       "    <tr>\n",
       "      <th>3</th>\n",
       "      <td>False</td>\n",
       "      <td>1.118280e+06</td>\n",
       "      <td>10000000.0</td>\n",
       "      <td>0.000015</td>\n",
       "      <td>0.021544</td>\n",
       "      <td>0.044759</td>\n",
       "      <td>0.009469</td>\n",
       "      <td>0.012078</td>\n",
       "      <td>-2.351669</td>\n",
       "      <td>0.001144</td>\n",
       "      <td>...</td>\n",
       "      <td>-2.294238</td>\n",
       "      <td>-0.829096</td>\n",
       "      <td>-0.058453</td>\n",
       "      <td>-0.002614</td>\n",
       "      <td>-0.000111</td>\n",
       "      <td>1.345952</td>\n",
       "      <td>-26.024377</td>\n",
       "      <td>0.047938</td>\n",
       "      <td>1.089428e-06</td>\n",
       "      <td>248.877695</td>\n",
       "    </tr>\n",
       "    <tr>\n",
       "      <th>4</th>\n",
       "      <td>False</td>\n",
       "      <td>2.045246e+05</td>\n",
       "      <td>10000000.0</td>\n",
       "      <td>0.000015</td>\n",
       "      <td>0.021544</td>\n",
       "      <td>0.044721</td>\n",
       "      <td>0.009457</td>\n",
       "      <td>0.003099</td>\n",
       "      <td>0.417927</td>\n",
       "      <td>0.007009</td>\n",
       "      <td>...</td>\n",
       "      <td>-1.074927</td>\n",
       "      <td>-1.214839</td>\n",
       "      <td>0.056472</td>\n",
       "      <td>0.007511</td>\n",
       "      <td>0.000862</td>\n",
       "      <td>-3.526080</td>\n",
       "      <td>26.095055</td>\n",
       "      <td>0.150793</td>\n",
       "      <td>5.464036e-07</td>\n",
       "      <td>46.893125</td>\n",
       "    </tr>\n",
       "  </tbody>\n",
       "</table>\n",
       "<p>5 rows × 46 columns</p>\n",
       "</div>"
      ],
      "text/plain": [
       "       Stable  Norbits_instability     Norbits   Mplanet      RH/a        a1  \\\n",
       "Sim_ID                                                                         \n",
       "0        True         1.000000e+07  10000000.0  0.000015  0.021544  0.056888   \n",
       "1        True         1.000000e+07  10000000.0  0.000015  0.021544  0.042687   \n",
       "2        True         1.000000e+07  10000000.0  0.000015  0.021544  0.059121   \n",
       "3       False         1.118280e+06  10000000.0  0.000015  0.021544  0.044759   \n",
       "4       False         2.045246e+05  10000000.0  0.000015  0.021544  0.044721   \n",
       "\n",
       "              P1        e1   pomega1      inc1     ...         Omega3  \\\n",
       "Sim_ID                                             ...                  \n",
       "0       0.013569  0.005178 -3.070751  0.007067     ...      -0.567081   \n",
       "1       0.008820  0.005101 -3.170275  0.007845     ...       1.437355   \n",
       "2       0.014375  0.001697 -1.033591  0.012845     ...      -0.317958   \n",
       "3       0.009469  0.012078 -2.351669  0.001144     ...      -2.294238   \n",
       "4       0.009457  0.003099  0.417927  0.007009     ...      -1.074927   \n",
       "\n",
       "              f3        x3        y3        z3        vx3        vy3  \\\n",
       "Sim_ID                                                                 \n",
       "0      -0.108162 -0.060508 -0.044636 -0.000307  13.734230 -18.555393   \n",
       "1      -0.343874 -0.045725  0.037512  0.000634 -16.384604 -19.975136   \n",
       "2       3.419165 -0.008500  0.078357  0.001246 -22.158744  -2.450004   \n",
       "3      -0.829096 -0.058453 -0.002614 -0.000111   1.345952 -26.024377   \n",
       "4      -1.214839  0.056472  0.007511  0.000862  -3.526080  26.095055   \n",
       "\n",
       "             vz3      Rel_Eerr   integ_time  \n",
       "Sim_ID                                       \n",
       "0      -0.036173  2.044850e-10  2039.672515  \n",
       "1       0.171042  3.447072e-09  1894.023723  \n",
       "2      -0.160703  3.936231e-09  2163.505740  \n",
       "3       0.047938  1.089428e-06   248.877695  \n",
       "4       0.150793  5.464036e-07    46.893125  \n",
       "\n",
       "[5 rows x 46 columns]"
      ]
     },
     "execution_count": 230,
     "metadata": {},
     "output_type": "execute_result"
    }
   ],
   "source": [
    "#get masses, spacing, etc. from previous run\n",
    "df = pd.read_csv('../data/1e7datasetcorr.csv', index_col=0)\n",
    "df.head()"
   ]
  },
  {
   "cell_type": "code",
   "execution_count": 231,
   "metadata": {
    "collapsed": false
   },
   "outputs": [],
   "source": [
    "def system(sim_id, maxorbs, Noutputs):\n",
    "    s = df.loc[sim_id]\n",
    "    sim = rebound.Simulation()\n",
    "    sim.add(m=1.)\n",
    "    sim.G = 4*np.pi**2\n",
    "    mp = s['Mplanet']\n",
    "    gamma = s['RH/a']\n",
    "    for i in ['1', '2', '3']:\n",
    "        sim.add(m=mp, x=s['x'+i], y=s['y'+i], z=s['z'+i], vx=s['vx'+i], vy=s['vy'+i], vz=s['vz'+i])\n",
    "    sim.move_to_com()\n",
    "    ps = sim.particles\n",
    "\n",
    "    sim.integrator=\"whfast\"\n",
    "    P0 = ps[1].P\n",
    "    tmax = maxorbs * P0 # number of inner planet orbital periods to integrate\n",
    "    sim.dt = P0*0.09\n",
    "    sim.exit_min_distance = ps[1].a*gamma # use smaller hill radius as exit condition\n",
    "\n",
    "    sim.init_megno()\n",
    "\n",
    "    features = [maxorbs, mp, gamma]\n",
    "    for p in ps[1:sim.N_real]:\n",
    "        features = features + [p.a, p.P, p.e, p.pomega, p.inc, p.Omega, p.f]\n",
    "\n",
    "    stable = [True] # assume it's stable and update if not\n",
    "\n",
    "    E0 = sim.calculate_energy()\n",
    "    t0 = time.time()\n",
    "\n",
    "    times = np.linspace(0,tmax,Noutputs)\n",
    "    outputs = '../data/FeaturesFromShortRuns/output%d_maxorbs%.1e_Noutputs%.1e.csv'%(sim_id,maxorbs,Noutputs)\n",
    "    #outputs = '/mnt/raid-cita/dtamayo/Stability/data/featuresfromshortruns/output'+str(sim_id)+'.csv'\n",
    "\n",
    "    with open(outputs, 'w') as f:\n",
    "        try:\n",
    "            for t in times:\n",
    "                sim.integrate(t)\n",
    "                f.write(str(sim.t))\n",
    "                try:\n",
    "                    outs = [1./sim.calculate_lyapunov()]\n",
    "                except: \n",
    "                    outs = [np.inf]\n",
    "                for p in ps[1:sim.N_real]:\n",
    "                    outs = outs + [p.a, p.P, p.e, p.pomega, p.inc, p.Omega, p.f]\n",
    "\n",
    "                for out in outs:\n",
    "                    f.write(',{0}'.format(out))\n",
    "                f.write('\\n')\n",
    "        except rebound.Encounter as error:\n",
    "            stable = [False]\n",
    "            f.write(str(sim.t)) # this block added after the 1e7 dataset was generated for future use\n",
    "            try:\n",
    "                outs = [1./sim.calculate_lyapunov()]\n",
    "            except: \n",
    "                outs = [np.inf]\n",
    "            for p in ps[1:sim.N_real]:\n",
    "                outs = outs + [p.a, p.P, p.e, p.pomega, p.inc, p.Omega, p.f]\n",
    "\n",
    "            for out in outs:\n",
    "                f.write(',{0}'.format(out))\n",
    "            f.write('\\n')\n",
    "\n",
    "    features = [sim_id] + stable+[sim.t/P0]+features+[np.abs((sim.calculate_energy()-E0)/E0), time.time()-t0]\n",
    "    return features"
   ]
  },
  {
   "cell_type": "code",
   "execution_count": 179,
   "metadata": {
    "collapsed": true
   },
   "outputs": [],
   "source": [
    "#input parameters\n",
    "maxorbs = 2.e5\n",
    "Noutputs = 5e4"
   ]
  },
  {
   "cell_type": "markdown",
   "metadata": {},
   "source": [
    "**Warning!** This could take a minute."
   ]
  },
  {
   "cell_type": "code",
   "execution_count": 233,
   "metadata": {
    "collapsed": false
   },
   "outputs": [],
   "source": [
    "for sim_id in range(1):\n",
    "    f = system(sim_id,maxorbs,Noutputs)"
   ]
  },
  {
   "cell_type": "markdown",
   "metadata": {},
   "source": [
    "## Analyze Systems"
   ]
  },
  {
   "cell_type": "code",
   "execution_count": 240,
   "metadata": {
    "collapsed": false
   },
   "outputs": [
    {
     "data": {
      "text/html": [
       "<div>\n",
       "<table border=\"1\" class=\"dataframe\">\n",
       "  <thead>\n",
       "    <tr style=\"text-align: right;\">\n",
       "      <th></th>\n",
       "      <th>Time</th>\n",
       "      <th>Lyapunov Time</th>\n",
       "      <th>a1</th>\n",
       "      <th>P1</th>\n",
       "      <th>e1</th>\n",
       "      <th>pomega1</th>\n",
       "      <th>inc1</th>\n",
       "      <th>Omega1</th>\n",
       "      <th>f1</th>\n",
       "      <th>a2</th>\n",
       "      <th>...</th>\n",
       "      <th>inc2</th>\n",
       "      <th>Omega2</th>\n",
       "      <th>f2</th>\n",
       "      <th>a3</th>\n",
       "      <th>P3</th>\n",
       "      <th>e3</th>\n",
       "      <th>pomega3</th>\n",
       "      <th>inc3</th>\n",
       "      <th>Omega3</th>\n",
       "      <th>f3</th>\n",
       "    </tr>\n",
       "  </thead>\n",
       "  <tbody>\n",
       "    <tr>\n",
       "      <th>12168</th>\n",
       "      <td>532.089105</td>\n",
       "      <td>NaN</td>\n",
       "      <td>0.048475</td>\n",
       "      <td>0.010673</td>\n",
       "      <td>0.028333</td>\n",
       "      <td>-4.342532</td>\n",
       "      <td>0.002282</td>\n",
       "      <td>-2.879394</td>\n",
       "      <td>1.707601</td>\n",
       "      <td>0.055861</td>\n",
       "      <td>...</td>\n",
       "      <td>0.007080</td>\n",
       "      <td>-0.734290</td>\n",
       "      <td>1.700250</td>\n",
       "      <td>0.064590</td>\n",
       "      <td>0.016415</td>\n",
       "      <td>0.063381</td>\n",
       "      <td>2.996233</td>\n",
       "      <td>0.004558</td>\n",
       "      <td>0.878685</td>\n",
       "      <td>-2.096354</td>\n",
       "    </tr>\n",
       "    <tr>\n",
       "      <th>12169</th>\n",
       "      <td>532.132833</td>\n",
       "      <td>NaN</td>\n",
       "      <td>0.048242</td>\n",
       "      <td>0.010596</td>\n",
       "      <td>0.029573</td>\n",
       "      <td>-4.078888</td>\n",
       "      <td>0.002217</td>\n",
       "      <td>-2.966376</td>\n",
       "      <td>2.070795</td>\n",
       "      <td>0.056157</td>\n",
       "      <td>...</td>\n",
       "      <td>0.007174</td>\n",
       "      <td>-0.756407</td>\n",
       "      <td>-2.867140</td>\n",
       "      <td>0.064608</td>\n",
       "      <td>0.016422</td>\n",
       "      <td>0.063877</td>\n",
       "      <td>2.995168</td>\n",
       "      <td>0.004557</td>\n",
       "      <td>0.878223</td>\n",
       "      <td>-3.998973</td>\n",
       "    </tr>\n",
       "    <tr>\n",
       "      <th>12170</th>\n",
       "      <td>532.176562</td>\n",
       "      <td>NaN</td>\n",
       "      <td>0.048239</td>\n",
       "      <td>0.010595</td>\n",
       "      <td>0.030221</td>\n",
       "      <td>-4.060165</td>\n",
       "      <td>0.002200</td>\n",
       "      <td>-2.985064</td>\n",
       "      <td>2.811956</td>\n",
       "      <td>0.056150</td>\n",
       "      <td>...</td>\n",
       "      <td>0.007188</td>\n",
       "      <td>-0.762691</td>\n",
       "      <td>-1.139933</td>\n",
       "      <td>0.064637</td>\n",
       "      <td>0.016433</td>\n",
       "      <td>0.064315</td>\n",
       "      <td>2.982170</td>\n",
       "      <td>0.004564</td>\n",
       "      <td>0.876517</td>\n",
       "      <td>0.085327</td>\n",
       "    </tr>\n",
       "    <tr>\n",
       "      <th>12171</th>\n",
       "      <td>532.220291</td>\n",
       "      <td>NaN</td>\n",
       "      <td>0.048150</td>\n",
       "      <td>0.010566</td>\n",
       "      <td>0.031355</td>\n",
       "      <td>-4.016338</td>\n",
       "      <td>0.002196</td>\n",
       "      <td>-2.992936</td>\n",
       "      <td>3.587849</td>\n",
       "      <td>0.056271</td>\n",
       "      <td>...</td>\n",
       "      <td>0.007187</td>\n",
       "      <td>-0.764615</td>\n",
       "      <td>0.834349</td>\n",
       "      <td>0.064627</td>\n",
       "      <td>0.016429</td>\n",
       "      <td>0.064018</td>\n",
       "      <td>2.980308</td>\n",
       "      <td>0.004564</td>\n",
       "      <td>0.875776</td>\n",
       "      <td>-2.159810</td>\n",
       "    </tr>\n",
       "    <tr>\n",
       "      <th>12172</th>\n",
       "      <td>532.226194</td>\n",
       "      <td>NaN</td>\n",
       "      <td>0.048171</td>\n",
       "      <td>0.010572</td>\n",
       "      <td>0.031773</td>\n",
       "      <td>-4.019296</td>\n",
       "      <td>0.002196</td>\n",
       "      <td>-2.993369</td>\n",
       "      <td>0.893930</td>\n",
       "      <td>0.055272</td>\n",
       "      <td>...</td>\n",
       "      <td>0.005438</td>\n",
       "      <td>-1.020004</td>\n",
       "      <td>-2.827275</td>\n",
       "      <td>0.066095</td>\n",
       "      <td>0.016992</td>\n",
       "      <td>0.085093</td>\n",
       "      <td>2.961670</td>\n",
       "      <td>0.005961</td>\n",
       "      <td>0.548859</td>\n",
       "      <td>0.259535</td>\n",
       "    </tr>\n",
       "  </tbody>\n",
       "</table>\n",
       "<p>5 rows × 23 columns</p>\n",
       "</div>"
      ],
      "text/plain": [
       "             Time  Lyapunov Time        a1        P1        e1   pomega1  \\\n",
       "12168  532.089105            NaN  0.048475  0.010673  0.028333 -4.342532   \n",
       "12169  532.132833            NaN  0.048242  0.010596  0.029573 -4.078888   \n",
       "12170  532.176562            NaN  0.048239  0.010595  0.030221 -4.060165   \n",
       "12171  532.220291            NaN  0.048150  0.010566  0.031355 -4.016338   \n",
       "12172  532.226194            NaN  0.048171  0.010572  0.031773 -4.019296   \n",
       "\n",
       "           inc1    Omega1        f1        a2    ...         inc2    Omega2  \\\n",
       "12168  0.002282 -2.879394  1.707601  0.055861    ...     0.007080 -0.734290   \n",
       "12169  0.002217 -2.966376  2.070795  0.056157    ...     0.007174 -0.756407   \n",
       "12170  0.002200 -2.985064  2.811956  0.056150    ...     0.007188 -0.762691   \n",
       "12171  0.002196 -2.992936  3.587849  0.056271    ...     0.007187 -0.764615   \n",
       "12172  0.002196 -2.993369  0.893930  0.055272    ...     0.005438 -1.020004   \n",
       "\n",
       "             f2        a3        P3        e3   pomega3      inc3    Omega3  \\\n",
       "12168  1.700250  0.064590  0.016415  0.063381  2.996233  0.004558  0.878685   \n",
       "12169 -2.867140  0.064608  0.016422  0.063877  2.995168  0.004557  0.878223   \n",
       "12170 -1.139933  0.064637  0.016433  0.064315  2.982170  0.004564  0.876517   \n",
       "12171  0.834349  0.064627  0.016429  0.064018  2.980308  0.004564  0.875776   \n",
       "12172 -2.827275  0.066095  0.016992  0.085093  2.961670  0.005961  0.548859   \n",
       "\n",
       "             f3  \n",
       "12168 -2.096354  \n",
       "12169 -3.998973  \n",
       "12170  0.085327  \n",
       "12171 -2.159810  \n",
       "12172  0.259535  \n",
       "\n",
       "[5 rows x 23 columns]"
      ]
     },
     "execution_count": 240,
     "metadata": {},
     "output_type": "execute_result"
    }
   ],
   "source": [
    "sim_id = 9\n",
    "columns = ['Time', 'Lyapunov Time']\n",
    "for i in ['1', '2', '3']:\n",
    "    columns += ['a'+i, 'P'+i, 'e'+i, 'pomega'+i, 'inc'+i, 'Omega'+i, 'f'+i]\n",
    "            \n",
    "filename = '../data/FeaturesFromShortRuns/output%d_maxorbs%.1e_Noutputs%.1e.csv'%(sim_id,maxorbs,Noutputs)\n",
    "\n",
    "run = pd.read_csv(filename, names=columns)\n",
    "run.tail()"
   ]
  },
  {
   "cell_type": "code",
   "execution_count": 241,
   "metadata": {
    "collapsed": false
   },
   "outputs": [],
   "source": [
    "#1-D frequency map\n",
    "import scipy.signal as signal\n",
    "#extra variables that we might want to plot\n",
    "def get_var(data,i,var):\n",
    "    if var == \"LT\":\n",
    "        LT = data[\"Lyapunov Time\"]\n",
    "        LT[0] = 0\n",
    "        return LT\n",
    "    if var == \"z\":\n",
    "        e = data[\"e\"+i].values\n",
    "        pomega = data[\"pomega\"+i].values\n",
    "        return e*np.exp(pomega*1j)\n",
    "    if var == \"h\":\n",
    "        e = data[\"e\"+i].values\n",
    "        pomega = data[\"pomega\"+i].values\n",
    "        return e*np.cos(pomega)\n",
    "    if var == \"k\":\n",
    "        e = data[\"e\"+i].values\n",
    "        pomega = data[\"pomega\"+i].values\n",
    "        return e*np.sin(pomega)\n",
    "    else:\n",
    "        return data[var+i].values\n",
    "\n",
    "def fourier(data,var,output_name):\n",
    "    fig, ax = plt.subplots(2, figsize=(8,6))\n",
    "    t=data[\"Time\"].values\n",
    "    tmax = round(t[-1])\n",
    "    N_outputs = len(t)\n",
    "    window = np.hanning(N_outputs)\n",
    "    Period = 1./np.fft.fftfreq(N_outputs, tmax/N_outputs)   \n",
    "    power_ratio = 0                                 #ratio of power[OP1>boundaryOP1]/power[OP1<boundaryOP1]\n",
    "    names = ['Planet 1','Planet 2','Planet 3']\n",
    "    for i,num in enumerate(['1','2','3']):\n",
    "        y = get_var(data,num,var)\n",
    "        power = np.absolute(np.fft.fft(y)/N_outputs)\n",
    "        OP1 = Period/data[\"P1\"][0]                 #normalize to orbital period of inner planet\n",
    "        len(power), len(OP1)\n",
    "        power = power[(OP1>0)&(OP1<float('inf'))]\n",
    "        OP1 = OP1[(OP1>0)&(OP1<float('inf'))]\n",
    "        boundaryOP1 = 10**(max(np.log10(OP1))/2)   #boundary is even split in log space\n",
    "        power_ratio += sum(power[OP1>=boundaryOP1])/sum(power[OP1<boundaryOP1])\n",
    "        ax[0].plot(OP1,power,label=names[i],alpha=1-0.2*i)\n",
    "        ax[1].plot(t,y,label=num,alpha=1-0.2*i)\n",
    "\n",
    "    plt.subplots_adjust(hspace=0.4)\n",
    "    ax[0].set_ylabel(\"power of: \"+var, fontsize=13)\n",
    "    ax[0].set_xlabel('Orbital Period of Planet 1', fontsize=13)\n",
    "    ax[0].set_xscale('log')\n",
    "    #ax[0].set_ylim([0,5e-4])\n",
    "    ax[1].set_ylabel(var, fontsize=13)\n",
    "    ax[1].set_xlabel('time', fontsize=13)\n",
    "    plt.show()\n",
    "    #plt.savefig(output_name.split(\".csv\")[0]+\"-fft_var\"+var+\".png\")\n",
    "    #plt.clf()\n",
    "    \n",
    "    print(\"For variable:'%s', The ratio of Power[Period>=%.1e]/[Period<%.1e]=%f\"%(var,boundaryOP1,boundaryOP1,power_ratio))\n",
    "    return power_ratio"
   ]
  },
  {
   "cell_type": "code",
   "execution_count": 242,
   "metadata": {
    "collapsed": false
   },
   "outputs": [
    {
     "data": {
      "image/png": "[encoded data removed]",
      "text/plain": [
       "<matplotlib.figure.Figure at 0x11068c6d0>"
      ]
     },
     "metadata": {},
     "output_type": "display_data"
    },
    {
     "name": "stdout",
     "output_type": "stream",
     "text": [
      "For variable:'a', The ratio of Power[Period>=2.2e+02]/[Period<2.2e+02]=1.832628\n"
     ]
    }
   ],
   "source": [
    "power_ratio = fourier(run,\"a\",filename)"
   ]
  },
  {
   "cell_type": "code",
   "execution_count": 19,
   "metadata": {
    "collapsed": false
   },
   "outputs": [
    {
     "data": {
      "text/plain": [
       "[<matplotlib.lines.Line2D at 0x108c393d0>]"
      ]
     },
     "execution_count": 19,
     "metadata": {},
     "output_type": "execute_result"
    },
    {
     "data": {
      "image/png": "[encoded data removed]",
      "text/plain": [
       "<matplotlib.figure.Figure at 0x106f634d0>"
      ]
     },
     "metadata": {},
     "output_type": "display_data"
    }
   ],
   "source": [
    "%matplotlib inline\n",
    "import matplotlib.pyplot as plt\n",
    "\n",
    "fig, ax = plt.subplots()\n",
    "ax.plot(run['Time'], run['a1'], ',')\n",
    "#ax.set_xlim([0,20])"
   ]
  },
  {
   "cell_type": "code",
   "execution_count": 20,
   "metadata": {
    "collapsed": false
   },
   "outputs": [
    {
     "data": {
      "text/plain": [
       "[<matplotlib.lines.Line2D at 0x106f63dd0>]"
      ]
     },
     "execution_count": 20,
     "metadata": {},
     "output_type": "execute_result"
    },
    {
     "data": {
      "image/png": "[encoded data removed]",
      "text/plain": [
       "<matplotlib.figure.Figure at 0x108bf6390>"
      ]
     },
     "metadata": {},
     "output_type": "display_data"
    }
   ],
   "source": [
    "%matplotlib inline\n",
    "import matplotlib.pyplot as plt\n",
    "\n",
    "fig, ax = plt.subplots()\n",
    "ax.plot(run['Time'], run['e1'], ',')\n",
    "#ax.set_xlim([0,20])"
   ]
  },
  {
   "cell_type": "code",
   "execution_count": 21,
   "metadata": {
    "collapsed": false
   },
   "outputs": [
    {
     "data": {
      "text/plain": [
       "(0, 20)"
      ]
     },
     "execution_count": 21,
     "metadata": {},
     "output_type": "execute_result"
    },
    {
     "data": {
      "image/png": "[encoded data removed]",
      "text/plain": [
       "<matplotlib.figure.Figure at 0x108c9bd10>"
      ]
     },
     "metadata": {},
     "output_type": "display_data"
    }
   ],
   "source": [
    "%matplotlib inline\n",
    "import matplotlib.pyplot as plt\n",
    "\n",
    "fig, ax = plt.subplots()\n",
    "ax.plot(run['Time'], run['Lyapunov Time'], ',')\n",
    "ax.set_ylim([0, 20])"
   ]
  },
  {
   "cell_type": "code",
   "execution_count": 23,
   "metadata": {
    "collapsed": false
   },
   "outputs": [],
   "source": [
    "df['Pratio21'] = df['P2']/df['P1']\n",
    "df['Pratio32'] = df['P3']/df['P2']\n",
    "dfnonres = df.loc[(df['Pratio21'] > 1.269) & (df['Pratio21'] < 1.271)]\n",
    "simnonresids = dfnonres.index.values"
   ]
  },
  {
   "cell_type": "code",
   "execution_count": null,
   "metadata": {
    "collapsed": true
   },
   "outputs": [],
   "source": []
  }
 ],
 "metadata": {
  "kernelspec": {
   "display_name": "Python 2",
   "language": "python",
   "name": "python2"
  },
  "language_info": {
   "codemirror_mode": {
    "name": "ipython",
    "version": 2
   },
   "file_extension": ".py",
   "mimetype": "text/x-python",
   "name": "python",
   "nbconvert_exporter": "python",
   "pygments_lexer": "ipython2",
   "version": "2.7.11"
  }
 },
 "nbformat": 4,
 "nbformat_minor": 0
}
