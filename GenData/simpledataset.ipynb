{
 "cells": [
  {
   "cell_type": "code",
   "execution_count": 28,
   "metadata": {
    "collapsed": false
   },
   "outputs": [],
   "source": [
    "from cluster import cluster as cl\n",
    "rc = cl.start_cluster('homard', 15)"
   ]
  },
  {
   "cell_type": "code",
   "execution_count": 21,
   "metadata": {
    "collapsed": false
   },
   "outputs": [
    {
     "ename": "NoEnginesRegistered",
     "evalue": "Can't build targets without any engines",
     "output_type": "error",
     "traceback": [
      "\u001b[1;31m---------------------------------------------------------------------------\u001b[0m",
      "\u001b[1;31mNoEnginesRegistered\u001b[0m                       Traceback (most recent call last)",
      "\u001b[1;32m<ipython-input-21-8ba761a507bc>\u001b[0m in \u001b[0;36m<module>\u001b[1;34m()\u001b[0m\n\u001b[1;32m----> 1\u001b[1;33m \u001b[0mdv\u001b[0m \u001b[1;33m=\u001b[0m \u001b[0mrc\u001b[0m\u001b[1;33m[\u001b[0m\u001b[1;33m:\u001b[0m\u001b[1;33m]\u001b[0m\u001b[1;33m\u001b[0m\u001b[0m\n\u001b[0m",
      "\u001b[1;32m/mnt/raid-cita/dtamayo/p2/lib/python2.7/site-packages/ipyparallel/client/client.pyc\u001b[0m in \u001b[0;36m__getitem__\u001b[1;34m(self, key)\u001b[0m\n\u001b[0;32m    991\u001b[0m             \u001b[1;32mraise\u001b[0m \u001b[0mTypeError\u001b[0m\u001b[1;33m(\u001b[0m\u001b[1;34m\"key by int/slice/iterable of ints only, not %s\"\u001b[0m\u001b[1;33m%\u001b[0m\u001b[1;33m(\u001b[0m\u001b[0mtype\u001b[0m\u001b[1;33m(\u001b[0m\u001b[0mkey\u001b[0m\u001b[1;33m)\u001b[0m\u001b[1;33m)\u001b[0m\u001b[1;33m)\u001b[0m\u001b[1;33m\u001b[0m\u001b[0m\n\u001b[0;32m    992\u001b[0m         \u001b[1;32melse\u001b[0m\u001b[1;33m:\u001b[0m\u001b[1;33m\u001b[0m\u001b[0m\n\u001b[1;32m--> 993\u001b[1;33m             \u001b[1;32mreturn\u001b[0m \u001b[0mself\u001b[0m\u001b[1;33m.\u001b[0m\u001b[0mdirect_view\u001b[0m\u001b[1;33m(\u001b[0m\u001b[0mkey\u001b[0m\u001b[1;33m)\u001b[0m\u001b[1;33m\u001b[0m\u001b[0m\n\u001b[0m\u001b[0;32m    994\u001b[0m \u001b[1;33m\u001b[0m\u001b[0m\n\u001b[0;32m    995\u001b[0m     \u001b[1;32mdef\u001b[0m \u001b[0m__iter__\u001b[0m\u001b[1;33m(\u001b[0m\u001b[0mself\u001b[0m\u001b[1;33m)\u001b[0m\u001b[1;33m:\u001b[0m\u001b[1;33m\u001b[0m\u001b[0m\n",
      "\u001b[1;32m/mnt/raid-cita/dtamayo/p2/lib/python2.7/site-packages/ipyparallel/client/client.pyc\u001b[0m in \u001b[0;36mdirect_view\u001b[1;34m(self, targets)\u001b[0m\n\u001b[0;32m   1416\u001b[0m         \u001b[1;31m# allow 'all' to be lazily evaluated at each execution\u001b[0m\u001b[1;33m\u001b[0m\u001b[1;33m\u001b[0m\u001b[0m\n\u001b[0;32m   1417\u001b[0m         \u001b[1;32mif\u001b[0m \u001b[0mtargets\u001b[0m \u001b[1;33m!=\u001b[0m \u001b[1;34m'all'\u001b[0m\u001b[1;33m:\u001b[0m\u001b[1;33m\u001b[0m\u001b[0m\n\u001b[1;32m-> 1418\u001b[1;33m             \u001b[0mtargets\u001b[0m \u001b[1;33m=\u001b[0m \u001b[0mself\u001b[0m\u001b[1;33m.\u001b[0m\u001b[0m_build_targets\u001b[0m\u001b[1;33m(\u001b[0m\u001b[0mtargets\u001b[0m\u001b[1;33m)\u001b[0m\u001b[1;33m[\u001b[0m\u001b[1;36m1\u001b[0m\u001b[1;33m]\u001b[0m\u001b[1;33m\u001b[0m\u001b[0m\n\u001b[0m\u001b[0;32m   1419\u001b[0m         \u001b[1;32mif\u001b[0m \u001b[0msingle\u001b[0m\u001b[1;33m:\u001b[0m\u001b[1;33m\u001b[0m\u001b[0m\n\u001b[0;32m   1420\u001b[0m             \u001b[0mtargets\u001b[0m \u001b[1;33m=\u001b[0m \u001b[0mtargets\u001b[0m\u001b[1;33m[\u001b[0m\u001b[1;36m0\u001b[0m\u001b[1;33m]\u001b[0m\u001b[1;33m\u001b[0m\u001b[0m\n",
      "\u001b[1;32m/mnt/raid-cita/dtamayo/p2/lib/python2.7/site-packages/ipyparallel/client/client.pyc\u001b[0m in \u001b[0;36m_build_targets\u001b[1;34m(self, targets)\u001b[0m\n\u001b[0;32m    557\u001b[0m             \u001b[1;31m# flush notification socket if no engines yet, just in case\u001b[0m\u001b[1;33m\u001b[0m\u001b[1;33m\u001b[0m\u001b[0m\n\u001b[0;32m    558\u001b[0m             \u001b[1;32mif\u001b[0m \u001b[1;32mnot\u001b[0m \u001b[0mself\u001b[0m\u001b[1;33m.\u001b[0m\u001b[0mids\u001b[0m\u001b[1;33m:\u001b[0m\u001b[1;33m\u001b[0m\u001b[0m\n\u001b[1;32m--> 559\u001b[1;33m                 \u001b[1;32mraise\u001b[0m \u001b[0merror\u001b[0m\u001b[1;33m.\u001b[0m\u001b[0mNoEnginesRegistered\u001b[0m\u001b[1;33m(\u001b[0m\u001b[1;34m\"Can't build targets without any engines\"\u001b[0m\u001b[1;33m)\u001b[0m\u001b[1;33m\u001b[0m\u001b[0m\n\u001b[0m\u001b[0;32m    560\u001b[0m \u001b[1;33m\u001b[0m\u001b[0m\n\u001b[0;32m    561\u001b[0m         \u001b[1;32mif\u001b[0m \u001b[0mtargets\u001b[0m \u001b[1;32mis\u001b[0m \u001b[0mNone\u001b[0m\u001b[1;33m:\u001b[0m\u001b[1;33m\u001b[0m\u001b[0m\n",
      "\u001b[1;31mNoEnginesRegistered\u001b[0m: Can't build targets without any engines"
     ]
    }
   ],
   "source": [
    "dv = rc[:]"
   ]
  },
  {
   "cell_type": "code",
   "execution_count": 4,
   "metadata": {
    "collapsed": false
   },
   "outputs": [],
   "source": [
    "%%px\n",
    "\n",
    "Nsystems=33\n",
    "maxorbs = 1.e6\n",
    "Nfeatures = 25\n",
    "\n",
    "import numpy as np\n",
    "mp = 5*3.e-6 # 5 earth masses\n",
    "gamma = (2./3.*mp)**(1./3.) # Hill radius with factor of a taken out\n",
    "a1 = 0.05 # semimajor axis of innermost planet in AU\n",
    "imax = 1.*np.pi/180. # maximum inclination (uniform distribution)\n",
    "emax = 1.e-2 # maximum eccentricity (uniform distribution)\n",
    "betamin = 4.#5.\n",
    "betamax = 7.#10."
   ]
  },
  {
   "cell_type": "code",
   "execution_count": 5,
   "metadata": {
    "collapsed": false
   },
   "outputs": [],
   "source": [
    "%%px\n",
    "\n",
    "import rebound\n",
    "import random\n",
    "import os\n",
    "import time\n",
    "\n",
    "def system():\n",
    "    random.seed(os.getpid()+time.time())\n",
    "    \n",
    "    beta = random.uniform(betamin, betamax)\n",
    "    a2 = a1 + beta*gamma*a1\n",
    "    a3 = a2 + beta*gamma*a2\n",
    "    \n",
    "    sim = rebound.Simulation()\n",
    "    sim.G = 4*np.pi**2\n",
    "    sim.exit_min_distance = a1*gamma # use smaller hill radius as exit condition\n",
    "    \n",
    "    \n",
    "    sim.add(m=1.)\n",
    "    sim.add(m=mp, a=a1, e=random.random()*emax, pomega=random.random()*2.*np.pi, inc=random.random()*imax, Omega=random.random()*2.*np.pi, f=random.random()*2.*np.pi)\n",
    "    sim.add(m=mp, a=a2, e=random.random()*emax, pomega=random.random()*2.*np.pi, inc=random.random()*imax, Omega=random.random()*2.*np.pi, f=random.random()*2.*np.pi)\n",
    "    sim.add(m=mp, a=a3, e=random.random()*emax, pomega=random.random()*2.*np.pi, inc=random.random()*imax, Omega=random.random()*2.*np.pi, f=random.random()*2.*np.pi)\n",
    "    sim.move_to_com()\n",
    "    ps = sim.particles\n",
    "    \n",
    "    tmax = maxorbs * ps[1].P # number of inner planet orbital periods to integrate\n",
    "    \n",
    "    stable = True # assume it's stable and update if not\n",
    "    try:\n",
    "        sim.integrate(tmax)\n",
    "    except rebound.Encounter as error:\n",
    "        stable = False\n",
    "\n",
    "    features = [stable, maxorbs, mp, gamma]\n",
    "    for p in ps[1:]:\n",
    "        features = features + [p.a, p.P, p.e, p.pomega, p.inc, p.Omega, p.f]\n",
    "        \n",
    "    return features"
   ]
  },
  {
   "cell_type": "code",
   "execution_count": null,
   "metadata": {
    "collapsed": false
   },
   "outputs": [],
   "source": [
    "%%px\n",
    "\n",
    "import pandas as pd\n",
    "\n",
    "columns = ('Stable', 'Norbits', 'Mplanet', 'RH/a')\n",
    "types = ('bool', 'int32', 'float32', 'float32')\n",
    "\n",
    "for i in ['1', '2', '3']:\n",
    "    columns += ('a'+i, 'P'+i, 'e'+i, 'pomega'+i, 'inc'+i, 'Omega'+i, 'f'+i)\n",
    "    types += tuple(['float32']*7)\n",
    "    \n",
    "vals = np.zeros(Nsystems, dtype=zip(columns, types))\n",
    "df = pd.DataFrame(vals)\n",
    "\n",
    "t0 = time.time()\n",
    "\n",
    "for i in range(Nsystems):\n",
    "    df.loc[i] = system()\n",
    "\n",
    "dt = time.time() - t0"
   ]
  },
  {
   "cell_type": "code",
   "execution_count": 9,
   "metadata": {
    "collapsed": false
   },
   "outputs": [
    {
     "data": {
      "text/html": [
       "<div>\n",
       "<table border=\"1\" class=\"dataframe\">\n",
       "  <thead>\n",
       "    <tr style=\"text-align: right;\">\n",
       "      <th></th>\n",
       "      <th>Stable</th>\n",
       "      <th>Norbits</th>\n",
       "      <th>Mplanet</th>\n",
       "      <th>RH/a</th>\n",
       "      <th>a1</th>\n",
       "      <th>P1</th>\n",
       "      <th>e1</th>\n",
       "      <th>pomega1</th>\n",
       "      <th>inc1</th>\n",
       "      <th>Omega1</th>\n",
       "      <th>...</th>\n",
       "      <th>inc2</th>\n",
       "      <th>Omega2</th>\n",
       "      <th>f2</th>\n",
       "      <th>a3</th>\n",
       "      <th>P3</th>\n",
       "      <th>e3</th>\n",
       "      <th>pomega3</th>\n",
       "      <th>inc3</th>\n",
       "      <th>Omega3</th>\n",
       "      <th>f3</th>\n",
       "    </tr>\n",
       "  </thead>\n",
       "  <tbody>\n",
       "    <tr>\n",
       "      <th>1000</th>\n",
       "      <td>False</td>\n",
       "      <td>1000000.0</td>\n",
       "      <td>0.000015</td>\n",
       "      <td>0.021544</td>\n",
       "      <td>0.051029</td>\n",
       "      <td>0.011527</td>\n",
       "      <td>0.036488</td>\n",
       "      <td>-0.785860</td>\n",
       "      <td>0.004167</td>\n",
       "      <td>0.909065</td>\n",
       "      <td>...</td>\n",
       "      <td>0.012544</td>\n",
       "      <td>-1.402713</td>\n",
       "      <td>5.571021</td>\n",
       "      <td>0.062228</td>\n",
       "      <td>0.015523</td>\n",
       "      <td>0.017087</td>\n",
       "      <td>1.921845</td>\n",
       "      <td>0.010081</td>\n",
       "      <td>2.195238</td>\n",
       "      <td>-2.620730</td>\n",
       "    </tr>\n",
       "    <tr>\n",
       "      <th>1001</th>\n",
       "      <td>True</td>\n",
       "      <td>1000000.0</td>\n",
       "      <td>0.000015</td>\n",
       "      <td>0.021544</td>\n",
       "      <td>0.050007</td>\n",
       "      <td>0.011183</td>\n",
       "      <td>0.005126</td>\n",
       "      <td>1.329891</td>\n",
       "      <td>0.007770</td>\n",
       "      <td>-0.986941</td>\n",
       "      <td>...</td>\n",
       "      <td>0.005684</td>\n",
       "      <td>0.983505</td>\n",
       "      <td>-3.774172</td>\n",
       "      <td>0.072321</td>\n",
       "      <td>0.019449</td>\n",
       "      <td>0.007358</td>\n",
       "      <td>-2.349656</td>\n",
       "      <td>0.005706</td>\n",
       "      <td>-0.817724</td>\n",
       "      <td>-1.323172</td>\n",
       "    </tr>\n",
       "    <tr>\n",
       "      <th>1002</th>\n",
       "      <td>False</td>\n",
       "      <td>1000000.0</td>\n",
       "      <td>0.000015</td>\n",
       "      <td>0.021544</td>\n",
       "      <td>0.047912</td>\n",
       "      <td>0.010487</td>\n",
       "      <td>0.091516</td>\n",
       "      <td>-2.727164</td>\n",
       "      <td>0.005107</td>\n",
       "      <td>-1.391558</td>\n",
       "      <td>...</td>\n",
       "      <td>0.001089</td>\n",
       "      <td>-2.684870</td>\n",
       "      <td>-0.729186</td>\n",
       "      <td>0.063547</td>\n",
       "      <td>0.016019</td>\n",
       "      <td>0.059333</td>\n",
       "      <td>0.252285</td>\n",
       "      <td>0.000591</td>\n",
       "      <td>2.633015</td>\n",
       "      <td>1.425648</td>\n",
       "    </tr>\n",
       "    <tr>\n",
       "      <th>1003</th>\n",
       "      <td>True</td>\n",
       "      <td>1000000.0</td>\n",
       "      <td>0.000015</td>\n",
       "      <td>0.021544</td>\n",
       "      <td>0.050023</td>\n",
       "      <td>0.011188</td>\n",
       "      <td>0.004134</td>\n",
       "      <td>-3.717838</td>\n",
       "      <td>0.008807</td>\n",
       "      <td>-1.306570</td>\n",
       "      <td>...</td>\n",
       "      <td>0.014346</td>\n",
       "      <td>2.752379</td>\n",
       "      <td>0.613621</td>\n",
       "      <td>0.064639</td>\n",
       "      <td>0.016434</td>\n",
       "      <td>0.005525</td>\n",
       "      <td>2.230810</td>\n",
       "      <td>0.005706</td>\n",
       "      <td>0.570917</td>\n",
       "      <td>-1.691514</td>\n",
       "    </tr>\n",
       "    <tr>\n",
       "      <th>1004</th>\n",
       "      <td>True</td>\n",
       "      <td>1000000.0</td>\n",
       "      <td>0.000015</td>\n",
       "      <td>0.021544</td>\n",
       "      <td>0.049999</td>\n",
       "      <td>0.011180</td>\n",
       "      <td>0.010164</td>\n",
       "      <td>-0.524282</td>\n",
       "      <td>0.002483</td>\n",
       "      <td>1.701424</td>\n",
       "      <td>...</td>\n",
       "      <td>0.005298</td>\n",
       "      <td>-0.566092</td>\n",
       "      <td>3.164369</td>\n",
       "      <td>0.071693</td>\n",
       "      <td>0.019196</td>\n",
       "      <td>0.003903</td>\n",
       "      <td>1.597361</td>\n",
       "      <td>0.006829</td>\n",
       "      <td>3.111856</td>\n",
       "      <td>-0.928524</td>\n",
       "    </tr>\n",
       "  </tbody>\n",
       "</table>\n",
       "<p>5 rows × 25 columns</p>\n",
       "</div>"
      ],
      "text/plain": [
       "     Stable    Norbits   Mplanet      RH/a        a1        P1        e1  \\\n",
       "1000  False  1000000.0  0.000015  0.021544  0.051029  0.011527  0.036488   \n",
       "1001   True  1000000.0  0.000015  0.021544  0.050007  0.011183  0.005126   \n",
       "1002  False  1000000.0  0.000015  0.021544  0.047912  0.010487  0.091516   \n",
       "1003   True  1000000.0  0.000015  0.021544  0.050023  0.011188  0.004134   \n",
       "1004   True  1000000.0  0.000015  0.021544  0.049999  0.011180  0.010164   \n",
       "\n",
       "       pomega1      inc1    Omega1    ...         inc2    Omega2        f2  \\\n",
       "1000 -0.785860  0.004167  0.909065    ...     0.012544 -1.402713  5.571021   \n",
       "1001  1.329891  0.007770 -0.986941    ...     0.005684  0.983505 -3.774172   \n",
       "1002 -2.727164  0.005107 -1.391558    ...     0.001089 -2.684870 -0.729186   \n",
       "1003 -3.717838  0.008807 -1.306570    ...     0.014346  2.752379  0.613621   \n",
       "1004 -0.524282  0.002483  1.701424    ...     0.005298 -0.566092  3.164369   \n",
       "\n",
       "            a3        P3        e3   pomega3      inc3    Omega3        f3  \n",
       "1000  0.062228  0.015523  0.017087  1.921845  0.010081  2.195238 -2.620730  \n",
       "1001  0.072321  0.019449  0.007358 -2.349656  0.005706 -0.817724 -1.323172  \n",
       "1002  0.063547  0.016019  0.059333  0.252285  0.000591  2.633015  1.425648  \n",
       "1003  0.064639  0.016434  0.005525  2.230810  0.005706  0.570917 -1.691514  \n",
       "1004  0.071693  0.019196  0.003903  1.597361  0.006829  3.111856 -0.928524  \n",
       "\n",
       "[5 rows x 25 columns]"
      ]
     },
     "execution_count": 9,
     "metadata": {},
     "output_type": "execute_result"
    }
   ],
   "source": [
    "import pandas as pd\n",
    "dfs = dv['df']\n",
    "dts = dv['dt']\n",
    "df = pd.concat(dfs, ignore_index=True)\n",
    "df.tail()"
   ]
  },
  {
   "cell_type": "code",
   "execution_count": 17,
   "metadata": {
    "collapsed": true
   },
   "outputs": [],
   "source": [
    "df.to_csv('1e6dataset.txt', encoding='ascii')"
   ]
  },
  {
   "cell_type": "code",
   "execution_count": 11,
   "metadata": {
    "collapsed": false
   },
   "outputs": [
    {
     "name": "stdout",
     "output_type": "stream",
     "text": [
      "Times of execution for each engine (s) = [44374.88495397568, 49278.750933885574, 44298.07342290878, 51160.483650922775, 42486.595427036285, 43320.219094991684, 50500.70640015602, 47145.03948378563, 46972.21672987938, 45972.759606838226, 45849.23973107338, 48379.56002497673, 47034.66717886925, 45261.85488986969, 41155.19060397148]\n"
     ]
    }
   ],
   "source": [
    "print(\"Times of execution for each engine (s) = {0}\".format(dts))"
   ]
  },
  {
   "cell_type": "code",
   "execution_count": 16,
   "metadata": {
    "collapsed": false
   },
   "outputs": [
    {
     "name": "stdout",
     "output_type": "stream",
     "text": [
      "Maximum (avg) integration time per system in hours = 0.212108141173\n"
     ]
    }
   ],
   "source": [
    "print(\"Maximum (avg) integration time per system in hours = {0}\".format(max(dts)/3600/67.))"
   ]
  },
  {
   "cell_type": "code",
   "execution_count": 18,
   "metadata": {
    "collapsed": true
   },
   "outputs": [],
   "source": [
    "cl.shutdown_cluster('homard', rc)"
   ]
  },
  {
   "cell_type": "code",
   "execution_count": null,
   "metadata": {
    "collapsed": true
   },
   "outputs": [],
   "source": []
  }
 ],
 "metadata": {
  "kernelspec": {
   "display_name": "Python 2",
   "language": "python",
   "name": "python2"
  },
  "language_info": {
   "codemirror_mode": {
    "name": "ipython",
    "version": 2
   },
   "file_extension": ".py",
   "mimetype": "text/x-python",
   "name": "python",
   "nbconvert_exporter": "python",
   "pygments_lexer": "ipython2",
   "version": "2.7.10"
  }
 },
 "nbformat": 4,
 "nbformat_minor": 0
}
