{
 "cells": [
  {
   "cell_type": "code",
   "execution_count": 192,
   "metadata": {
    "collapsed": false
   },
   "outputs": [],
   "source": [
    "from cluster import cluster as cl\n",
    "rc = cl.start_cluster('kingcrab', 24)"
   ]
  },
  {
   "cell_type": "code",
   "execution_count": 193,
   "metadata": {
    "collapsed": false
   },
   "outputs": [
    {
     "data": {
      "text/plain": [
       "[0,\n",
       " 1,\n",
       " 2,\n",
       " 3,\n",
       " 4,\n",
       " 5,\n",
       " 6,\n",
       " 7,\n",
       " 8,\n",
       " 9,\n",
       " 10,\n",
       " 11,\n",
       " 12,\n",
       " 13,\n",
       " 14,\n",
       " 15,\n",
       " 16,\n",
       " 17,\n",
       " 18,\n",
       " 19,\n",
       " 20,\n",
       " 21,\n",
       " 22,\n",
       " 23]"
      ]
     },
     "execution_count": 193,
     "metadata": {},
     "output_type": "execute_result"
    }
   ],
   "source": [
    "rc.ids"
   ]
  },
  {
   "cell_type": "code",
   "execution_count": 194,
   "metadata": {
    "collapsed": false
   },
   "outputs": [],
   "source": [
    "dv = rc[:]"
   ]
  },
  {
   "cell_type": "code",
   "execution_count": 195,
   "metadata": {
    "collapsed": false
   },
   "outputs": [],
   "source": [
    "%%px --local\n",
    "\n",
    "maxorbs = 1.e6\n",
    "\n",
    "import numpy as np\n",
    "import rebound\n",
    "import random\n",
    "import os\n",
    "import time\n",
    "\n",
    "mp = 5*3.e-6 # 5 earth masses\n",
    "gamma = (2./3.*mp)**(1./3.) # Hill radius with factor of a taken out\n",
    "a1 = 0.05 # semimajor axis of innermost planet in AU\n",
    "imax = 1.*np.pi/180. # maximum inclination (uniform distribution)\n",
    "emax = 2.e-2 # maximum eccentricity (uniform distribution)\n",
    "betamin = 5.\n",
    "betamax = 9."
   ]
  },
  {
   "cell_type": "code",
   "execution_count": 196,
   "metadata": {
    "collapsed": false
   },
   "outputs": [],
   "source": [
    "def system(params):\n",
    "    sim_id, dtfac = params\n",
    "    random.seed(sim_id)\n",
    "    \n",
    "    beta = random.uniform(betamin, betamax)\n",
    "    a2 = a1 + beta*gamma*a1\n",
    "    a3 = a2 + beta*gamma*a2\n",
    "    \n",
    "    sim = rebound.Simulation()\n",
    "    sim.integrator=\"whfast\"\n",
    "    sim.G = 4*np.pi**2\n",
    "    sim.exit_min_distance = a1*gamma # use smaller hill radius as exit condition\n",
    "    \n",
    "    \n",
    "    sim.add(m=1.)\n",
    "    sim.add(m=mp, a=a1, e=random.random()*emax, pomega=random.random()*2.*np.pi, inc=random.random()*imax, Omega=random.random()*2.*np.pi, f=random.random()*2.*np.pi)\n",
    "    sim.add(m=mp, a=a2, e=random.random()*emax, pomega=random.random()*2.*np.pi, inc=random.random()*imax, Omega=random.random()*2.*np.pi, f=random.random()*2.*np.pi)\n",
    "    sim.add(m=mp, a=a3, e=random.random()*emax, pomega=random.random()*2.*np.pi, inc=random.random()*imax, Omega=random.random()*2.*np.pi, f=random.random()*2.*np.pi)\n",
    "    sim.move_to_com()\n",
    "    ps = sim.particles\n",
    "    \n",
    "    P0 = ps[1].P\n",
    "    tmax = maxorbs * P0 # number of inner planet orbital periods to integrate\n",
    "    sim.dt = P0*dtfac\n",
    "    \n",
    "    features = [maxorbs, mp, gamma]\n",
    "    for p in ps[1:]:\n",
    "        features = features + [p.a, p.P, p.e, p.pomega, p.inc, p.Omega, p.f, p.x, p.y, p.z, p.vx, p.vy, p.vz]\n",
    "        \n",
    "    stable = [True] # assume it's stable and update if not\n",
    "    \n",
    "    E0 = sim.calculate_energy()\n",
    "    t0 = time.time()\n",
    "    \n",
    "    try:\n",
    "        sim.integrate(tmax)\n",
    "    except rebound.Encounter as error:\n",
    "        stable = [False]\n",
    "    \n",
    "    features = stable+[sim.t/P0]+features+[np.abs((sim.calculate_energy()-E0)/E0), time.time()-t0]\n",
    "    fname = '/mnt/raid-cita/dtamayo/Stability/data/whfastdt'+\"{:.0e}\".format(dtfac)+str(os.getpid())+'.csv'\n",
    "    \n",
    "    with open(fname, 'a') as f:\n",
    "        f.write(str(sim_id))\n",
    "        for feature in features:\n",
    "            f.write(',{0}'.format(feature))\n",
    "        f.write('\\n')\n",
    "        \n",
    "    return features"
   ]
  },
  {
   "cell_type": "code",
   "execution_count": 197,
   "metadata": {
    "collapsed": false
   },
   "outputs": [],
   "source": [
    "Nsystems=2000\n",
    "dtfacs = [0.08, 0.09, 0.2, 0.3]\n",
    "res = []\n",
    "for dtfac in dtfacs:\n",
    "    params = list(zip(list(range(Nsystems)), [dtfac]*Nsystems)) \n",
    "    res.append(dv.map(system, params))"
   ]
  },
  {
   "cell_type": "code",
   "execution_count": 184,
   "metadata": {
    "collapsed": false
   },
   "outputs": [
    {
     "name": "stdout",
     "output_type": "stream",
     "text": [
      "dtfac=0.06, length=2000\n",
      "dtfac=0.07, length=2000\n"
     ]
    }
   ],
   "source": [
    "import pandas as pd\n",
    "import numpy as np\n",
    "\n",
    "columns = ['Sim_ID', 'Stable', 'Norbits_instability', 'Norbits', 'Mplanet', 'RH/a']\n",
    "for i in ['1', '2', '3']:\n",
    "    columns += ['a'+i, 'P'+i, 'e'+i, 'pomega'+i, 'inc'+i, 'Omega'+i, 'f'+i, 'x'+i, 'y'+i, 'z'+i, 'vx'+i, 'vy'+i, 'vz'+i]\n",
    "columns += ['Rel_Eerr', 'integ_time']\n",
    "\n",
    "for dtfac in dtfacs:\n",
    "    frames = []\n",
    "    path = '/mnt/raid-cita/dtamayo/Stability/data/'\n",
    "    for f in os.listdir(path):\n",
    "            if f.startswith('whfastdt' + \"{:.0e}\".format(dtfac)):\n",
    "                frames.append(pd.read_csv(path+f, names=columns, index_col=0))\n",
    "\n",
    "    df = pd.concat(frames)\n",
    "    df = df.sort_index()\n",
    "    print(\"dtfac={0}, length={1}\".format(dtfac, df.shape[0]))\n",
    "    if df.shape[0] == Nsystems:\n",
    "        df.to_csv(path+'1e6datasetwhfastdt'+\"{:.0e}\".format(dtfac)+'.csv', encoding='ascii')"
   ]
  },
  {
   "cell_type": "code",
   "execution_count": 93,
   "metadata": {
    "collapsed": true
   },
   "outputs": [],
   "source": [
    "cl.shutdown_cluster('homard', rc)"
   ]
  },
  {
   "cell_type": "code",
   "execution_count": null,
   "metadata": {
    "collapsed": true
   },
   "outputs": [],
   "source": []
  }
 ],
 "metadata": {
  "kernelspec": {
   "display_name": "Python 2",
   "language": "python",
   "name": "python2"
  },
  "language_info": {
   "codemirror_mode": {
    "name": "ipython",
    "version": 2
   },
   "file_extension": ".py",
   "mimetype": "text/x-python",
   "name": "python",
   "nbconvert_exporter": "python",
   "pygments_lexer": "ipython2",
   "version": "2.7.10"
  }
 },
 "nbformat": 4,
 "nbformat_minor": 0
}
