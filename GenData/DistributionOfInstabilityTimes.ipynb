{
 "cells": [
  {
   "cell_type": "code",
   "execution_count": 3,
   "metadata": {
    "collapsed": false
   },
   "outputs": [
    {
     "name": "stdout",
     "output_type": "stream",
     "text": [
      "Waiting for connection file: /cita/h/home-2/dtamayo/.ipython/profile_default/security/ipcontroller-client.json\n"
     ]
    }
   ],
   "source": [
    "from cluster import cluster as cl\n",
    "rc = cl.start_cluster('homard', 14)"
   ]
  },
  {
   "cell_type": "code",
   "execution_count": 4,
   "metadata": {
    "collapsed": false
   },
   "outputs": [
    {
     "data": {
      "text/plain": [
       "[0, 1, 2, 3, 4, 5, 6, 7, 8, 9, 10, 11, 12, 13]"
      ]
     },
     "execution_count": 4,
     "metadata": {},
     "output_type": "execute_result"
    }
   ],
   "source": [
    "rc.ids"
   ]
  },
  {
   "cell_type": "code",
   "execution_count": 5,
   "metadata": {
    "collapsed": true
   },
   "outputs": [],
   "source": [
    "dv = rc[:]"
   ]
  },
  {
   "cell_type": "code",
   "execution_count": 6,
   "metadata": {
    "collapsed": true
   },
   "outputs": [],
   "source": [
    "%%px --local\n",
    "maxorbs = 1.e7\n",
    "\n",
    "import numpy as np\n",
    "import rebound\n",
    "import random\n",
    "import os\n",
    "import time\n",
    "\n",
    "a1min = 0.04\n",
    "a1max = 0.06\n",
    "#a1 = 0.05 # semimajor axis of innermost planet in AU\n",
    "\n",
    "mp = 5*3.e-6 # 5 earth masses\n",
    "gamma = (2./3.*mp)**(1./3.) # Hill radius with factor of a taken out\n",
    "imax = 1.*np.pi/180. # maximum inclination (uniform distribution)\n",
    "emax = 2.e-2 # maximum eccentricity (uniform distribution)\n",
    "betamin = 5.\n",
    "betamax = 9.\n",
    "Noutputs = 1000\n",
    "\n",
    "kicksize=1.e-15"
   ]
  },
  {
   "cell_type": "code",
   "execution_count": 9,
   "metadata": {
    "collapsed": true
   },
   "outputs": [],
   "source": [
    "def system(var):\n",
    "    sim_id, newseed = var\n",
    "    random.seed(sim_id)\n",
    "    \n",
    "    a1 = random.uniform(a1min, a1max)\n",
    "    beta1 = random.uniform(betamin, betamax)\n",
    "    a2 = a1 + beta1*gamma*a1\n",
    "    beta2 = random.uniform(betamin, betamax)\n",
    "    a3 = a2 + beta2*gamma*a2\n",
    "    \n",
    "    sim = rebound.Simulation()\n",
    "    sim.integrator=\"whfast\"\n",
    "    sim.G = 4*np.pi**2\n",
    "    sim.exit_min_distance = a1*gamma # use smaller hill radius as exit condition\n",
    "    \n",
    "    \n",
    "    sim.add(m=1.)\n",
    "    sim.add(m=mp, a=a1, e=random.random()*emax, pomega=random.random()*2.*np.pi, inc=random.random()*imax, Omega=random.random()*2.*np.pi, f=random.random()*2.*np.pi)\n",
    "    sim.add(m=mp, a=a2, e=random.random()*emax, pomega=random.random()*2.*np.pi, inc=random.random()*imax, Omega=random.random()*2.*np.pi, f=random.random()*2.*np.pi)\n",
    "    sim.add(m=mp, a=a3, e=random.random()*emax, pomega=random.random()*2.*np.pi, inc=random.random()*imax, Omega=random.random()*2.*np.pi, f=random.random()*2.*np.pi)\n",
    "    sim.move_to_com()\n",
    "    ps = sim.particles\n",
    "    \n",
    "    random.seed(newseed)\n",
    "    ps[1].x *= 1. + random.uniform(-1,1)*kicksize\n",
    "    ps[2].x *= 1. + random.uniform(-1,1)*kicksize\n",
    "    ps[3].x *= 1. + random.uniform(-1,1)*kicksize\n",
    "\n",
    "    P0 = ps[1].P\n",
    "    tmax = maxorbs * P0 # number of inner planet orbital periods to integrate\n",
    "    sim.dt = P0*0.07\n",
    "    \n",
    "    features = [maxorbs, mp, gamma]\n",
    "    for p in ps[1:]:\n",
    "        features = features + [p.a, p.P, p.e, p.pomega, p.inc, p.Omega, p.f, p.x, p.y, p.z, p.vx, p.vy, p.vz]\n",
    "    \n",
    "    stable = [True] # assume it's stable and update if not\n",
    "    E0 = sim.calculate_energy()\n",
    "    t0 = time.time()\n",
    "    \n",
    "    times = np.logspace(0,np.log10(tmax),Noutputs)\n",
    "    \n",
    "    try:\n",
    "        for t in times:\n",
    "            sim.integrate(t)\n",
    "    except rebound.Encounter as error:\n",
    "        pass\n",
    "\n",
    "    features = stable+[sim.t/P0]+features+[np.abs((sim.calculate_energy()-E0)/E0), time.time()-t0]\n",
    "    fname = '/mnt/raid-cita/dtamayo/Stability/data/distribution/distribution'+str(os.getpid())+'.csv'\n",
    "    with open(fname, 'a') as f:\n",
    "        f.write(str(sim.t/P0))\n",
    "        f.write('\\n')"
   ]
  },
  {
   "cell_type": "code",
   "execution_count": 40,
   "metadata": {
    "collapsed": true
   },
   "outputs": [],
   "source": [
    "sim_id=4283\n",
    "Nsystems = 1000\n",
    "newseeds = list(range(Nsystems))\n",
    "sim_ids = [sim_id]*Nsystems\n",
    "var = zip(sim_ids, newseeds)\n",
    "res = dv.map_async(systemfeatures, var)"
   ]
  },
  {
   "cell_type": "code",
   "execution_count": 39,
   "metadata": {
    "collapsed": false
   },
   "outputs": [],
   "source": [
    "def systemfeatures(var):\n",
    "    sim_id, newseed = var\n",
    "    random.seed(sim_id)\n",
    "    \n",
    "    a1 = random.uniform(a1min, a1max)\n",
    "    beta1 = random.uniform(betamin, betamax)\n",
    "    a2 = a1 + beta1*gamma*a1\n",
    "    beta2 = random.uniform(betamin, betamax)\n",
    "    a3 = a2 + beta2*gamma*a2\n",
    "    \n",
    "    sim = rebound.Simulation()\n",
    "    sim.integrator=\"whfast\"\n",
    "    sim.G = 4*np.pi**2\n",
    "    sim.exit_min_distance = a1*gamma # use smaller hill radius as exit condition\n",
    "    \n",
    "    \n",
    "    sim.add(m=1.)\n",
    "    sim.add(m=mp, a=a1, e=random.random()*emax, pomega=random.random()*2.*np.pi, inc=random.random()*imax, Omega=random.random()*2.*np.pi, f=random.random()*2.*np.pi)\n",
    "    sim.add(m=mp, a=a2, e=random.random()*emax, pomega=random.random()*2.*np.pi, inc=random.random()*imax, Omega=random.random()*2.*np.pi, f=random.random()*2.*np.pi)\n",
    "    sim.add(m=mp, a=a3, e=random.random()*emax, pomega=random.random()*2.*np.pi, inc=random.random()*imax, Omega=random.random()*2.*np.pi, f=random.random()*2.*np.pi)\n",
    "    sim.move_to_com()\n",
    "    ps = sim.particles\n",
    "    \n",
    "    random.seed(newseed)\n",
    "    ps[1].x *= 1. + random.uniform(-1,1)*kicksize\n",
    "    ps[2].x *= 1. + random.uniform(-1,1)*kicksize\n",
    "    ps[3].x *= 1. + random.uniform(-1,1)*kicksize\n",
    "\n",
    "    P0 = ps[1].P\n",
    "    tmax = maxorbs * P0 # number of inner planet orbital periods to integrate\n",
    "    sim.dt = P0*0.07\n",
    "    \n",
    "    sim.init_megno()\n",
    "    \n",
    "    features = [maxorbs, mp, gamma]\n",
    "    for p in ps[1:sim.N_real]:\n",
    "        features = features + [p.a, p.P, p.e, p.pomega, p.inc, p.Omega, p.f, p.x, p.y, p.z, p.vx, p.vy, p.vz]\n",
    "        \n",
    "    stable = [True] # assume it's stable and update if not\n",
    "    E0 = sim.calculate_energy()\n",
    "    t0 = time.time()\n",
    "    \n",
    "    times = np.linspace(0,1.e4*P0,2000)\n",
    "    outputs = '/mnt/raid-cita/dtamayo/Stability/data/distribution/outputs'+str(sim_id)+'/output'+str(newseed)+'.csv'\n",
    "\n",
    "    with open(outputs, 'w') as f:\n",
    "        try:\n",
    "            for t in times:\n",
    "                sim.integrate(t)\n",
    "                f.write(str(sim.t))\n",
    "                try:\n",
    "                    outs = [1./sim.calculate_lyapunov()]\n",
    "                except: \n",
    "                    outs = [np.inf]\n",
    "                for p in ps[1:sim.N_real]:\n",
    "                    outs = outs + [p.a, p.P, p.e, p.pomega, p.inc, p.Omega, p.f]\n",
    "\n",
    "                for out in outs:\n",
    "                    f.write(',{0}'.format(out))\n",
    "                f.write('\\n')\n",
    "        except rebound.Encounter as error:\n",
    "            stable = [False]\n",
    "            f.write(str(sim.t)) # this block added after the 1e7 dataset was generated for future use\n",
    "            try:\n",
    "                outs = [1./sim.calculate_lyapunov()]\n",
    "            except: \n",
    "                outs = [np.inf]\n",
    "            for p in ps[1:sim.N_real]:\n",
    "                outs = outs + [p.a, p.P, p.e, p.pomega, p.inc, p.Omega, p.f]\n",
    "\n",
    "            for out in outs:\n",
    "                f.write(',{0}'.format(out))\n",
    "            f.write('\\n')\n",
    "\n",
    "    try:\n",
    "        sim.integrate(1.e9*P0)\n",
    "    except rebound.Encounter as error:\n",
    "        stable = [False]\n",
    "        \n",
    "    features = stable+[sim.t/P0]+features+[np.abs((sim.calculate_energy()-E0)/E0), time.time()-t0]\n",
    "    fname = '/mnt/raid-cita/dtamayo/Stability/data/distribution/outputs'+str(sim_id)+'/distribution'+str(os.getpid())+'.csv'\n",
    "    with open(fname, 'a') as f:\n",
    "        f.write(str(newseed))\n",
    "        for feature in features:\n",
    "            f.write(',{0}'.format(feature))\n",
    "        f.write('\\n')\n",
    "    "
   ]
  },
  {
   "cell_type": "code",
   "execution_count": 41,
   "metadata": {
    "collapsed": false
   },
   "outputs": [
    {
     "data": {
      "text/plain": [
       "True"
      ]
     },
     "execution_count": 41,
     "metadata": {},
     "output_type": "execute_result"
    }
   ],
   "source": [
    "res.ready()"
   ]
  },
  {
   "cell_type": "code",
   "execution_count": 42,
   "metadata": {
    "collapsed": false
   },
   "outputs": [
    {
     "data": {
      "text/html": [
       "<div>\n",
       "<table border=\"1\" class=\"dataframe\">\n",
       "  <thead>\n",
       "    <tr style=\"text-align: right;\">\n",
       "      <th></th>\n",
       "      <th>Stable</th>\n",
       "      <th>Norbits_instability</th>\n",
       "      <th>Norbits</th>\n",
       "      <th>Mplanet</th>\n",
       "      <th>RH/a</th>\n",
       "      <th>a1</th>\n",
       "      <th>P1</th>\n",
       "      <th>e1</th>\n",
       "      <th>pomega1</th>\n",
       "      <th>inc1</th>\n",
       "      <th>...</th>\n",
       "      <th>Omega3</th>\n",
       "      <th>f3</th>\n",
       "      <th>x3</th>\n",
       "      <th>y3</th>\n",
       "      <th>z3</th>\n",
       "      <th>vx3</th>\n",
       "      <th>vy3</th>\n",
       "      <th>vz3</th>\n",
       "      <th>Rel_Eerr</th>\n",
       "      <th>integ_time</th>\n",
       "    </tr>\n",
       "    <tr>\n",
       "      <th>Sim_ID</th>\n",
       "      <th></th>\n",
       "      <th></th>\n",
       "      <th></th>\n",
       "      <th></th>\n",
       "      <th></th>\n",
       "      <th></th>\n",
       "      <th></th>\n",
       "      <th></th>\n",
       "      <th></th>\n",
       "      <th></th>\n",
       "      <th></th>\n",
       "      <th></th>\n",
       "      <th></th>\n",
       "      <th></th>\n",
       "      <th></th>\n",
       "      <th></th>\n",
       "      <th></th>\n",
       "      <th></th>\n",
       "      <th></th>\n",
       "      <th></th>\n",
       "      <th></th>\n",
       "    </tr>\n",
       "  </thead>\n",
       "  <tbody>\n",
       "    <tr>\n",
       "      <th>995</th>\n",
       "      <td>False</td>\n",
       "      <td>4.220480e+06</td>\n",
       "      <td>10000000.0</td>\n",
       "      <td>0.000015</td>\n",
       "      <td>0.021544</td>\n",
       "      <td>0.045652</td>\n",
       "      <td>0.009754</td>\n",
       "      <td>0.013522</td>\n",
       "      <td>1.325028</td>\n",
       "      <td>0.004092</td>\n",
       "      <td>...</td>\n",
       "      <td>-1.946087</td>\n",
       "      <td>-4.701002</td>\n",
       "      <td>-0.04958</td>\n",
       "      <td>0.035818</td>\n",
       "      <td>-0.000597</td>\n",
       "      <td>-15.283265</td>\n",
       "      <td>-20.29633</td>\n",
       "      <td>-0.068275</td>\n",
       "      <td>0.000133</td>\n",
       "      <td>188.618895</td>\n",
       "    </tr>\n",
       "    <tr>\n",
       "      <th>996</th>\n",
       "      <td>False</td>\n",
       "      <td>2.797826e+06</td>\n",
       "      <td>10000000.0</td>\n",
       "      <td>0.000015</td>\n",
       "      <td>0.021544</td>\n",
       "      <td>0.045652</td>\n",
       "      <td>0.009754</td>\n",
       "      <td>0.013522</td>\n",
       "      <td>1.325028</td>\n",
       "      <td>0.004092</td>\n",
       "      <td>...</td>\n",
       "      <td>-1.946087</td>\n",
       "      <td>-4.701002</td>\n",
       "      <td>-0.04958</td>\n",
       "      <td>0.035818</td>\n",
       "      <td>-0.000597</td>\n",
       "      <td>-15.283265</td>\n",
       "      <td>-20.29633</td>\n",
       "      <td>-0.068275</td>\n",
       "      <td>0.000038</td>\n",
       "      <td>126.096676</td>\n",
       "    </tr>\n",
       "    <tr>\n",
       "      <th>997</th>\n",
       "      <td>False</td>\n",
       "      <td>2.938650e+06</td>\n",
       "      <td>10000000.0</td>\n",
       "      <td>0.000015</td>\n",
       "      <td>0.021544</td>\n",
       "      <td>0.045652</td>\n",
       "      <td>0.009754</td>\n",
       "      <td>0.013522</td>\n",
       "      <td>1.325028</td>\n",
       "      <td>0.004092</td>\n",
       "      <td>...</td>\n",
       "      <td>-1.946087</td>\n",
       "      <td>-4.701002</td>\n",
       "      <td>-0.04958</td>\n",
       "      <td>0.035818</td>\n",
       "      <td>-0.000597</td>\n",
       "      <td>-15.283265</td>\n",
       "      <td>-20.29633</td>\n",
       "      <td>-0.068275</td>\n",
       "      <td>0.000031</td>\n",
       "      <td>131.513661</td>\n",
       "    </tr>\n",
       "    <tr>\n",
       "      <th>998</th>\n",
       "      <td>False</td>\n",
       "      <td>1.744611e+07</td>\n",
       "      <td>10000000.0</td>\n",
       "      <td>0.000015</td>\n",
       "      <td>0.021544</td>\n",
       "      <td>0.045652</td>\n",
       "      <td>0.009754</td>\n",
       "      <td>0.013522</td>\n",
       "      <td>1.325028</td>\n",
       "      <td>0.004092</td>\n",
       "      <td>...</td>\n",
       "      <td>-1.946087</td>\n",
       "      <td>-4.701002</td>\n",
       "      <td>-0.04958</td>\n",
       "      <td>0.035818</td>\n",
       "      <td>-0.000597</td>\n",
       "      <td>-15.283265</td>\n",
       "      <td>-20.29633</td>\n",
       "      <td>-0.068275</td>\n",
       "      <td>0.006207</td>\n",
       "      <td>777.151159</td>\n",
       "    </tr>\n",
       "    <tr>\n",
       "      <th>999</th>\n",
       "      <td>False</td>\n",
       "      <td>2.035919e+06</td>\n",
       "      <td>10000000.0</td>\n",
       "      <td>0.000015</td>\n",
       "      <td>0.021544</td>\n",
       "      <td>0.045652</td>\n",
       "      <td>0.009754</td>\n",
       "      <td>0.013522</td>\n",
       "      <td>1.325028</td>\n",
       "      <td>0.004092</td>\n",
       "      <td>...</td>\n",
       "      <td>-1.946087</td>\n",
       "      <td>-4.701002</td>\n",
       "      <td>-0.04958</td>\n",
       "      <td>0.035818</td>\n",
       "      <td>-0.000597</td>\n",
       "      <td>-15.283265</td>\n",
       "      <td>-20.29633</td>\n",
       "      <td>-0.068275</td>\n",
       "      <td>0.001526</td>\n",
       "      <td>91.547254</td>\n",
       "    </tr>\n",
       "  </tbody>\n",
       "</table>\n",
       "<p>5 rows × 46 columns</p>\n",
       "</div>"
      ],
      "text/plain": [
       "       Stable  Norbits_instability     Norbits   Mplanet      RH/a        a1  \\\n",
       "Sim_ID                                                                         \n",
       "995     False         4.220480e+06  10000000.0  0.000015  0.021544  0.045652   \n",
       "996     False         2.797826e+06  10000000.0  0.000015  0.021544  0.045652   \n",
       "997     False         2.938650e+06  10000000.0  0.000015  0.021544  0.045652   \n",
       "998     False         1.744611e+07  10000000.0  0.000015  0.021544  0.045652   \n",
       "999     False         2.035919e+06  10000000.0  0.000015  0.021544  0.045652   \n",
       "\n",
       "              P1        e1   pomega1      inc1     ...        Omega3  \\\n",
       "Sim_ID                                             ...                 \n",
       "995     0.009754  0.013522  1.325028  0.004092     ...     -1.946087   \n",
       "996     0.009754  0.013522  1.325028  0.004092     ...     -1.946087   \n",
       "997     0.009754  0.013522  1.325028  0.004092     ...     -1.946087   \n",
       "998     0.009754  0.013522  1.325028  0.004092     ...     -1.946087   \n",
       "999     0.009754  0.013522  1.325028  0.004092     ...     -1.946087   \n",
       "\n",
       "              f3       x3        y3        z3        vx3       vy3       vz3  \\\n",
       "Sim_ID                                                                         \n",
       "995    -4.701002 -0.04958  0.035818 -0.000597 -15.283265 -20.29633 -0.068275   \n",
       "996    -4.701002 -0.04958  0.035818 -0.000597 -15.283265 -20.29633 -0.068275   \n",
       "997    -4.701002 -0.04958  0.035818 -0.000597 -15.283265 -20.29633 -0.068275   \n",
       "998    -4.701002 -0.04958  0.035818 -0.000597 -15.283265 -20.29633 -0.068275   \n",
       "999    -4.701002 -0.04958  0.035818 -0.000597 -15.283265 -20.29633 -0.068275   \n",
       "\n",
       "        Rel_Eerr  integ_time  \n",
       "Sim_ID                        \n",
       "995     0.000133  188.618895  \n",
       "996     0.000038  126.096676  \n",
       "997     0.000031  131.513661  \n",
       "998     0.006207  777.151159  \n",
       "999     0.001526   91.547254  \n",
       "\n",
       "[5 rows x 46 columns]"
      ]
     },
     "execution_count": 42,
     "metadata": {},
     "output_type": "execute_result"
    }
   ],
   "source": [
    "import pandas as pd\n",
    "import numpy as np\n",
    "import os\n",
    "\n",
    "columns = ['Sim_ID', 'Stable', 'Norbits_instability', 'Norbits', 'Mplanet', 'RH/a']\n",
    "for i in ['1', '2', '3']:\n",
    "    columns += ['a'+i, 'P'+i, 'e'+i, 'pomega'+i, 'inc'+i, 'Omega'+i, 'f'+i, 'x'+i, 'y'+i, 'z'+i, 'vx'+i, 'vy'+i, 'vz'+i]\n",
    "columns += ['Rel_Eerr', 'integ_time']\n",
    "\n",
    "frames = []\n",
    "path = '/mnt/raid-cita/dtamayo/Stability/data/distribution/outputs'+str(sim_id)+'/'\n",
    "for f in os.listdir(path):\n",
    "        if f.startswith('distribution'):\n",
    "            frames.append(pd.read_csv(path+f, names=columns, index_col=0))\n",
    "\n",
    "df = pd.concat(frames)\n",
    "df = df.sort_index()\n",
    "df.tail()"
   ]
  },
  {
   "cell_type": "code",
   "execution_count": 43,
   "metadata": {
    "collapsed": false
   },
   "outputs": [
    {
     "data": {
      "text/plain": [
       "4283"
      ]
     },
     "execution_count": 43,
     "metadata": {},
     "output_type": "execute_result"
    }
   ],
   "source": [
    "sim_id"
   ]
  },
  {
   "cell_type": "code",
   "execution_count": 44,
   "metadata": {
    "collapsed": true
   },
   "outputs": [],
   "source": [
    "df.to_csv(path+'distribution'+str(sim_id)+'.csv', encoding='ascii')"
   ]
  },
  {
   "cell_type": "code",
   "execution_count": null,
   "metadata": {
    "collapsed": true
   },
   "outputs": [],
   "source": [
    "cl.shutdown_cluster('homard', rc)"
   ]
  },
  {
   "cell_type": "code",
   "execution_count": null,
   "metadata": {
    "collapsed": true
   },
   "outputs": [],
   "source": []
  }
 ],
 "metadata": {
  "kernelspec": {
   "display_name": "Python 2",
   "language": "python",
   "name": "python2"
  },
  "language_info": {
   "codemirror_mode": {
    "name": "ipython",
    "version": 2
   },
   "file_extension": ".py",
   "mimetype": "text/x-python",
   "name": "python",
   "nbconvert_exporter": "python",
   "pygments_lexer": "ipython2",
   "version": "2.7.10"
  }
 },
 "nbformat": 4,
 "nbformat_minor": 1
}
