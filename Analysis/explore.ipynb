{
 "cells": [
  {
   "cell_type": "markdown",
   "metadata": {},
   "source": [
    "# Planetary Stability\n",
    "\n",
    "The dataset consists of 1500 artifically generated 3-planet systems.  All planets have a mass of $5M_\\oplus$, which I think is roughly where the Kepler sample should peak.  They were all integrated for 1 million orbits of the inner planet (initialized at 0.05 AU), and the stable column shows whether the system survives or not.  The next two planets were initialized somewhere between 0-10 Hill radii away.  Each run records the initial orbital parameters of each of the 3 planets.  Below is a description of each column, and see below for a figure showing each angle:\n",
    "\n",
    "* ID: Unique Identifier\n",
    "* Stable: Whether system was stable after 1e6 inner orbits\n",
    "* Norbits: 1e6 for all\n",
    "* RH/a: The Hill radius, scaled by the semimajor axis.  This just depeneds on the planet/star mass ratio so is the same for all.\n",
    "\n",
    "For each planet (numbered 1,2,3), we record the initial\n",
    "\n",
    "* a: semimajor axis\n",
    "* e: eccentricity\n",
    "* pomega: longitude of pericenter (what direction an eccentric orbit is oriented, this is Omega + omega in figure below, useful for low inclination orbits)\n",
    "* inc: inclination\n",
    "* Omega: longitude of the node (how the orbital plane is oriented)\n",
    "* f: true anomaly: how far the planet started from pericenter.\n",
    "\n",
    "See below for an image showing the angles.\n",
    "\n",
    "All planets were simply started with e and inc distributed uniformly between 0 and 0.01 (radians for inc).  \n",
    "\n",
    "![orbits](images/orbit.png)"
   ]
  },
  {
   "cell_type": "markdown",
   "metadata": {},
   "source": [
    "I made two data sets (one with ~1000 and one with ~500).  The combined dataset is called data/1e6data.csv:"
   ]
  },
  {
   "cell_type": "code",
   "execution_count": 1,
   "metadata": {
    "collapsed": false
   },
   "outputs": [
    {
     "data": {
      "text/html": [
       "<div>\n",
       "<table border=\"1\" class=\"dataframe\">\n",
       "  <thead>\n",
       "    <tr style=\"text-align: right;\">\n",
       "      <th></th>\n",
       "      <th>Stable</th>\n",
       "      <th>Norbits</th>\n",
       "      <th>Mplanet</th>\n",
       "      <th>RH/a</th>\n",
       "      <th>a1</th>\n",
       "      <th>P1</th>\n",
       "      <th>e1</th>\n",
       "      <th>pomega1</th>\n",
       "      <th>inc1</th>\n",
       "      <th>Omega1</th>\n",
       "      <th>...</th>\n",
       "      <th>inc2</th>\n",
       "      <th>Omega2</th>\n",
       "      <th>f2</th>\n",
       "      <th>a3</th>\n",
       "      <th>P3</th>\n",
       "      <th>e3</th>\n",
       "      <th>pomega3</th>\n",
       "      <th>inc3</th>\n",
       "      <th>Omega3</th>\n",
       "      <th>f3</th>\n",
       "    </tr>\n",
       "    <tr>\n",
       "      <th>ID</th>\n",
       "      <th></th>\n",
       "      <th></th>\n",
       "      <th></th>\n",
       "      <th></th>\n",
       "      <th></th>\n",
       "      <th></th>\n",
       "      <th></th>\n",
       "      <th></th>\n",
       "      <th></th>\n",
       "      <th></th>\n",
       "      <th></th>\n",
       "      <th></th>\n",
       "      <th></th>\n",
       "      <th></th>\n",
       "      <th></th>\n",
       "      <th></th>\n",
       "      <th></th>\n",
       "      <th></th>\n",
       "      <th></th>\n",
       "      <th></th>\n",
       "      <th></th>\n",
       "    </tr>\n",
       "  </thead>\n",
       "  <tbody>\n",
       "    <tr>\n",
       "      <th>1495</th>\n",
       "      <td>False</td>\n",
       "      <td>1000000.0</td>\n",
       "      <td>0.000015</td>\n",
       "      <td>0.021544</td>\n",
       "      <td>0.050077</td>\n",
       "      <td>0.011206</td>\n",
       "      <td>0.042378</td>\n",
       "      <td>-0.363560</td>\n",
       "      <td>0.011013</td>\n",
       "      <td>-0.670975</td>\n",
       "      <td>...</td>\n",
       "      <td>0.003859</td>\n",
       "      <td>3.031180</td>\n",
       "      <td>-1.069728</td>\n",
       "      <td>0.065008</td>\n",
       "      <td>0.016574</td>\n",
       "      <td>0.043620</td>\n",
       "      <td>0.502205</td>\n",
       "      <td>0.005477</td>\n",
       "      <td>0.221792</td>\n",
       "      <td>1.924513</td>\n",
       "    </tr>\n",
       "    <tr>\n",
       "      <th>1496</th>\n",
       "      <td>False</td>\n",
       "      <td>1000000.0</td>\n",
       "      <td>0.000015</td>\n",
       "      <td>0.021544</td>\n",
       "      <td>0.049419</td>\n",
       "      <td>0.010986</td>\n",
       "      <td>0.031753</td>\n",
       "      <td>-5.286663</td>\n",
       "      <td>0.013705</td>\n",
       "      <td>-3.133337</td>\n",
       "      <td>...</td>\n",
       "      <td>0.008787</td>\n",
       "      <td>-2.197973</td>\n",
       "      <td>-3.304425</td>\n",
       "      <td>0.060634</td>\n",
       "      <td>0.014930</td>\n",
       "      <td>0.040648</td>\n",
       "      <td>1.662655</td>\n",
       "      <td>0.003963</td>\n",
       "      <td>-0.432332</td>\n",
       "      <td>-0.462635</td>\n",
       "    </tr>\n",
       "    <tr>\n",
       "      <th>1497</th>\n",
       "      <td>False</td>\n",
       "      <td>1000000.0</td>\n",
       "      <td>0.000015</td>\n",
       "      <td>0.021544</td>\n",
       "      <td>0.049480</td>\n",
       "      <td>0.011006</td>\n",
       "      <td>0.069293</td>\n",
       "      <td>2.372936</td>\n",
       "      <td>0.006937</td>\n",
       "      <td>3.068393</td>\n",
       "      <td>...</td>\n",
       "      <td>0.006520</td>\n",
       "      <td>1.422740</td>\n",
       "      <td>-0.526362</td>\n",
       "      <td>0.063639</td>\n",
       "      <td>0.016054</td>\n",
       "      <td>0.058353</td>\n",
       "      <td>-1.045209</td>\n",
       "      <td>0.017926</td>\n",
       "      <td>-0.082765</td>\n",
       "      <td>0.235402</td>\n",
       "    </tr>\n",
       "    <tr>\n",
       "      <th>1498</th>\n",
       "      <td>False</td>\n",
       "      <td>1000000.0</td>\n",
       "      <td>0.000015</td>\n",
       "      <td>0.021544</td>\n",
       "      <td>0.049251</td>\n",
       "      <td>0.010930</td>\n",
       "      <td>0.016901</td>\n",
       "      <td>2.892971</td>\n",
       "      <td>0.016794</td>\n",
       "      <td>1.484133</td>\n",
       "      <td>...</td>\n",
       "      <td>0.014752</td>\n",
       "      <td>-2.369802</td>\n",
       "      <td>2.474110</td>\n",
       "      <td>0.061253</td>\n",
       "      <td>0.015159</td>\n",
       "      <td>0.030802</td>\n",
       "      <td>0.270703</td>\n",
       "      <td>0.034449</td>\n",
       "      <td>0.287326</td>\n",
       "      <td>-0.049500</td>\n",
       "    </tr>\n",
       "    <tr>\n",
       "      <th>1499</th>\n",
       "      <td>False</td>\n",
       "      <td>1000000.0</td>\n",
       "      <td>0.000015</td>\n",
       "      <td>0.021544</td>\n",
       "      <td>0.048381</td>\n",
       "      <td>0.010642</td>\n",
       "      <td>0.045662</td>\n",
       "      <td>3.261847</td>\n",
       "      <td>0.008018</td>\n",
       "      <td>1.181873</td>\n",
       "      <td>...</td>\n",
       "      <td>0.002352</td>\n",
       "      <td>1.869814</td>\n",
       "      <td>3.493080</td>\n",
       "      <td>0.064895</td>\n",
       "      <td>0.016531</td>\n",
       "      <td>0.056288</td>\n",
       "      <td>-2.734529</td>\n",
       "      <td>0.019173</td>\n",
       "      <td>-2.520570</td>\n",
       "      <td>0.150500</td>\n",
       "    </tr>\n",
       "  </tbody>\n",
       "</table>\n",
       "<p>5 rows × 25 columns</p>\n",
       "</div>"
      ],
      "text/plain": [
       "     Stable    Norbits   Mplanet      RH/a        a1        P1        e1  \\\n",
       "ID                                                                         \n",
       "1495  False  1000000.0  0.000015  0.021544  0.050077  0.011206  0.042378   \n",
       "1496  False  1000000.0  0.000015  0.021544  0.049419  0.010986  0.031753   \n",
       "1497  False  1000000.0  0.000015  0.021544  0.049480  0.011006  0.069293   \n",
       "1498  False  1000000.0  0.000015  0.021544  0.049251  0.010930  0.016901   \n",
       "1499  False  1000000.0  0.000015  0.021544  0.048381  0.010642  0.045662   \n",
       "\n",
       "       pomega1      inc1    Omega1    ...         inc2    Omega2        f2  \\\n",
       "ID                                    ...                                    \n",
       "1495 -0.363560  0.011013 -0.670975    ...     0.003859  3.031180 -1.069728   \n",
       "1496 -5.286663  0.013705 -3.133337    ...     0.008787 -2.197973 -3.304425   \n",
       "1497  2.372936  0.006937  3.068393    ...     0.006520  1.422740 -0.526362   \n",
       "1498  2.892971  0.016794  1.484133    ...     0.014752 -2.369802  2.474110   \n",
       "1499  3.261847  0.008018  1.181873    ...     0.002352  1.869814  3.493080   \n",
       "\n",
       "            a3        P3        e3   pomega3      inc3    Omega3        f3  \n",
       "ID                                                                          \n",
       "1495  0.065008  0.016574  0.043620  0.502205  0.005477  0.221792  1.924513  \n",
       "1496  0.060634  0.014930  0.040648  1.662655  0.003963 -0.432332 -0.462635  \n",
       "1497  0.063639  0.016054  0.058353 -1.045209  0.017926 -0.082765  0.235402  \n",
       "1498  0.061253  0.015159  0.030802  0.270703  0.034449  0.287326 -0.049500  \n",
       "1499  0.064895  0.016531  0.056288 -2.734529  0.019173 -2.520570  0.150500  \n",
       "\n",
       "[5 rows x 25 columns]"
      ]
     },
     "execution_count": 1,
     "metadata": {},
     "output_type": "execute_result"
    }
   ],
   "source": [
    "import pandas as pd\n",
    "df = pd.read_csv('../data/1e6data.csv', index_col=0)\n",
    "df.tail()"
   ]
  },
  {
   "cell_type": "markdown",
   "metadata": {},
   "source": [
    "I tried to engineer things so about half of the systems were stable and half unstable.  This should help the analysis:"
   ]
  },
  {
   "cell_type": "code",
   "execution_count": 2,
   "metadata": {
    "collapsed": false
   },
   "outputs": [
    {
     "data": {
      "text/plain": [
       "<matplotlib.axes._subplots.AxesSubplot at 0x11022bb38>"
      ]
     },
     "execution_count": 2,
     "metadata": {},
     "output_type": "execute_result"
    },
    {
     "data": {
      "image/png": "[encoded data removed]",
      "text/plain": [
       "<matplotlib.figure.Figure at 0x10d53ae48>"
      ]
     },
     "metadata": {},
     "output_type": "display_data"
    }
   ],
   "source": [
    "%matplotlib inline\n",
    "import seaborn\n",
    "df['Stable'].hist()"
   ]
  },
  {
   "cell_type": "markdown",
   "metadata": {},
   "source": [
    "One thing we know is that the planets' separation in Hill radii should matter strongly.  Most previous worked has focused on this:"
   ]
  },
  {
   "cell_type": "code",
   "execution_count": 3,
   "metadata": {
    "collapsed": true
   },
   "outputs": [],
   "source": [
    "def minHillSep(system):\n",
    "    def HillSepPair(a1,a2,rha):\n",
    "        mina = min(a1, a2)\n",
    "        return abs(a2-a1)/(mina*rha)\n",
    "    a12 = HillSepPair(system['a1'], system['a2'], system['RH/a'])\n",
    "    a23 = HillSepPair(system['a2'], system['a3'], system['RH/a'])\n",
    "    return min(a12,a23)"
   ]
  },
  {
   "cell_type": "code",
   "execution_count": 4,
   "metadata": {
    "collapsed": false
   },
   "outputs": [
    {
     "data": {
      "text/html": [
       "<div>\n",
       "<table border=\"1\" class=\"dataframe\">\n",
       "  <thead>\n",
       "    <tr style=\"text-align: right;\">\n",
       "      <th></th>\n",
       "      <th>Stable</th>\n",
       "      <th>Norbits</th>\n",
       "      <th>Mplanet</th>\n",
       "      <th>RH/a</th>\n",
       "      <th>a1</th>\n",
       "      <th>P1</th>\n",
       "      <th>e1</th>\n",
       "      <th>pomega1</th>\n",
       "      <th>inc1</th>\n",
       "      <th>Omega1</th>\n",
       "      <th>...</th>\n",
       "      <th>Omega2</th>\n",
       "      <th>f2</th>\n",
       "      <th>a3</th>\n",
       "      <th>P3</th>\n",
       "      <th>e3</th>\n",
       "      <th>pomega3</th>\n",
       "      <th>inc3</th>\n",
       "      <th>Omega3</th>\n",
       "      <th>f3</th>\n",
       "      <th>minHillSep</th>\n",
       "    </tr>\n",
       "    <tr>\n",
       "      <th>ID</th>\n",
       "      <th></th>\n",
       "      <th></th>\n",
       "      <th></th>\n",
       "      <th></th>\n",
       "      <th></th>\n",
       "      <th></th>\n",
       "      <th></th>\n",
       "      <th></th>\n",
       "      <th></th>\n",
       "      <th></th>\n",
       "      <th></th>\n",
       "      <th></th>\n",
       "      <th></th>\n",
       "      <th></th>\n",
       "      <th></th>\n",
       "      <th></th>\n",
       "      <th></th>\n",
       "      <th></th>\n",
       "      <th></th>\n",
       "      <th></th>\n",
       "      <th></th>\n",
       "    </tr>\n",
       "  </thead>\n",
       "  <tbody>\n",
       "    <tr>\n",
       "      <th>0</th>\n",
       "      <td>True</td>\n",
       "      <td>1000000.0</td>\n",
       "      <td>0.000015</td>\n",
       "      <td>0.021544</td>\n",
       "      <td>0.050005</td>\n",
       "      <td>0.011182</td>\n",
       "      <td>0.005776</td>\n",
       "      <td>0.238565</td>\n",
       "      <td>0.004611</td>\n",
       "      <td>-0.081291</td>\n",
       "      <td>...</td>\n",
       "      <td>1.631981</td>\n",
       "      <td>-5.303298</td>\n",
       "      <td>0.066488</td>\n",
       "      <td>0.017144</td>\n",
       "      <td>0.009993</td>\n",
       "      <td>-1.222611</td>\n",
       "      <td>0.013411</td>\n",
       "      <td>1.838312</td>\n",
       "      <td>5.118309</td>\n",
       "      <td>7.087599</td>\n",
       "    </tr>\n",
       "    <tr>\n",
       "      <th>1</th>\n",
       "      <td>True</td>\n",
       "      <td>1000000.0</td>\n",
       "      <td>0.000015</td>\n",
       "      <td>0.021544</td>\n",
       "      <td>0.049997</td>\n",
       "      <td>0.011179</td>\n",
       "      <td>0.005504</td>\n",
       "      <td>-1.829833</td>\n",
       "      <td>0.014697</td>\n",
       "      <td>-1.078126</td>\n",
       "      <td>...</td>\n",
       "      <td>-1.144552</td>\n",
       "      <td>-1.314599</td>\n",
       "      <td>0.069424</td>\n",
       "      <td>0.018292</td>\n",
       "      <td>0.011354</td>\n",
       "      <td>3.098720</td>\n",
       "      <td>0.004279</td>\n",
       "      <td>0.624017</td>\n",
       "      <td>-5.264576</td>\n",
       "      <td>8.275992</td>\n",
       "    </tr>\n",
       "    <tr>\n",
       "      <th>2</th>\n",
       "      <td>False</td>\n",
       "      <td>1000000.0</td>\n",
       "      <td>0.000015</td>\n",
       "      <td>0.021544</td>\n",
       "      <td>0.047969</td>\n",
       "      <td>0.010506</td>\n",
       "      <td>0.074062</td>\n",
       "      <td>2.319163</td>\n",
       "      <td>0.006916</td>\n",
       "      <td>-0.625531</td>\n",
       "      <td>...</td>\n",
       "      <td>-1.288583</td>\n",
       "      <td>-3.124795</td>\n",
       "      <td>0.066854</td>\n",
       "      <td>0.017285</td>\n",
       "      <td>0.112981</td>\n",
       "      <td>-1.368589</td>\n",
       "      <td>0.004592</td>\n",
       "      <td>0.174013</td>\n",
       "      <td>-0.644255</td>\n",
       "      <td>7.711845</td>\n",
       "    </tr>\n",
       "    <tr>\n",
       "      <th>3</th>\n",
       "      <td>False</td>\n",
       "      <td>1000000.0</td>\n",
       "      <td>0.000015</td>\n",
       "      <td>0.021544</td>\n",
       "      <td>0.047724</td>\n",
       "      <td>0.010425</td>\n",
       "      <td>0.082000</td>\n",
       "      <td>2.891776</td>\n",
       "      <td>0.010222</td>\n",
       "      <td>0.869752</td>\n",
       "      <td>...</td>\n",
       "      <td>-2.319534</td>\n",
       "      <td>-2.894826</td>\n",
       "      <td>0.068622</td>\n",
       "      <td>0.017976</td>\n",
       "      <td>0.067250</td>\n",
       "      <td>-2.265014</td>\n",
       "      <td>0.006661</td>\n",
       "      <td>-0.807832</td>\n",
       "      <td>-0.372393</td>\n",
       "      <td>9.184164</td>\n",
       "    </tr>\n",
       "    <tr>\n",
       "      <th>4</th>\n",
       "      <td>True</td>\n",
       "      <td>1000000.0</td>\n",
       "      <td>0.000015</td>\n",
       "      <td>0.021544</td>\n",
       "      <td>0.049995</td>\n",
       "      <td>0.011179</td>\n",
       "      <td>0.004748</td>\n",
       "      <td>2.438079</td>\n",
       "      <td>0.013462</td>\n",
       "      <td>-0.013445</td>\n",
       "      <td>...</td>\n",
       "      <td>-1.016651</td>\n",
       "      <td>-3.573545</td>\n",
       "      <td>0.067997</td>\n",
       "      <td>0.017731</td>\n",
       "      <td>0.006454</td>\n",
       "      <td>2.426652</td>\n",
       "      <td>0.001658</td>\n",
       "      <td>-0.559482</td>\n",
       "      <td>-3.150335</td>\n",
       "      <td>7.714585</td>\n",
       "    </tr>\n",
       "  </tbody>\n",
       "</table>\n",
       "<p>5 rows × 26 columns</p>\n",
       "</div>"
      ],
      "text/plain": [
       "   Stable    Norbits   Mplanet      RH/a        a1        P1        e1  \\\n",
       "ID                                                                       \n",
       "0    True  1000000.0  0.000015  0.021544  0.050005  0.011182  0.005776   \n",
       "1    True  1000000.0  0.000015  0.021544  0.049997  0.011179  0.005504   \n",
       "2   False  1000000.0  0.000015  0.021544  0.047969  0.010506  0.074062   \n",
       "3   False  1000000.0  0.000015  0.021544  0.047724  0.010425  0.082000   \n",
       "4    True  1000000.0  0.000015  0.021544  0.049995  0.011179  0.004748   \n",
       "\n",
       "     pomega1      inc1    Omega1     ...        Omega2        f2        a3  \\\n",
       "ID                                   ...                                     \n",
       "0   0.238565  0.004611 -0.081291     ...      1.631981 -5.303298  0.066488   \n",
       "1  -1.829833  0.014697 -1.078126     ...     -1.144552 -1.314599  0.069424   \n",
       "2   2.319163  0.006916 -0.625531     ...     -1.288583 -3.124795  0.066854   \n",
       "3   2.891776  0.010222  0.869752     ...     -2.319534 -2.894826  0.068622   \n",
       "4   2.438079  0.013462 -0.013445     ...     -1.016651 -3.573545  0.067997   \n",
       "\n",
       "          P3        e3   pomega3      inc3    Omega3        f3  minHillSep  \n",
       "ID                                                                          \n",
       "0   0.017144  0.009993 -1.222611  0.013411  1.838312  5.118309    7.087599  \n",
       "1   0.018292  0.011354  3.098720  0.004279  0.624017 -5.264576    8.275992  \n",
       "2   0.017285  0.112981 -1.368589  0.004592  0.174013 -0.644255    7.711845  \n",
       "3   0.017976  0.067250 -2.265014  0.006661 -0.807832 -0.372393    9.184164  \n",
       "4   0.017731  0.006454  2.426652  0.001658 -0.559482 -3.150335    7.714585  \n",
       "\n",
       "[5 rows x 26 columns]"
      ]
     },
     "execution_count": 4,
     "metadata": {},
     "output_type": "execute_result"
    }
   ],
   "source": [
    "df['minHillSep'] = df.apply(minHillSep, axis=1)\n",
    "df.head()"
   ]
  },
  {
   "cell_type": "code",
   "execution_count": 5,
   "metadata": {
    "collapsed": false
   },
   "outputs": [],
   "source": [
    "stable = df['Stable'].values\n",
    "K = df['minHillSep'].values"
   ]
  },
  {
   "cell_type": "code",
   "execution_count": 6,
   "metadata": {
    "collapsed": false
   },
   "outputs": [
    {
     "data": {
      "text/plain": [
       "<matplotlib.text.Text at 0x1129b3198>"
      ]
     },
     "execution_count": 6,
     "metadata": {},
     "output_type": "execute_result"
    },
    {
     "data": {
      "image/png": "[encoded data removed]",
      "text/plain": [
       "<matplotlib.figure.Figure at 0x112746710>"
      ]
     },
     "metadata": {},
     "output_type": "display_data"
    }
   ],
   "source": [
    "%matplotlib inline\n",
    "import matplotlib.pyplot as plt\n",
    "fig, ax = plt.subplots(figsize=(15,5))\n",
    "ax.plot(K, stable, '.', markersize=15)\n",
    "ax.set_xlabel('K (Minimum Separation in Hill Radii)', fontsize=18)\n",
    "ax.set_ylabel('Stable over 1 Million Orbits', fontsize=18)"
   ]
  },
  {
   "cell_type": "markdown",
   "metadata": {},
   "source": [
    "The above shows that the separation in Hill radii isn't ALL that's going on though (otherwise I think we'd expect to see a smoother transition at some value of K from unstable to stable).  We think this picture is getting modified by resonances (near-integer ratios between orbital periods between planets).  See this plot by Alysa and Christa for Earth-mass planets, which is plotting the same thing on the x axis, but instead the time it takes for the system to go unstable on the y axis:\n",
    "\n",
    "![instability](images/log_t_vs_beta.png)"
   ]
  },
  {
   "cell_type": "markdown",
   "metadata": {},
   "source": [
    "They've shown the dips are well correlated with resonances, so that might be a good feature to try and put in (P2/P1, P3/P2, P3/P1).  The most important resonances are of the form j+1/j (e.g. 9:8), then of the form j+2/j (e.g. 7:5) etc.\n",
    "\n",
    "Here is a histogram of the separation in Hill radii between the closest two planets of the three:"
   ]
  },
  {
   "cell_type": "code",
   "execution_count": 7,
   "metadata": {
    "collapsed": false
   },
   "outputs": [
    {
     "data": {
      "text/plain": [
       "<matplotlib.axes._subplots.AxesSubplot at 0x1129aea90>"
      ]
     },
     "execution_count": 7,
     "metadata": {},
     "output_type": "execute_result"
    },
    {
     "data": {
      "image/png": "[encoded data removed]",
      "text/plain": [
       "<matplotlib.figure.Figure at 0x112b37240>"
      ]
     },
     "metadata": {},
     "output_type": "display_data"
    }
   ],
   "source": [
    "df['minHillSep'].hist()"
   ]
  },
  {
   "cell_type": "code",
   "execution_count": null,
   "metadata": {
    "collapsed": true
   },
   "outputs": [],
   "source": []
  }
 ],
 "metadata": {
  "kernelspec": {
   "display_name": "Python 3",
   "language": "python",
   "name": "python3"
  },
  "language_info": {
   "codemirror_mode": {
    "name": "ipython",
    "version": 3
   },
   "file_extension": ".py",
   "mimetype": "text/x-python",
   "name": "python",
   "nbconvert_exporter": "python",
   "pygments_lexer": "ipython3",
   "version": "3.5.1"
  }
 },
 "nbformat": 4,
 "nbformat_minor": 0
}
