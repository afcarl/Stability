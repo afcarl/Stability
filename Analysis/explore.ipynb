{
 "cells": [
  {
   "cell_type": "markdown",
   "metadata": {},
   "source": [
    "# Planetary Stability\n",
    "\n",
    "The dataset consists of 1500 artifically generated 3-planet systems.  All planets have a mass of $5M_\\oplus$, which I think is roughly where the Kepler sample should peak.  They were all integrated for 1 million orbits of the inner planet (initialized at 0.05 AU), and the stable column shows whether the system survives or not.  The next two planets were initialized somewhere between 0-10 Hill radii away.  Each run records the initial orbital parameters of each of the 3 planets.  Below is a description of each column, and see below for a figure showing each angle:\n",
    "\n",
    "* Sim_ID: Unique Identifier\n",
    "* Stable: Whether system was stable after 1e6 inner orbits\n",
    "* Norbits_instability: Number of inner-planet orbital periods until instability.\n",
    "* Norbits: 1e6 for all\n",
    "* Mplanet: Mass of all planets (in solar masses)\n",
    "* RH/a: The Hill radius, scaled by the semimajor axis.  This just depeneds on the planet/star mass ratio so is the same for all.\n",
    "\n",
    "For each planet (numbered 1,2,3--all angles in radians), we record the initial\n",
    "\n",
    "* a: semimajor axis (AU)\n",
    "* e: eccentricity\n",
    "* pomega: longitude of pericenter (what direction an eccentric orbit is oriented, this is Omega + omega in figure below, useful for low inclination orbits)\n",
    "* inc: inclination\n",
    "* Omega: longitude of the node (how the orbital plane is oriented)\n",
    "* f: true anomaly: how far the planet started from pericenter.\n",
    "* xyz: cartesian positions (in AU)\n",
    "* vxvyvz: cartesian velocities (in AU/yr)\n",
    "\n",
    "There are then two final columns I added as checks:\n",
    "\n",
    "* Rel_Eerr: Relative energy error during the integration\n",
    "* integ_time: Time it took to run simulation (in sec)\n",
    "\n",
    "These two columns **SHOULD NOT** be used in the analysis.  Like before when I had final eccentricities, they have information about the outcome (runs with worse energy conservation likely had closer encounters, and the ones with shorter integration times are the ones that went unstable).  \n",
    "\n",
    "See below for an image showing the angles.\n",
    "\n",
    "All planets were simply started with e distributed uniformly between 0 and 0.02, and the inclination between 0 and 0.01 radians.  \n",
    "\n",
    "![orbits](images/orbit.png)"
   ]
  },
  {
   "cell_type": "markdown",
   "metadata": {},
   "source": [
    "I made two data sets (one with ~1000 and one with ~500).  The combined dataset is called data/1e6data.csv:"
   ]
  },
  {
   "cell_type": "code",
   "execution_count": 4,
   "metadata": {
    "collapsed": false
   },
   "outputs": [
    {
     "data": {
      "text/html": [
       "<div>\n",
       "<table border=\"1\" class=\"dataframe\">\n",
       "  <thead>\n",
       "    <tr style=\"text-align: right;\">\n",
       "      <th></th>\n",
       "      <th>Stable</th>\n",
       "      <th>Norbits_instability</th>\n",
       "      <th>Norbits</th>\n",
       "      <th>Mplanet</th>\n",
       "      <th>RH/a</th>\n",
       "      <th>a1</th>\n",
       "      <th>P1</th>\n",
       "      <th>e1</th>\n",
       "      <th>pomega1</th>\n",
       "      <th>inc1</th>\n",
       "      <th>...</th>\n",
       "      <th>Omega3</th>\n",
       "      <th>f3</th>\n",
       "      <th>x3</th>\n",
       "      <th>y3</th>\n",
       "      <th>z3</th>\n",
       "      <th>vx3</th>\n",
       "      <th>vy3</th>\n",
       "      <th>vz3</th>\n",
       "      <th>Rel_Eerr</th>\n",
       "      <th>integ_time</th>\n",
       "    </tr>\n",
       "    <tr>\n",
       "      <th>Sim_ID</th>\n",
       "      <th></th>\n",
       "      <th></th>\n",
       "      <th></th>\n",
       "      <th></th>\n",
       "      <th></th>\n",
       "      <th></th>\n",
       "      <th></th>\n",
       "      <th></th>\n",
       "      <th></th>\n",
       "      <th></th>\n",
       "      <th></th>\n",
       "      <th></th>\n",
       "      <th></th>\n",
       "      <th></th>\n",
       "      <th></th>\n",
       "      <th></th>\n",
       "      <th></th>\n",
       "      <th></th>\n",
       "      <th></th>\n",
       "      <th></th>\n",
       "      <th></th>\n",
       "    </tr>\n",
       "  </thead>\n",
       "  <tbody>\n",
       "    <tr>\n",
       "      <th>1995</th>\n",
       "      <td>True</td>\n",
       "      <td>1000000.000000</td>\n",
       "      <td>1000000.0</td>\n",
       "      <td>0.000015</td>\n",
       "      <td>0.021544</td>\n",
       "      <td>0.05</td>\n",
       "      <td>0.01118</td>\n",
       "      <td>0.009089</td>\n",
       "      <td>-1.079974</td>\n",
       "      <td>0.010988</td>\n",
       "      <td>...</td>\n",
       "      <td>2.967275</td>\n",
       "      <td>-0.849203</td>\n",
       "      <td>-0.067186</td>\n",
       "      <td>0.010875</td>\n",
       "      <td>0.000015</td>\n",
       "      <td>-3.710960</td>\n",
       "      <td>-23.860270</td>\n",
       "      <td>0.396331</td>\n",
       "      <td>1.221454e-13</td>\n",
       "      <td>920.464203</td>\n",
       "    </tr>\n",
       "    <tr>\n",
       "      <th>1996</th>\n",
       "      <td>False</td>\n",
       "      <td>393070.901091</td>\n",
       "      <td>1000000.0</td>\n",
       "      <td>0.000015</td>\n",
       "      <td>0.021544</td>\n",
       "      <td>0.05</td>\n",
       "      <td>0.01118</td>\n",
       "      <td>0.011170</td>\n",
       "      <td>4.751147</td>\n",
       "      <td>0.009788</td>\n",
       "      <td>...</td>\n",
       "      <td>2.553637</td>\n",
       "      <td>1.060472</td>\n",
       "      <td>0.006214</td>\n",
       "      <td>-0.066580</td>\n",
       "      <td>0.000532</td>\n",
       "      <td>24.201111</td>\n",
       "      <td>2.232317</td>\n",
       "      <td>-0.156514</td>\n",
       "      <td>3.073272e-14</td>\n",
       "      <td>415.862748</td>\n",
       "    </tr>\n",
       "    <tr>\n",
       "      <th>1997</th>\n",
       "      <td>True</td>\n",
       "      <td>1000000.000000</td>\n",
       "      <td>1000000.0</td>\n",
       "      <td>0.000015</td>\n",
       "      <td>0.021544</td>\n",
       "      <td>0.05</td>\n",
       "      <td>0.01118</td>\n",
       "      <td>0.004709</td>\n",
       "      <td>1.389463</td>\n",
       "      <td>0.011670</td>\n",
       "      <td>...</td>\n",
       "      <td>0.639780</td>\n",
       "      <td>-0.803942</td>\n",
       "      <td>0.056566</td>\n",
       "      <td>-0.039027</td>\n",
       "      <td>-0.000454</td>\n",
       "      <td>13.578741</td>\n",
       "      <td>19.784498</td>\n",
       "      <td>0.054182</td>\n",
       "      <td>1.261405e-14</td>\n",
       "      <td>884.219790</td>\n",
       "    </tr>\n",
       "    <tr>\n",
       "      <th>1998</th>\n",
       "      <td>True</td>\n",
       "      <td>1000000.000000</td>\n",
       "      <td>1000000.0</td>\n",
       "      <td>0.000015</td>\n",
       "      <td>0.021544</td>\n",
       "      <td>0.05</td>\n",
       "      <td>0.01118</td>\n",
       "      <td>0.002514</td>\n",
       "      <td>-1.615616</td>\n",
       "      <td>0.001747</td>\n",
       "      <td>...</td>\n",
       "      <td>0.170469</td>\n",
       "      <td>-2.806279</td>\n",
       "      <td>0.001103</td>\n",
       "      <td>-0.067801</td>\n",
       "      <td>-0.000308</td>\n",
       "      <td>24.000226</td>\n",
       "      <td>0.476752</td>\n",
       "      <td>-0.016553</td>\n",
       "      <td>3.729223e-14</td>\n",
       "      <td>1005.072442</td>\n",
       "    </tr>\n",
       "    <tr>\n",
       "      <th>1999</th>\n",
       "      <td>False</td>\n",
       "      <td>35087.808064</td>\n",
       "      <td>1000000.0</td>\n",
       "      <td>0.000015</td>\n",
       "      <td>0.021544</td>\n",
       "      <td>0.05</td>\n",
       "      <td>0.01118</td>\n",
       "      <td>0.002846</td>\n",
       "      <td>-2.724788</td>\n",
       "      <td>0.016104</td>\n",
       "      <td>...</td>\n",
       "      <td>1.764170</td>\n",
       "      <td>-1.827689</td>\n",
       "      <td>-0.029586</td>\n",
       "      <td>0.055161</td>\n",
       "      <td>0.000047</td>\n",
       "      <td>-22.018055</td>\n",
       "      <td>-12.027872</td>\n",
       "      <td>0.061370</td>\n",
       "      <td>4.347926e-15</td>\n",
       "      <td>33.730164</td>\n",
       "    </tr>\n",
       "  </tbody>\n",
       "</table>\n",
       "<p>5 rows × 46 columns</p>\n",
       "</div>"
      ],
      "text/plain": [
       "       Stable  Norbits_instability    Norbits   Mplanet      RH/a    a1  \\\n",
       "Sim_ID                                                                    \n",
       "1995     True       1000000.000000  1000000.0  0.000015  0.021544  0.05   \n",
       "1996    False        393070.901091  1000000.0  0.000015  0.021544  0.05   \n",
       "1997     True       1000000.000000  1000000.0  0.000015  0.021544  0.05   \n",
       "1998     True       1000000.000000  1000000.0  0.000015  0.021544  0.05   \n",
       "1999    False         35087.808064  1000000.0  0.000015  0.021544  0.05   \n",
       "\n",
       "             P1        e1   pomega1      inc1     ...         Omega3  \\\n",
       "Sim_ID                                            ...                  \n",
       "1995    0.01118  0.009089 -1.079974  0.010988     ...       2.967275   \n",
       "1996    0.01118  0.011170  4.751147  0.009788     ...       2.553637   \n",
       "1997    0.01118  0.004709  1.389463  0.011670     ...       0.639780   \n",
       "1998    0.01118  0.002514 -1.615616  0.001747     ...       0.170469   \n",
       "1999    0.01118  0.002846 -2.724788  0.016104     ...       1.764170   \n",
       "\n",
       "              f3        x3        y3        z3        vx3        vy3  \\\n",
       "Sim_ID                                                                 \n",
       "1995   -0.849203 -0.067186  0.010875  0.000015  -3.710960 -23.860270   \n",
       "1996    1.060472  0.006214 -0.066580  0.000532  24.201111   2.232317   \n",
       "1997   -0.803942  0.056566 -0.039027 -0.000454  13.578741  19.784498   \n",
       "1998   -2.806279  0.001103 -0.067801 -0.000308  24.000226   0.476752   \n",
       "1999   -1.827689 -0.029586  0.055161  0.000047 -22.018055 -12.027872   \n",
       "\n",
       "             vz3      Rel_Eerr   integ_time  \n",
       "Sim_ID                                       \n",
       "1995    0.396331  1.221454e-13   920.464203  \n",
       "1996   -0.156514  3.073272e-14   415.862748  \n",
       "1997    0.054182  1.261405e-14   884.219790  \n",
       "1998   -0.016553  3.729223e-14  1005.072442  \n",
       "1999    0.061370  4.347926e-15    33.730164  \n",
       "\n",
       "[5 rows x 46 columns]"
      ]
     },
     "execution_count": 4,
     "metadata": {},
     "output_type": "execute_result"
    }
   ],
   "source": [
    "import pandas as pd\n",
    "df = pd.read_csv('../data/1e6dataset.csv', index_col=0)\n",
    "df.tail()"
   ]
  },
  {
   "cell_type": "markdown",
   "metadata": {},
   "source": [
    "I tried to engineer things so about half of the systems were stable and half unstable.  This should help the analysis:"
   ]
  },
  {
   "cell_type": "code",
   "execution_count": 5,
   "metadata": {
    "collapsed": false
   },
   "outputs": [
    {
     "data": {
      "text/plain": [
       "<matplotlib.axes._subplots.AxesSubplot at 0x7eff225dfad0>"
      ]
     },
     "execution_count": 5,
     "metadata": {},
     "output_type": "execute_result"
    },
    {
     "data": {
      "image/png": "[encoded data removed]",
      "text/plain": [
       "<matplotlib.figure.Figure at 0x7eff225dfb10>"
      ]
     },
     "metadata": {},
     "output_type": "display_data"
    }
   ],
   "source": [
    "%matplotlib inline\n",
    "df['Stable'].hist()"
   ]
  },
  {
   "cell_type": "markdown",
   "metadata": {},
   "source": [
    "One thing we know is that the planets' separation in Hill radii should matter strongly.  Most previous worked has focused on this:"
   ]
  },
  {
   "cell_type": "code",
   "execution_count": 7,
   "metadata": {
    "collapsed": true
   },
   "outputs": [],
   "source": [
    "def HillSep(system):\n",
    "    return (system['a2']-system['a1'])/(system['a1']*system['RH/a'])"
   ]
  },
  {
   "cell_type": "code",
   "execution_count": 8,
   "metadata": {
    "collapsed": false
   },
   "outputs": [
    {
     "data": {
      "text/html": [
       "<div>\n",
       "<table border=\"1\" class=\"dataframe\">\n",
       "  <thead>\n",
       "    <tr style=\"text-align: right;\">\n",
       "      <th></th>\n",
       "      <th>Stable</th>\n",
       "      <th>Norbits_instability</th>\n",
       "      <th>Norbits</th>\n",
       "      <th>Mplanet</th>\n",
       "      <th>RH/a</th>\n",
       "      <th>a1</th>\n",
       "      <th>P1</th>\n",
       "      <th>e1</th>\n",
       "      <th>pomega1</th>\n",
       "      <th>inc1</th>\n",
       "      <th>...</th>\n",
       "      <th>f3</th>\n",
       "      <th>x3</th>\n",
       "      <th>y3</th>\n",
       "      <th>z3</th>\n",
       "      <th>vx3</th>\n",
       "      <th>vy3</th>\n",
       "      <th>vz3</th>\n",
       "      <th>Rel_Eerr</th>\n",
       "      <th>integ_time</th>\n",
       "      <th>HillSep</th>\n",
       "    </tr>\n",
       "    <tr>\n",
       "      <th>Sim_ID</th>\n",
       "      <th></th>\n",
       "      <th></th>\n",
       "      <th></th>\n",
       "      <th></th>\n",
       "      <th></th>\n",
       "      <th></th>\n",
       "      <th></th>\n",
       "      <th></th>\n",
       "      <th></th>\n",
       "      <th></th>\n",
       "      <th></th>\n",
       "      <th></th>\n",
       "      <th></th>\n",
       "      <th></th>\n",
       "      <th></th>\n",
       "      <th></th>\n",
       "      <th></th>\n",
       "      <th></th>\n",
       "      <th></th>\n",
       "      <th></th>\n",
       "      <th></th>\n",
       "    </tr>\n",
       "  </thead>\n",
       "  <tbody>\n",
       "    <tr>\n",
       "      <th>0</th>\n",
       "      <td>True</td>\n",
       "      <td>1000000.000000</td>\n",
       "      <td>1000000.0</td>\n",
       "      <td>0.000015</td>\n",
       "      <td>0.021544</td>\n",
       "      <td>0.05</td>\n",
       "      <td>0.01118</td>\n",
       "      <td>0.015159</td>\n",
       "      <td>-3.640656</td>\n",
       "      <td>0.004519</td>\n",
       "      <td>...</td>\n",
       "      <td>1.573978</td>\n",
       "      <td>-0.068236</td>\n",
       "      <td>-0.014064</td>\n",
       "      <td>-4.729121e-04</td>\n",
       "      <td>4.567729</td>\n",
       "      <td>-23.360975</td>\n",
       "      <td>0.267600</td>\n",
       "      <td>2.398596e-15</td>\n",
       "      <td>1006.014277</td>\n",
       "      <td>8.377687</td>\n",
       "    </tr>\n",
       "    <tr>\n",
       "      <th>1</th>\n",
       "      <td>False</td>\n",
       "      <td>210649.647778</td>\n",
       "      <td>1000000.0</td>\n",
       "      <td>0.000015</td>\n",
       "      <td>0.021544</td>\n",
       "      <td>0.05</td>\n",
       "      <td>0.01118</td>\n",
       "      <td>0.016949</td>\n",
       "      <td>4.798937</td>\n",
       "      <td>0.004452</td>\n",
       "      <td>...</td>\n",
       "      <td>-1.749616</td>\n",
       "      <td>-0.062409</td>\n",
       "      <td>0.006367</td>\n",
       "      <td>5.514355e-07</td>\n",
       "      <td>-2.331204</td>\n",
       "      <td>-24.959053</td>\n",
       "      <td>0.000893</td>\n",
       "      <td>5.615807e-14</td>\n",
       "      <td>216.212583</td>\n",
       "      <td>5.537457</td>\n",
       "    </tr>\n",
       "    <tr>\n",
       "      <th>2</th>\n",
       "      <td>True</td>\n",
       "      <td>1000000.000000</td>\n",
       "      <td>1000000.0</td>\n",
       "      <td>0.000015</td>\n",
       "      <td>0.021544</td>\n",
       "      <td>0.05</td>\n",
       "      <td>0.01118</td>\n",
       "      <td>0.018957</td>\n",
       "      <td>0.355323</td>\n",
       "      <td>0.001481</td>\n",
       "      <td>...</td>\n",
       "      <td>-0.032550</td>\n",
       "      <td>-0.062995</td>\n",
       "      <td>0.031855</td>\n",
       "      <td>-4.634034e-04</td>\n",
       "      <td>-10.685821</td>\n",
       "      <td>-21.138176</td>\n",
       "      <td>-0.047841</td>\n",
       "      <td>7.017671e-14</td>\n",
       "      <td>983.189257</td>\n",
       "      <td>8.824137</td>\n",
       "    </tr>\n",
       "    <tr>\n",
       "      <th>3</th>\n",
       "      <td>False</td>\n",
       "      <td>19982.209941</td>\n",
       "      <td>1000000.0</td>\n",
       "      <td>0.000015</td>\n",
       "      <td>0.021544</td>\n",
       "      <td>0.05</td>\n",
       "      <td>0.01118</td>\n",
       "      <td>0.010885</td>\n",
       "      <td>-3.958688</td>\n",
       "      <td>0.010540</td>\n",
       "      <td>...</td>\n",
       "      <td>0.946351</td>\n",
       "      <td>0.063081</td>\n",
       "      <td>-0.005132</td>\n",
       "      <td>4.295278e-04</td>\n",
       "      <td>2.220935</td>\n",
       "      <td>24.945650</td>\n",
       "      <td>-0.118977</td>\n",
       "      <td>7.016550e-15</td>\n",
       "      <td>20.751416</td>\n",
       "      <td>5.951859</td>\n",
       "    </tr>\n",
       "    <tr>\n",
       "      <th>4</th>\n",
       "      <td>False</td>\n",
       "      <td>46995.390321</td>\n",
       "      <td>1000000.0</td>\n",
       "      <td>0.000015</td>\n",
       "      <td>0.021544</td>\n",
       "      <td>0.05</td>\n",
       "      <td>0.01118</td>\n",
       "      <td>0.002063</td>\n",
       "      <td>2.488507</td>\n",
       "      <td>0.002705</td>\n",
       "      <td>...</td>\n",
       "      <td>-0.455684</td>\n",
       "      <td>0.051185</td>\n",
       "      <td>0.037257</td>\n",
       "      <td>-7.717988e-05</td>\n",
       "      <td>-14.781240</td>\n",
       "      <td>20.203958</td>\n",
       "      <td>0.035016</td>\n",
       "      <td>1.052342e-14</td>\n",
       "      <td>49.353019</td>\n",
       "      <td>5.944192</td>\n",
       "    </tr>\n",
       "  </tbody>\n",
       "</table>\n",
       "<p>5 rows × 47 columns</p>\n",
       "</div>"
      ],
      "text/plain": [
       "       Stable  Norbits_instability    Norbits   Mplanet      RH/a    a1  \\\n",
       "Sim_ID                                                                    \n",
       "0        True       1000000.000000  1000000.0  0.000015  0.021544  0.05   \n",
       "1       False        210649.647778  1000000.0  0.000015  0.021544  0.05   \n",
       "2        True       1000000.000000  1000000.0  0.000015  0.021544  0.05   \n",
       "3       False         19982.209941  1000000.0  0.000015  0.021544  0.05   \n",
       "4       False         46995.390321  1000000.0  0.000015  0.021544  0.05   \n",
       "\n",
       "             P1        e1   pomega1      inc1    ...           f3        x3  \\\n",
       "Sim_ID                                           ...                          \n",
       "0       0.01118  0.015159 -3.640656  0.004519    ...     1.573978 -0.068236   \n",
       "1       0.01118  0.016949  4.798937  0.004452    ...    -1.749616 -0.062409   \n",
       "2       0.01118  0.018957  0.355323  0.001481    ...    -0.032550 -0.062995   \n",
       "3       0.01118  0.010885 -3.958688  0.010540    ...     0.946351  0.063081   \n",
       "4       0.01118  0.002063  2.488507  0.002705    ...    -0.455684  0.051185   \n",
       "\n",
       "              y3            z3        vx3        vy3       vz3      Rel_Eerr  \\\n",
       "Sim_ID                                                                         \n",
       "0      -0.014064 -4.729121e-04   4.567729 -23.360975  0.267600  2.398596e-15   \n",
       "1       0.006367  5.514355e-07  -2.331204 -24.959053  0.000893  5.615807e-14   \n",
       "2       0.031855 -4.634034e-04 -10.685821 -21.138176 -0.047841  7.017671e-14   \n",
       "3      -0.005132  4.295278e-04   2.220935  24.945650 -0.118977  7.016550e-15   \n",
       "4       0.037257 -7.717988e-05 -14.781240  20.203958  0.035016  1.052342e-14   \n",
       "\n",
       "         integ_time   HillSep  \n",
       "Sim_ID                         \n",
       "0       1006.014277  8.377687  \n",
       "1        216.212583  5.537457  \n",
       "2        983.189257  8.824137  \n",
       "3         20.751416  5.951859  \n",
       "4         49.353019  5.944192  \n",
       "\n",
       "[5 rows x 47 columns]"
      ]
     },
     "execution_count": 8,
     "metadata": {},
     "output_type": "execute_result"
    }
   ],
   "source": [
    "df['HillSep'] = df.apply(HillSep, axis=1)\n",
    "df.head()"
   ]
  },
  {
   "cell_type": "code",
   "execution_count": 12,
   "metadata": {
    "collapsed": false
   },
   "outputs": [],
   "source": [
    "stable = df['Stable'].values\n",
    "K = df['HillSep'].values\n",
    "t_inst = df['Norbits_instability']"
   ]
  },
  {
   "cell_type": "markdown",
   "metadata": {},
   "source": [
    "Here is the time to instability vs separation in Hill radii.  There is a lot of scatter, though there appears to be some structure, presumably from mean motion resonances (near-integer ratios between orbital periods between planets).  Presumably this structure gets smeared somewhat by the fact that we are also varying the eccentricities from 0-0.02 (as well as randomizing all the other angles)."
   ]
  },
  {
   "cell_type": "code",
   "execution_count": 15,
   "metadata": {
    "collapsed": false
   },
   "outputs": [
    {
     "data": {
      "image/png": "[encoded data removed]",
      "text/plain": [
       "<matplotlib.figure.Figure at 0x7eff239e7210>"
      ]
     },
     "metadata": {},
     "output_type": "display_data"
    }
   ],
   "source": [
    "%matplotlib inline\n",
    "import matplotlib.pyplot as plt\n",
    "fig, ax = plt.subplots(figsize=(15,5))\n",
    "ax.plot(K, t_inst, '.', markersize=5)\n",
    "ax.set_xlabel('K (Separation in Hill Radii)', fontsize=18)\n",
    "ax.set_ylabel('Instability time (in # of inner orbits)', fontsize=18)\n",
    "ax.set_yscale('log')"
   ]
  },
  {
   "cell_type": "markdown",
   "metadata": {},
   "source": [
    "Compare with this plot by Alysa and Christa for Earth-mass planets.  In their case I believe all eccentricities are initially 0, and they did longer integrations.\n",
    "\n",
    "![instability](images/log_t_vs_beta.png)"
   ]
  },
  {
   "cell_type": "markdown",
   "metadata": {},
   "source": [
    "They've shown the dips are well correlated with resonances, so that might be a good feature to try and put in (P2/P1, P3/P2, P3/P1).  The most important resonances are of the form j+1/j (e.g. 9:8), then of the form j+2/j (e.g. 7:5) etc.\n",
    "\n",
    "Here is a histogram of the separation in Hill radii between the closest two planets of the three:"
   ]
  },
  {
   "cell_type": "markdown",
   "metadata": {},
   "source": [
    "Here's everything collapsed down into 'stable' vs 'unstable' over 1e6 years:"
   ]
  },
  {
   "cell_type": "code",
   "execution_count": 10,
   "metadata": {
    "collapsed": false
   },
   "outputs": [
    {
     "data": {
      "text/plain": [
       "<matplotlib.text.Text at 0x7eff216c0150>"
      ]
     },
     "execution_count": 10,
     "metadata": {},
     "output_type": "execute_result"
    },
    {
     "data": {
      "image/png": "[encoded data removed]",
      "text/plain": [
       "<matplotlib.figure.Figure at 0x7eff225dfbd0>"
      ]
     },
     "metadata": {},
     "output_type": "display_data"
    }
   ],
   "source": [
    "%matplotlib inline\n",
    "import matplotlib.pyplot as plt\n",
    "fig, ax = plt.subplots(figsize=(15,5))\n",
    "ax.plot(K, stable, '.', markersize=15)\n",
    "ax.set_xlabel('K (Separation in Hill Radii)', fontsize=18)\n",
    "ax.set_ylabel('Stable over 1 Million Orbits', fontsize=18)"
   ]
  },
  {
   "cell_type": "markdown",
   "metadata": {},
   "source": [
    "I used a uniform distribution of Hill separations between 5-9:"
   ]
  },
  {
   "cell_type": "code",
   "execution_count": 16,
   "metadata": {
    "collapsed": false
   },
   "outputs": [
    {
     "data": {
      "text/plain": [
       "<matplotlib.axes._subplots.AxesSubplot at 0x7eff2149e810>"
      ]
     },
     "execution_count": 16,
     "metadata": {},
     "output_type": "execute_result"
    },
    {
     "data": {
      "image/png": "[encoded data removed]",
      "text/plain": [
       "<matplotlib.figure.Figure at 0x7eff2163add0>"
      ]
     },
     "metadata": {},
     "output_type": "display_data"
    }
   ],
   "source": [
    "df['HillSep'].hist()"
   ]
  },
  {
   "cell_type": "code",
   "execution_count": null,
   "metadata": {
    "collapsed": true
   },
   "outputs": [],
   "source": []
  }
 ],
 "metadata": {
  "kernelspec": {
   "display_name": "Python 2",
   "language": "python",
   "name": "python2"
  },
  "language_info": {
   "codemirror_mode": {
    "name": "ipython",
    "version": 2
   },
   "file_extension": ".py",
   "mimetype": "text/x-python",
   "name": "python",
   "nbconvert_exporter": "python",
   "pygments_lexer": "ipython2",
   "version": "2.7.11"
  }
 },
 "nbformat": 4,
 "nbformat_minor": 0
}
