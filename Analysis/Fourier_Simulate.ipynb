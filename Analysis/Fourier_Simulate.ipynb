{
 "cells": [
  {
   "cell_type": "markdown",
   "metadata": {},
   "source": [
    "# Analysis of Orbits in Fourier Space\n",
    "\n",
    "Here we simulate Dan's Machine Learning system with rebound and then do a basic Fourier analysis. "
   ]
  },
  {
   "cell_type": "code",
   "execution_count": 1,
   "metadata": {
    "collapsed": true
   },
   "outputs": [],
   "source": [
    "import rebound\n",
    "import numpy as np\n",
    "import pandas as pd\n",
    "import numpy as np\n",
    "import time"
   ]
  },
  {
   "cell_type": "markdown",
   "metadata": {},
   "source": [
    "Here we set up the outer solar system with the possibility to inflate the masses. Such a system is known to go unstable on short timescales (e.g. Chambers, 1999). The simulation stops once there is a close encounter. "
   ]
  },
  {
   "cell_type": "code",
   "execution_count": 7,
   "metadata": {
    "collapsed": false
   },
   "outputs": [],
   "source": [
    "def problem(a_outer,output_N,tmax,seed):\n",
    "    sim = rebound.Simulation()\n",
    "    sim.integrator = \"whfast\"\n",
    "    sim.usleep = -1\n",
    "    sim.dt = 1e-4*2*np.pi\n",
    "    times = np.linspace(0,tmax*2*np.pi,output_N)   #In G=1 units, planet at 1AU takes 2pi years to orbit once.\n",
    "    \n",
    "    #parameters\n",
    "    m_planet = 5*3e-6    #5-earth masses\n",
    "    a_planet = 1\n",
    "    rhill = a_planet*(m_planet/3.)**(1./3.)\n",
    "    e_planet = 0.02\n",
    "    inc = 0\n",
    "    \n",
    "    np.random.seed(seed)\n",
    "    \n",
    "    #add massive bodies\n",
    "    sim.add(m=1.)\n",
    "    sim.add(a=a_planet-52.63*rhill,m=m_planet,e=0,inc=0,f=np.random.random()*np.pi*2)\n",
    "    sim.add(a=a_planet,m=m_planet,e=e_planet,inc=0,f=np.random.random()*np.pi*2)\n",
    "    sim.add(a=a_outer,m=m_planet,e=0,inc=0,f=np.random.random()*np.pi*2)\n",
    "    sim.N_active = sim.N\n",
    "    \n",
    "    #add test body\n",
    "    #sim.add(a=a_outer,m=0,e=0,inc=0,f=np.random.random()*np.pi*2)\n",
    "    \n",
    "    sim.move_to_com()\n",
    "    E0 = sim.calculate_energy()\n",
    "    sim.init_megno()\n",
    "    \n",
    "    #condition to stop the simulation\n",
    "    sim.exit_min_distance = a_planet*(m_planet/3.)**(1./3.)\n",
    "    \n",
    "    #output\n",
    "    output_name = \"Fourier/data/DTtestp_t\"+str('{0:.1e}'.format(tmax))+\"_aouter\"+str(a_outer)+\"_sd\"+str(seed)+\".csv\"\n",
    "    output_info = \"Fourier/data/DTtestp_t\"+str('{0:.1e}'.format(tmax))+\"_aouter\"+str(a_outer)+\"_sd\"+str(seed)+\"_info.txt\"\n",
    "    f = open(output_info,\"w\")\n",
    "    f.write(\"System Info: dt=%e, tmax=%d, N_output=%d\\n\"%(sim.dt,tmax,output_N))\n",
    "    for i,p in enumerate(sim.particles[1:]):\n",
    "        f.write(\"Planet %d: a=%f,m=%e,e=%f,inc=%f,f=%f\\n\"%(i+1,p.a,p.m,p.e,p.inc,p.f))\n",
    "    f.close()\n",
    "    \n",
    "    #integrate\n",
    "    start_time = time.time()\n",
    "    print 'starting simulation for '+output_name\n",
    "    with open(output_name, 'w') as f:\n",
    "        try:\n",
    "            for t in times:\n",
    "                sim.integrate(t)\n",
    "                f.write(str(sim.t/(2*np.pi)))\n",
    "                f.write(','+str(sim.calculate_lyapunov()))\n",
    "                outs = []\n",
    "                for p in sim.particles[1:sim.N - sim.N_var]:\n",
    "                    outs += [p.a, p.P, p.e, p.pomega, p.inc, p.Omega, p.f]\n",
    "                for out in outs:\n",
    "                    f.write(',{0}'.format(out))\n",
    "                f.write('\\n')\n",
    "            f.close()\n",
    "            o = open(output_info,\"a\")\n",
    "            o.write('\\nSimulation complete. Final energy error is: '+str(abs((E0 - sim.calculate_energy())/E0))+\".\")\n",
    "            o.write('\\nTotal Elapsed time is: '+str(time.time() - start_time)+' seconds.')\n",
    "            o.close()\n",
    "            print 'Simulation '+output_name+' complete. Final energy error is:', abs((E0 - sim.calculate_energy())/E0)\n",
    "        except rebound.Encounter as error:\n",
    "            f.write(str(sim.t/(2*np.pi)))\n",
    "            f.write(','+str(sim.calculate_lyapunov()))\n",
    "            outs = []\n",
    "            for p in sim.particles[1:sim.N - sim.N_var]:\n",
    "                outs += [p.a, p.P, p.e, p.pomega, p.inc, p.Omega, p.f]\n",
    "            outs += []\n",
    "            for out in outs:\n",
    "                f.write(',{0}'.format(out))\n",
    "            f.write('\\n')\n",
    "            f.close()\n",
    "            o = open(output_info,\"a\")\n",
    "            o.write(\"\\nClose encounter, simulation \"+output_name+\" stopping at t=\"+str(sim.t/(2*np.pi))+\" years.\")\n",
    "            o.write('\\nTotal Elapsed time is: '+str(time.time() - start_time)+' seconds.')\n",
    "            o.close()\n",
    "            print \"Close encounter, simulation \"+output_name+\" stopping at t=\"+str(sim.t/(2*np.pi))+\" years.\""
   ]
  },
  {
   "cell_type": "code",
   "execution_count": 10,
   "metadata": {
    "collapsed": false
   },
   "outputs": [
    {
     "name": "stdout",
     "output_type": "stream",
     "text": [
      "starting simulation for Fourier/data/DTtestp_t1.0e+03_aouter1.5_sd16.csv\n",
      "Simulation Fourier/data/DTtestp_t1.0e+03_aouter1.5_sd16.csv complete. Final energy error is: 1.0\n"
     ]
    }
   ],
   "source": [
    "#sample test\n",
    "problem(1.5,16,1000,16)"
   ]
  },
  {
   "cell_type": "markdown",
   "metadata": {},
   "source": [
    "Choose the parameters you will search over."
   ]
  },
  {
   "cell_type": "code",
   "execution_count": 3,
   "metadata": {
    "collapsed": false
   },
   "outputs": [],
   "source": [
    "n_runs = 14             #number of simulations you want to run\n",
    "tmax = 3e5              #simulation time\n",
    "n_outputs = tmax*4      #number of outputted data points, important for FFT"
   ]
  },
  {
   "cell_type": "markdown",
   "metadata": {},
   "source": [
    "**Warning!** Executing the code below will take a long time!"
   ]
  },
  {
   "cell_type": "code",
   "execution_count": null,
   "metadata": {
    "collapsed": false
   },
   "outputs": [
    {
     "name": "stdout",
     "output_type": "stream",
     "text": [
      "starting simulation for Fourier/data/DTsys_t1.0e+06_HRF3.56_sd65.csv\n",
      "starting simulation for Fourier/data/DTsys_t1.0e+06_HRF3.0_sd60.csv\n",
      "starting simulation for Fourier/data/DTsys_t1.0e+06_HRF4.11_sd683.csv\n",
      "starting simulation for Fourier/data/DTsys_t1.0e+06_HRF5.22_sd824.csv\n",
      "starting simulation for Fourier/data/DTsys_t1.0e+06_HRF6.33_sd149.csv\n",
      "starting simulation for Fourier/data/DTsys_t1.0e+06_HRF5.78_sd819.csv\n",
      "starting simulation for Fourier/data/DTsys_t1.0e+06_HRF6.89_sd265.csv\n",
      "starting simulation for Fourier/data/DTsys_t1.0e+06_HRF7.44_sd316.csv\n",
      "starting simulation for Fourier/data/DTsys_t1.0e+06_HRF8.0_sd358.csv\n",
      "starting simulation for Fourier/data/DTsys_t1.0e+06_HRF4.67_sd339.csv\n"
     ]
    },
    {
     "name": "stderr",
     "output_type": "stream",
     "text": [
      "/Users/silburt/phd/rebound/rebound/simulation.py:301: RuntimeWarning: Configuring box automatically for vizualization based on particle positions.\n",
      "  warnings.warn(msg[1:], RuntimeWarning)\n",
      "/Users/silburt/phd/rebound/rebound/simulation.py:301: RuntimeWarning: Configuring box automatically for vizualization based on particle positions.\n",
      "  warnings.warn(msg[1:], RuntimeWarning)\n",
      "/Users/silburt/phd/rebound/rebound/simulation.py:301: RuntimeWarning: Configuring box automatically for vizualization based on particle positions.\n",
      "  warnings.warn(msg[1:], RuntimeWarning)\n",
      "/Users/silburt/phd/rebound/rebound/simulation.py:301: RuntimeWarning: Configuring box automatically for vizualization based on particle positions.\n",
      "  warnings.warn(msg[1:], RuntimeWarning)\n",
      "/Users/silburt/phd/rebound/rebound/simulation.py:301: RuntimeWarning: Configuring box automatically for vizualization based on particle positions.\n",
      "  warnings.warn(msg[1:], RuntimeWarning)\n",
      "/Users/silburt/phd/rebound/rebound/simulation.py:301: RuntimeWarning: Configuring box automatically for vizualization based on particle positions.\n",
      "  warnings.warn(msg[1:], RuntimeWarning)\n",
      "/Users/silburt/phd/rebound/rebound/simulation.py:301: RuntimeWarning: Configuring box automatically for vizualization based on particle positions.\n",
      "  warnings.warn(msg[1:], RuntimeWarning)\n",
      "/Users/silburt/phd/rebound/rebound/simulation.py:301: RuntimeWarning: Configuring box automatically for vizualization based on particle positions.\n",
      "  warnings.warn(msg[1:], RuntimeWarning)\n",
      "/Users/silburt/phd/rebound/rebound/simulation.py:301: RuntimeWarning: Configuring box automatically for vizualization based on particle positions.\n",
      "  warnings.warn(msg[1:], RuntimeWarning)\n",
      "/Users/silburt/phd/rebound/rebound/simulation.py:301: RuntimeWarning: Configuring box automatically for vizualization based on particle positions.\n",
      "  warnings.warn(msg[1:], RuntimeWarning)\n"
     ]
    },
    {
     "name": "stdout",
     "output_type": "stream",
     "text": [
      "Close encounter, simulation Fourier/data/DTsys_t1.0e+06_HRF3.0_sd60.csv stopping at t=2.0165 years.\n",
      "Close encounter, simulation Fourier/data/DTsys_t1.0e+06_HRF3.56_sd65.csv stopping at t=100.882800003 years.\n",
      "Close encounter, simulation Fourier/data/DTsys_t1.0e+06_HRF4.11_sd683.csv stopping at t=164.807800006 years.\n"
     ]
    },
    {
     "name": "stderr",
     "output_type": "stream",
     "text": [
      "Process PoolWorker-2:\n",
      "Process PoolWorker-3:\n",
      "Process PoolWorker-1:\n",
      "Traceback (most recent call last):\n",
      "Traceback (most recent call last):\n",
      "Traceback (most recent call last):\n",
      "  File \"/Users/silburt/anaconda2/envs/ml/lib/python2.7/multiprocessing/process.py\", line 258, in _bootstrap\n",
      "  File \"/Users/silburt/anaconda2/envs/ml/lib/python2.7/multiprocessing/process.py\", line 258, in _bootstrap\n",
      "  File \"/Users/silburt/anaconda2/envs/ml/lib/python2.7/multiprocessing/process.py\", line 258, in _bootstrap\n",
      "    self.run()\n",
      "    self.run()\n",
      "  File \"/Users/silburt/anaconda2/envs/ml/lib/python2.7/multiprocessing/process.py\", line 114, in run\n",
      "    self.run()\n",
      "  File \"/Users/silburt/anaconda2/envs/ml/lib/python2.7/multiprocessing/process.py\", line 114, in run\n",
      "    self._target(*self._args, **self._kwargs)\n",
      "    self._target(*self._args, **self._kwargs)\n",
      "  File \"/Users/silburt/anaconda2/envs/ml/lib/python2.7/multiprocessing/process.py\", line 114, in run\n",
      "  File \"/Users/silburt/anaconda2/envs/ml/lib/python2.7/multiprocessing/pool.py\", line 102, in worker\n",
      "  File \"/Users/silburt/anaconda2/envs/ml/lib/python2.7/multiprocessing/pool.py\", line 102, in worker\n",
      "    self._target(*self._args, **self._kwargs)\n",
      "    task = get()\n",
      "  File \"/Users/silburt/anaconda2/envs/ml/lib/python2.7/multiprocessing/pool.py\", line 102, in worker\n",
      "    task = get()\n",
      "    task = get()\n",
      "  File \"/Users/silburt/anaconda2/envs/ml/lib/python2.7/multiprocessing/queues.py\", line 376, in get\n",
      "  File \"/Users/silburt/anaconda2/envs/ml/lib/python2.7/multiprocessing/queues.py\", line 378, in get\n",
      "    racquire()\n",
      "KeyboardInterrupt\n",
      "  File \"/Users/silburt/anaconda2/envs/ml/lib/python2.7/multiprocessing/queues.py\", line 376, in get\n",
      "    return recv()\n",
      "    racquire()\n",
      "KeyboardInterrupt\n",
      "KeyboardInterrupt\n",
      "Process PoolWorker-13:\n",
      "Process PoolWorker-12:\n",
      "Process PoolWorker-11:\n",
      "Traceback (most recent call last):\n",
      "Traceback (most recent call last):\n",
      "Traceback (most recent call last):\n",
      "  File \"/Users/silburt/anaconda2/envs/ml/lib/python2.7/multiprocessing/process.py\", line 258, in _bootstrap\n",
      "  File \"/Users/silburt/anaconda2/envs/ml/lib/python2.7/multiprocessing/process.py\", line 258, in _bootstrap\n",
      "    self.run()\n",
      "  File \"/Users/silburt/anaconda2/envs/ml/lib/python2.7/multiprocessing/process.py\", line 258, in _bootstrap\n",
      "    self.run()\n",
      "  File \"/Users/silburt/anaconda2/envs/ml/lib/python2.7/multiprocessing/process.py\", line 114, in run\n",
      "  File \"/Users/silburt/anaconda2/envs/ml/lib/python2.7/multiprocessing/process.py\", line 114, in run\n",
      "    self.run()\n",
      "    self._target(*self._args, **self._kwargs)\n",
      "    self._target(*self._args, **self._kwargs)\n",
      "  File \"/Users/silburt/anaconda2/envs/ml/lib/python2.7/multiprocessing/process.py\", line 114, in run\n",
      "  File \"/Users/silburt/anaconda2/envs/ml/lib/python2.7/multiprocessing/pool.py\", line 102, in worker\n",
      "  File \"/Users/silburt/anaconda2/envs/ml/lib/python2.7/multiprocessing/pool.py\", line 102, in worker\n",
      "    self._target(*self._args, **self._kwargs)\n",
      "    task = get()\n",
      "    task = get()\n",
      "  File \"/Users/silburt/anaconda2/envs/ml/lib/python2.7/multiprocessing/queues.py\", line 376, in get\n",
      "  File \"/Users/silburt/anaconda2/envs/ml/lib/python2.7/multiprocessing/pool.py\", line 102, in worker\n",
      "    task = get()\n",
      "  File \"/Users/silburt/anaconda2/envs/ml/lib/python2.7/multiprocessing/queues.py\", line 378, in get\n",
      "  File \"/Users/silburt/anaconda2/envs/ml/lib/python2.7/multiprocessing/queues.py\", line 376, in get\n",
      "    return recv()\n",
      "KeyboardInterrupt\n",
      "    racquire()\n",
      "    racquire()\n",
      "KeyboardInterrupt\n",
      "KeyboardInterrupt\n",
      "Process PoolWorker-14:\n",
      "Process PoolWorker-16:\n",
      "Process PoolWorker-15:\n",
      "Traceback (most recent call last):\n",
      "Traceback (most recent call last):\n",
      "Traceback (most recent call last):\n",
      "  File \"/Users/silburt/anaconda2/envs/ml/lib/python2.7/multiprocessing/process.py\", line 258, in _bootstrap\n",
      "  File \"/Users/silburt/anaconda2/envs/ml/lib/python2.7/multiprocessing/process.py\", line 258, in _bootstrap\n",
      "  File \"/Users/silburt/anaconda2/envs/ml/lib/python2.7/multiprocessing/process.py\", line 258, in _bootstrap\n",
      "    self.run()\n",
      "    self.run()\n",
      "    self.run()\n",
      "  File \"/Users/silburt/anaconda2/envs/ml/lib/python2.7/multiprocessing/process.py\", line 114, in run\n",
      "  File \"/Users/silburt/anaconda2/envs/ml/lib/python2.7/multiprocessing/process.py\", line 114, in run\n",
      "  File \"/Users/silburt/anaconda2/envs/ml/lib/python2.7/multiprocessing/process.py\", line 114, in run\n",
      "    self._target(*self._args, **self._kwargs)\n",
      "    self._target(*self._args, **self._kwargs)\n",
      "    self._target(*self._args, **self._kwargs)\n",
      "  File \"/Users/silburt/anaconda2/envs/ml/lib/python2.7/multiprocessing/pool.py\", line 102, in worker\n",
      "  File \"/Users/silburt/anaconda2/envs/ml/lib/python2.7/multiprocessing/pool.py\", line 102, in worker\n",
      "  File \"/Users/silburt/anaconda2/envs/ml/lib/python2.7/multiprocessing/pool.py\", line 102, in worker\n",
      "    task = get()\n",
      "    task = get()\n",
      "    task = get()\n",
      "  File \"/Users/silburt/anaconda2/envs/ml/lib/python2.7/multiprocessing/queues.py\", line 376, in get\n",
      "  File \"/Users/silburt/anaconda2/envs/ml/lib/python2.7/multiprocessing/queues.py\", line 378, in get\n",
      "  File \"/Users/silburt/anaconda2/envs/ml/lib/python2.7/multiprocessing/queues.py\", line 376, in get\n",
      "    racquire()\n",
      "    return recv()\n",
      "KeyboardInterrupt\n",
      "KeyboardInterrupt\n",
      "    racquire()\n",
      "KeyboardInterrupt\n"
     ]
    }
   ],
   "source": [
    "#Get inputs\n",
    "aouter = np.concatenate((1.082*np.ones(n_runs/2),1.211*np.ones(n_runs/2)), axis=0)\n",
    "params = zip(aouter,n_outputs*np.ones(n_runs),tmax*np.ones(n_runs),(1000*np.random.random(n_runs)).astype(\"int\"))\n",
    "\n",
    "#Run the problem\n",
    "import multiprocessing as mp\n",
    "def execute(pars):\n",
    "    problem(pars[0],pars[1],pars[2],pars[3])\n",
    "\n",
    "if __name__== '__main__':\n",
    "    pool = mp.Pool(processes=n_runs)\n",
    "    pool.map(execute, params)\n",
    "    pool.close()\n",
    "    pool.join()"
   ]
  },
  {
   "cell_type": "markdown",
   "metadata": {
    "collapsed": true
   },
   "source": [
    "Now go to Fourier_Analyze notebook to analyze the results."
   ]
  }
 ],
 "metadata": {
  "kernelspec": {
   "display_name": "Python 2",
   "language": "python",
   "name": "python2"
  },
  "language_info": {
   "codemirror_mode": {
    "name": "ipython",
    "version": 2
   },
   "file_extension": ".py",
   "mimetype": "text/x-python",
   "name": "python",
   "nbconvert_exporter": "python",
   "pygments_lexer": "ipython2",
   "version": "2.7.11"
  }
 },
 "nbformat": 4,
 "nbformat_minor": 0
}
