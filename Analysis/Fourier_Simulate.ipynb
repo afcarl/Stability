{
 "cells": [
  {
   "cell_type": "markdown",
   "metadata": {},
   "source": [
    "# Analysis of Orbits in Fourier Space\n",
    "\n",
    "Here we simulate Dan's Machine Learning system with rebound and then do a basic Fourier analysis. "
   ]
  },
  {
   "cell_type": "code",
   "execution_count": 1,
   "metadata": {
    "collapsed": true
   },
   "outputs": [],
   "source": [
    "import rebound\n",
    "import numpy as np\n",
    "import pandas as pd\n",
    "import numpy as np\n",
    "import time\n",
    "import matplotlib.pyplot as plt\n",
    "%matplotlib inline"
   ]
  },
  {
   "cell_type": "markdown",
   "metadata": {},
   "source": [
    "Here we set up the outer solar system with the possibility to inflate the masses. Such a system is known to go unstable on short timescales (e.g. Chambers, 1999). The simulation stops once there is a close encounter. "
   ]
  },
  {
   "cell_type": "code",
   "execution_count": null,
   "metadata": {
    "collapsed": false
   },
   "outputs": [],
   "source": [
    "def problem_com(inner_massfac,output_N,tmax,seed):\n",
    "    sim = rebound.Simulation()\n",
    "    sim.integrator = \"whfast\"\n",
    "    sim.dt = 1e-4*2*np.pi\n",
    "    \n",
    "    #parameters\n",
    "    m_planet = 5*3e-6    #5-earth masses\n",
    "    a_planet = 1\n",
    "    rhill = a_planet*(m_planet/3.)**(1./3.)\n",
    "    e = 1e-6\n",
    "    \n",
    "    np.random.seed(seed)\n",
    "    \n",
    "    #add bodies - COM frame\n",
    "    sim.add(m=1.)\n",
    "    sim.add(a=a_planet - 52.63*rhill,m=m_planet*inner_massfac,e=e,inc=1e-4,f=np.random.random()*np.pi*2)\n",
    "    sim.add(a=a_planet,m=m_planet,e=e,inc=2e-4,f=np.random.random()*np.pi*2)\n",
    "    sim.add(a=a_planet + 8*rhill,m=m_planet,e=e,inc=1e-5,f=np.random.random()*np.pi*2)\n",
    "    sim.N_active = sim.N\n",
    "    \n",
    "    sim.move_to_com()\n",
    "    E0 = sim.calculate_energy()\n",
    "    #sim.init_megno()\n",
    "    \n",
    "    #condition to stop the simulation\n",
    "    m_neptune = 5e-5\n",
    "    sim.exit_min_distance = a_planet*(m_neptune/3.)**(1./3.)\n",
    "    \n",
    "    #integrate and output\n",
    "    output_name = \"Fourier/data/DTsys_t\"+str('{0:.1e}'.format(tmax))+\"_innerMF\"+str(inner_massfac)+\"_sd\"+str(seed)+\".csv\"\n",
    "    output_info = \"Fourier/data/DTsys_t\"+str('{0:.1e}'.format(tmax))+\"_innerMF\"+str(inner_massfac)+\"_sd\"+str(seed)+\"_info.txt\"\n",
    "    start_time = time.time()\n",
    "    times = np.linspace(0,tmax*2*np.pi,output_N)\n",
    "    print 'starting simulation for '+output_name\n",
    "    with open(output_name, 'w') as f:\n",
    "        try:\n",
    "            for t in times:\n",
    "                sim.integrate(t)\n",
    "                f.write(str(sim.t/(2*np.pi)))\n",
    "                #f.write(','+str(sim.calculate_lyapunov()))\n",
    "                outs = []\n",
    "                for p in sim.particles[1:sim.N - sim.N_var]:\n",
    "                    outs += [p.a, p.P, p.e, p.pomega, p.inc, p.Omega, p.f]\n",
    "                for out in outs:\n",
    "                    f.write(',{0}'.format(out))\n",
    "                f.write('\\n')\n",
    "            f.close()\n",
    "            o = open(output_info,\"w\")\n",
    "            o.write('Simulation complete. Final energy error is: '+str(abs((E0 - sim.calculate_energy())/E0))+\".\")\n",
    "            o.write('\\nTotal Elapsed time is: '+str(time.time() - start_time)+' seconds.')\n",
    "            o.close()\n",
    "            print 'Simulation '+output_name+' complete. Final energy error is:', abs((E0 - sim.calculate_energy())/E0)\n",
    "        except rebound.Encounter as error:\n",
    "            f.write(str(sim.t/(2*np.pi)))\n",
    "            #f.write(','+str(sim.calculate_lyapunov()))\n",
    "            outs = []\n",
    "            for p in sim.particles[1:sim.N - sim.N_var]:\n",
    "                outs += [p.a, p.P, p.e, p.pomega, p.inc, p.Omega, p.f]\n",
    "            outs += []\n",
    "            for out in outs:\n",
    "                f.write(',{0}'.format(out))\n",
    "            f.write('\\n')\n",
    "            f.close()\n",
    "            o = open(output_info,\"w\")\n",
    "            o.write(\"Close encounter, simulation \"+output_name+\" stopping.\")\n",
    "            o.write('\\nTotal Elapsed time is: '+str(time.time() - start_time)+' seconds.')\n",
    "            o.close()\n",
    "            print \"Close encounter, simulation \"+output_name+\" stopping.\""
   ]
  },
  {
   "cell_type": "code",
   "execution_count": null,
   "metadata": {
    "collapsed": false
   },
   "outputs": [],
   "source": [
    "def problem_helio(inner_massfac,output_N,tmax,seed):\n",
    "    sim = rebound.Simulation()\n",
    "    sim.integrator = \"ias15\"\n",
    "    sim.dt = 1e-3*2*np.pi\n",
    "    \n",
    "    #parameters\n",
    "    m_planet = 5*3e-6    #5-earth masses\n",
    "    a_planet = 1\n",
    "    rhill = a_planet*(m_planet/3.)**(1./3.)\n",
    "    e = 0\n",
    "    inc = 0\n",
    "    \n",
    "    np.random.seed(seed)\n",
    "    \n",
    "    #add bodies - helio frame\n",
    "    sim.add(m=1.)\n",
    "    sim.add(a=a_planet-52.63*rhill,m=m_planet*inner_massfac,e=e,inc=inc,f=np.random.random()*np.pi*2,primary=sim.particles[0])\n",
    "    sim.add(a=a_planet,m=m_planet,e=e,inc=inc,f=np.random.random()*np.pi*2,primary=sim.particles[0])\n",
    "    sim.add(a=a_planet+8*rhill,m=m_planet,e=e,inc=inc,f=np.random.random()*np.pi*2,primary=sim.particles[0])\n",
    "    sim.N_active = sim.N\n",
    "    \n",
    "    sim.move_to_com()\n",
    "    E0 = sim.calculate_energy()\n",
    "    #sim.init_megno()\n",
    "    \n",
    "    #condition to stop the simulation\n",
    "    m_neptune = 5e-5\n",
    "    sim.exit_min_distance = a_planet*(m_neptune/3.)**(1./3.)\n",
    "    \n",
    "    #integrate and output\n",
    "    output_name = \"Fourier/data/DThelio_t\"+str('{0:.1e}'.format(tmax))+\"_innerMF\"+str(inner_massfac)+\"_sd\"+str(seed)+\".csv\"\n",
    "    output_info = \"Fourier/data/DThelio_t\"+str('{0:.1e}'.format(tmax))+\"_innerMF\"+str(inner_massfac)+\"_sd\"+str(seed)+\"_info.txt\"\n",
    "    start_time = time.time()\n",
    "    times = np.linspace(0,tmax*2*np.pi,output_N)\n",
    "    print 'starting simulation for '+output_name\n",
    "    with open(output_name, 'w') as f:\n",
    "        try:\n",
    "            for t in times:\n",
    "                sim.integrate(t)\n",
    "                f.write(str(sim.t/(2*np.pi)))\n",
    "                #f.write(','+str(sim.calculate_lyapunov()))\n",
    "                outs = []\n",
    "                orbits = sim.calculate_orbits(heliocentric=True)\n",
    "                for o in orbits:\n",
    "                    outs += [o.a, o.P, o.e, o.pomega, o.inc, o.Omega, o.f]\n",
    "                for out in outs:\n",
    "                    f.write(',{0}'.format(out))\n",
    "                f.write('\\n')\n",
    "            f.close()\n",
    "            out = open(output_info,\"w\")\n",
    "            out.write('Simulation complete. Final energy error is: '+str(abs((E0 - sim.calculate_energy())/E0))+\".\")\n",
    "            out.write('\\nTotal Elapsed time is: '+str(time.time() - start_time)+' seconds.')\n",
    "            out.close()\n",
    "            print 'Simulation '+output_name+' complete. Final energy error is:', abs((E0 - sim.calculate_energy())/E0)\n",
    "        except rebound.Encounter as error:\n",
    "            f.write(str(sim.t/(2*np.pi)))\n",
    "            #f.write(','+str(sim.calculate_lyapunov()))\n",
    "            outs = []\n",
    "            orbits = sim.calculate_orbits(heliocentric=True)\n",
    "            for o in orbits:\n",
    "                outs += [o.a, o.P, o.e, o.pomega, o.inc, o.Omega, o.f]\n",
    "            outs += []\n",
    "            for out in outs:\n",
    "                f.write(',{0}'.format(out))\n",
    "            f.write('\\n')\n",
    "            f.close()\n",
    "            out = open(output_info,\"w\")\n",
    "            out.write(\"Close encounter, simulation \"+output_name+\" stopping.\")\n",
    "            out.write('\\nTotal Elapsed time is: '+str(time.time() - start_time)+' seconds.')\n",
    "            out.close()\n",
    "            print \"Close encounter, simulation \"+output_name+\" stopping.\""
   ]
  },
  {
   "cell_type": "markdown",
   "metadata": {},
   "source": [
    "Choose the parameters you will search over."
   ]
  },
  {
   "cell_type": "code",
   "execution_count": null,
   "metadata": {
    "collapsed": false
   },
   "outputs": [],
   "source": [
    "n_runs = 10             #number of simulations you want to run\n",
    "max_inner_massfac = 1   #max mass factor to increase inner planet by (60 = Jupiter)\n",
    "n_outputs = 5e4         #number of outputted data points, important for FFT\n",
    "tmax = 1e6              #simulation time"
   ]
  },
  {
   "cell_type": "markdown",
   "metadata": {},
   "source": [
    "**Warning!** Executing the code below will take a long time!"
   ]
  },
  {
   "cell_type": "code",
   "execution_count": null,
   "metadata": {
    "collapsed": false
   },
   "outputs": [],
   "source": [
    "#Get inputs\n",
    "massfac = np.round(np.logspace(0,np.log10(max_inner_massfac),n_runs),2)\n",
    "params = zip(massfac,n_outputs*np.ones(n_runs),tmax*np.ones(n_runs),(1000*np.random.random(n_runs)).astype(\"int\"))\n",
    "\n",
    "#Run the problem\n",
    "import multiprocessing as mp\n",
    "def execute(pars):\n",
    "    problem_helio(pars[0],pars[1],pars[2],pars[3])\n",
    "\n",
    "if __name__== '__main__':\n",
    "    pool = mp.Pool(processes=n_runs)\n",
    "    pool.map(execute, params)\n",
    "    pool.close()\n",
    "    pool.join()"
   ]
  },
  {
   "cell_type": "markdown",
   "metadata": {
    "collapsed": true
   },
   "source": [
    "Now go to Fourier_Analyze notebook to analyze the results."
   ]
  },
  {
   "cell_type": "code",
   "execution_count": null,
   "metadata": {
    "collapsed": true
   },
   "outputs": [],
   "source": []
  }
 ],
 "metadata": {
  "kernelspec": {
   "display_name": "Python 2",
   "language": "python",
   "name": "python2"
  },
  "language_info": {
   "codemirror_mode": {
    "name": "ipython",
    "version": 2
   },
   "file_extension": ".py",
   "mimetype": "text/x-python",
   "name": "python",
   "nbconvert_exporter": "python",
   "pygments_lexer": "ipython2",
   "version": "2.7.11"
  }
 },
 "nbformat": 4,
 "nbformat_minor": 0
}
