{
 "cells": [
  {
   "cell_type": "code",
   "execution_count": 1,
   "metadata": {
    "collapsed": false
   },
   "outputs": [
    {
     "data": {
      "text/html": [
       "<div>\n",
       "<table border=\"1\" class=\"dataframe\">\n",
       "  <thead>\n",
       "    <tr style=\"text-align: right;\">\n",
       "      <th></th>\n",
       "      <th>Stable</th>\n",
       "      <th>Norbits_instability</th>\n",
       "      <th>Norbits</th>\n",
       "      <th>Mplanet</th>\n",
       "      <th>RH/a</th>\n",
       "      <th>a1</th>\n",
       "      <th>P1</th>\n",
       "      <th>e1</th>\n",
       "      <th>pomega1</th>\n",
       "      <th>inc1</th>\n",
       "      <th>...</th>\n",
       "      <th>Omega3</th>\n",
       "      <th>f3</th>\n",
       "      <th>x3</th>\n",
       "      <th>y3</th>\n",
       "      <th>z3</th>\n",
       "      <th>vx3</th>\n",
       "      <th>vy3</th>\n",
       "      <th>vz3</th>\n",
       "      <th>Rel_Eerr</th>\n",
       "      <th>integ_time</th>\n",
       "    </tr>\n",
       "    <tr>\n",
       "      <th>Sim_ID</th>\n",
       "      <th></th>\n",
       "      <th></th>\n",
       "      <th></th>\n",
       "      <th></th>\n",
       "      <th></th>\n",
       "      <th></th>\n",
       "      <th></th>\n",
       "      <th></th>\n",
       "      <th></th>\n",
       "      <th></th>\n",
       "      <th></th>\n",
       "      <th></th>\n",
       "      <th></th>\n",
       "      <th></th>\n",
       "      <th></th>\n",
       "      <th></th>\n",
       "      <th></th>\n",
       "      <th></th>\n",
       "      <th></th>\n",
       "      <th></th>\n",
       "      <th></th>\n",
       "    </tr>\n",
       "  </thead>\n",
       "  <tbody>\n",
       "    <tr>\n",
       "      <th>4995</th>\n",
       "      <td>True</td>\n",
       "      <td>1.000000e+07</td>\n",
       "      <td>10000000.0</td>\n",
       "      <td>0.000015</td>\n",
       "      <td>0.021544</td>\n",
       "      <td>0.053729</td>\n",
       "      <td>0.012454</td>\n",
       "      <td>0.005642</td>\n",
       "      <td>-1.657512</td>\n",
       "      <td>0.012805</td>\n",
       "      <td>...</td>\n",
       "      <td>-2.455928</td>\n",
       "      <td>-0.162476</td>\n",
       "      <td>0.008390</td>\n",
       "      <td>-0.073445</td>\n",
       "      <td>0.000225</td>\n",
       "      <td>23.145675</td>\n",
       "      <td>2.707954</td>\n",
       "      <td>0.045366</td>\n",
       "      <td>2.622256e-09</td>\n",
       "      <td>1437.494908</td>\n",
       "    </tr>\n",
       "    <tr>\n",
       "      <th>4996</th>\n",
       "      <td>True</td>\n",
       "      <td>1.000000e+07</td>\n",
       "      <td>10000000.0</td>\n",
       "      <td>0.000015</td>\n",
       "      <td>0.021544</td>\n",
       "      <td>0.056524</td>\n",
       "      <td>0.013439</td>\n",
       "      <td>0.003143</td>\n",
       "      <td>0.454508</td>\n",
       "      <td>0.016073</td>\n",
       "      <td>...</td>\n",
       "      <td>2.849398</td>\n",
       "      <td>1.906923</td>\n",
       "      <td>-0.025937</td>\n",
       "      <td>0.072181</td>\n",
       "      <td>-0.000593</td>\n",
       "      <td>-21.424946</td>\n",
       "      <td>-7.242948</td>\n",
       "      <td>0.126097</td>\n",
       "      <td>1.469989e-08</td>\n",
       "      <td>1502.892072</td>\n",
       "    </tr>\n",
       "    <tr>\n",
       "      <th>4997</th>\n",
       "      <td>True</td>\n",
       "      <td>1.000000e+07</td>\n",
       "      <td>10000000.0</td>\n",
       "      <td>0.000015</td>\n",
       "      <td>0.021544</td>\n",
       "      <td>0.058060</td>\n",
       "      <td>0.013990</td>\n",
       "      <td>0.009825</td>\n",
       "      <td>-0.543930</td>\n",
       "      <td>0.013198</td>\n",
       "      <td>...</td>\n",
       "      <td>1.792055</td>\n",
       "      <td>0.982644</td>\n",
       "      <td>-0.007582</td>\n",
       "      <td>0.076548</td>\n",
       "      <td>-0.000043</td>\n",
       "      <td>-22.647292</td>\n",
       "      <td>-2.002117</td>\n",
       "      <td>0.103816</td>\n",
       "      <td>7.680985e-09</td>\n",
       "      <td>1408.293117</td>\n",
       "    </tr>\n",
       "    <tr>\n",
       "      <th>4998</th>\n",
       "      <td>False</td>\n",
       "      <td>2.365555e+05</td>\n",
       "      <td>10000000.0</td>\n",
       "      <td>0.000015</td>\n",
       "      <td>0.021544</td>\n",
       "      <td>0.052558</td>\n",
       "      <td>0.012049</td>\n",
       "      <td>0.003733</td>\n",
       "      <td>-3.677540</td>\n",
       "      <td>0.004648</td>\n",
       "      <td>...</td>\n",
       "      <td>-3.022916</td>\n",
       "      <td>0.840517</td>\n",
       "      <td>0.031328</td>\n",
       "      <td>-0.060568</td>\n",
       "      <td>0.000609</td>\n",
       "      <td>21.634522</td>\n",
       "      <td>10.844146</td>\n",
       "      <td>-0.078264</td>\n",
       "      <td>6.473084e-07</td>\n",
       "      <td>33.453553</td>\n",
       "    </tr>\n",
       "    <tr>\n",
       "      <th>4999</th>\n",
       "      <td>False</td>\n",
       "      <td>1.997705e+04</td>\n",
       "      <td>10000000.0</td>\n",
       "      <td>0.000015</td>\n",
       "      <td>0.021544</td>\n",
       "      <td>0.051719</td>\n",
       "      <td>0.011762</td>\n",
       "      <td>0.015866</td>\n",
       "      <td>1.766786</td>\n",
       "      <td>0.011312</td>\n",
       "      <td>...</td>\n",
       "      <td>-1.104623</td>\n",
       "      <td>2.694640</td>\n",
       "      <td>0.067710</td>\n",
       "      <td>0.016891</td>\n",
       "      <td>0.000328</td>\n",
       "      <td>-5.630598</td>\n",
       "      <td>22.998094</td>\n",
       "      <td>0.025569</td>\n",
       "      <td>8.613444e-07</td>\n",
       "      <td>3.079377</td>\n",
       "    </tr>\n",
       "  </tbody>\n",
       "</table>\n",
       "<p>5 rows × 46 columns</p>\n",
       "</div>"
      ],
      "text/plain": [
       "       Stable  Norbits_instability     Norbits   Mplanet      RH/a        a1  \\\n",
       "Sim_ID                                                                         \n",
       "4995     True         1.000000e+07  10000000.0  0.000015  0.021544  0.053729   \n",
       "4996     True         1.000000e+07  10000000.0  0.000015  0.021544  0.056524   \n",
       "4997     True         1.000000e+07  10000000.0  0.000015  0.021544  0.058060   \n",
       "4998    False         2.365555e+05  10000000.0  0.000015  0.021544  0.052558   \n",
       "4999    False         1.997705e+04  10000000.0  0.000015  0.021544  0.051719   \n",
       "\n",
       "              P1        e1   pomega1      inc1     ...         Omega3  \\\n",
       "Sim_ID                                             ...                  \n",
       "4995    0.012454  0.005642 -1.657512  0.012805     ...      -2.455928   \n",
       "4996    0.013439  0.003143  0.454508  0.016073     ...       2.849398   \n",
       "4997    0.013990  0.009825 -0.543930  0.013198     ...       1.792055   \n",
       "4998    0.012049  0.003733 -3.677540  0.004648     ...      -3.022916   \n",
       "4999    0.011762  0.015866  1.766786  0.011312     ...      -1.104623   \n",
       "\n",
       "              f3        x3        y3        z3        vx3        vy3  \\\n",
       "Sim_ID                                                                 \n",
       "4995   -0.162476  0.008390 -0.073445  0.000225  23.145675   2.707954   \n",
       "4996    1.906923 -0.025937  0.072181 -0.000593 -21.424946  -7.242948   \n",
       "4997    0.982644 -0.007582  0.076548 -0.000043 -22.647292  -2.002117   \n",
       "4998    0.840517  0.031328 -0.060568  0.000609  21.634522  10.844146   \n",
       "4999    2.694640  0.067710  0.016891  0.000328  -5.630598  22.998094   \n",
       "\n",
       "             vz3      Rel_Eerr   integ_time  \n",
       "Sim_ID                                       \n",
       "4995    0.045366  2.622256e-09  1437.494908  \n",
       "4996    0.126097  1.469989e-08  1502.892072  \n",
       "4997    0.103816  7.680985e-09  1408.293117  \n",
       "4998   -0.078264  6.473084e-07    33.453553  \n",
       "4999    0.025569  8.613444e-07     3.079377  \n",
       "\n",
       "[5 rows x 46 columns]"
      ]
     },
     "execution_count": 1,
     "metadata": {},
     "output_type": "execute_result"
    }
   ],
   "source": [
    "import pandas as pd\n",
    "import numpy as np\n",
    "df = pd.read_csv('../data/1e7datasetcorr.csv', index_col=0)\n",
    "df.tail()"
   ]
  },
  {
   "cell_type": "code",
   "execution_count": 2,
   "metadata": {
    "collapsed": true
   },
   "outputs": [],
   "source": [
    "from sklearn.cross_validation import train_test_split\n",
    "X = df.ix[:, 1:]\n",
    "y = df.ix[:,0]\n",
    "X_train, X_holdout, y_train, y_holdout = train_test_split(X, y, test_size=0.3, random_state=1, stratify=y)"
   ]
  },
  {
   "cell_type": "code",
   "execution_count": 3,
   "metadata": {
    "collapsed": false
   },
   "outputs": [],
   "source": [
    "holdoutdf = pd.concat([y_holdout, X_holdout], axis=1)\n",
    "traindf = pd.concat([y_train, X_train], axis=1)\n",
    "holdoutdf.to_csv('../data/1e7data_holdout.csv', encoding='ascii')\n",
    "traindf.to_csv('../data/1e7data_train.csv', encoding='ascii')"
   ]
  },
  {
   "cell_type": "markdown",
   "metadata": {},
   "source": [
    "# First do Stability over 1e6 orbits to compare to previous dataset"
   ]
  },
  {
   "cell_type": "code",
   "execution_count": 4,
   "metadata": {
    "collapsed": false
   },
   "outputs": [
    {
     "data": {
      "text/plain": [
       "(3500, 18)"
      ]
     },
     "execution_count": 4,
     "metadata": {},
     "output_type": "execute_result"
    }
   ],
   "source": [
    "columns = []\n",
    "for i in ['1', '2', '3']:\n",
    "    #columns += ['a'+i, 'P'+i, 'e'+i, 'pomega'+i, 'inc'+i, 'Omega'+i, 'f'+i, 'x'+i, 'y'+i, 'z'+i, 'vx'+i, 'vy'+i, 'vz'+i]\n",
    "    columns += ['P'+i, 'e'+i, 'pomega'+i, 'inc'+i, 'Omega'+i, 'f'+i]\n",
    "\n",
    "def stable1e6(Norbits):\n",
    "    if Norbits > 1e6:\n",
    "        return True\n",
    "    else:\n",
    "        return False\n",
    "    \n",
    "y_train = X_train['Norbits_instability'].map(stable1e6)\n",
    "X_train = X_train[columns]\n",
    "y_holdout = X_holdout['Norbits_instability'].map(stable1e6)\n",
    "X_holdout = X_holdout[columns]\n",
    "X_train.shape"
   ]
  },
  {
   "cell_type": "code",
   "execution_count": 5,
   "metadata": {
    "collapsed": false
   },
   "outputs": [
    {
     "name": "stdout",
     "output_type": "stream",
     "text": [
      "The best parameters are {{'max_features': 'sqrt', 'n_estimators': 500}} with a score of 0.7980\n",
      "AUC score is 0.804949324324\n",
      "Accuracy is 0.735333333333\n"
     ]
    }
   ],
   "source": [
    "from sklearn.cross_validation import StratifiedShuffleSplit\n",
    "from sklearn.grid_search import GridSearchCV\n",
    "from sklearn.ensemble import RandomForestClassifier\n",
    "from sklearn.calibration import calibration_curve\n",
    "  \n",
    "cv_s = StratifiedShuffleSplit(y_train,  n_iter=10 , test_size=0.1, random_state=42)\n",
    "rfc = RandomForestClassifier(max_features= 'auto' ,n_estimators=50) \n",
    "param_grid = { \n",
    "        'n_estimators': [500],\n",
    "        'max_features': ['sqrt']}\n",
    "CV_rfc = GridSearchCV(n_jobs=-1, estimator=rfc, scoring=\"roc_auc\", param_grid=param_grid, cv=cv_s)\n",
    "CV_rfc.fit(X_train, y_train)\n",
    "print(\"The best parameters are {%s} with a score of %0.4f\" % (CV_rfc.best_params_, CV_rfc.best_score_))\n",
    "model = CV_rfc.best_estimator_\n",
    "y_pred = model.predict_proba(X_holdout)\n",
    "y_pred_acc = model.predict(X_holdout)\n",
    "from sklearn import metrics\n",
    "test_score = metrics.roc_auc_score(y_holdout, y_pred[:,1])\n",
    "test_score_acc = metrics.accuracy_score(y_holdout, y_pred_acc)\n",
    "print(\"AUC score is {0}\".format(test_score))\n",
    "print(\"Accuracy is {0}\".format(test_score_acc))"
   ]
  },
  {
   "cell_type": "markdown",
   "metadata": {},
   "source": [
    "# Now do stability over 1e7 orbits"
   ]
  },
  {
   "cell_type": "code",
   "execution_count": 6,
   "metadata": {
    "collapsed": true
   },
   "outputs": [],
   "source": [
    "X_train, X_holdout, y_train, y_holdout = train_test_split(X, y, test_size=0.3, random_state=1, stratify=y)\n",
    "X_train = X_train[columns]\n",
    "X_holdout = X_holdout[columns]"
   ]
  },
  {
   "cell_type": "code",
   "execution_count": 7,
   "metadata": {
    "collapsed": false
   },
   "outputs": [
    {
     "name": "stdout",
     "output_type": "stream",
     "text": [
      "The best parameters are {{'max_features': 'sqrt', 'n_estimators': 500}} with a score of 0.7834\n",
      "AUC score is 0.765297612954\n",
      "Accuracy is 0.732\n"
     ]
    }
   ],
   "source": [
    "from sklearn.cross_validation import StratifiedShuffleSplit\n",
    "from sklearn.grid_search import GridSearchCV\n",
    "from sklearn.ensemble import RandomForestClassifier\n",
    "from sklearn.calibration import calibration_curve\n",
    "\n",
    "cv_s = StratifiedShuffleSplit(y_train,  n_iter=10 , test_size=0.1, random_state=42)\n",
    "rfc = RandomForestClassifier(max_features= 'auto' ,n_estimators=50) \n",
    "param_grid = { \n",
    "        'n_estimators': [500],\n",
    "        'max_features': ['sqrt']}\n",
    "CV_rfc = GridSearchCV(n_jobs=-1, estimator=rfc, scoring=\"roc_auc\", param_grid=param_grid, cv=cv_s)\n",
    "CV_rfc.fit(X_train, y_train)\n",
    "print(\"The best parameters are {%s} with a score of %0.4f\" % (CV_rfc.best_params_, CV_rfc.best_score_))\n",
    "model = CV_rfc.best_estimator_\n",
    "y_pred = model.predict_proba(X_holdout)\n",
    "y_pred_acc = model.predict(X_holdout)\n",
    "from sklearn import metrics\n",
    "test_score = metrics.roc_auc_score(y_holdout, y_pred[:,1])\n",
    "test_score_acc = metrics.accuracy_score(y_holdout, y_pred_acc)\n",
    "print(\"AUC score is {0}\".format(test_score))\n",
    "print(\"Accuracy is {0}\".format(test_score_acc))"
   ]
  },
  {
   "cell_type": "markdown",
   "metadata": {},
   "source": [
    "# Now we predict on datasets that draw from the simulation states at different times"
   ]
  },
  {
   "cell_type": "code",
   "execution_count": 21,
   "metadata": {
    "collapsed": false
   },
   "outputs": [
    {
     "name": "stdout",
     "output_type": "stream",
     "text": [
      "[  0  62 125 188 251 313 376 439 502 565]\n",
      "[125.0, 260.28286520124999, 548.42698400250003, 1155.5588054174998, 2434.8111812999996, 5069.9170439499994, 10682.529222237499, 22508.540000624998, 47426.44390875, 99929.519274249993]\n",
      "2512 systems in training data (/3500)survived longer than 1.0e+05 orbits\n"
     ]
    }
   ],
   "source": [
    "amin=0.04\n",
    "Pmin = amin**1.5\n",
    "Ndfs=10\n",
    "indices=np.int64(np.linspace(0,565,Ndfs))\n",
    "print(indices)\n",
    "outcolumns = ['t']\n",
    "for i in ['1', '2', '3']:\n",
    "    outcolumns += ['a'+i, 'P'+i, 'e'+i, 'pomega'+i, 'inc'+i, 'Omega'+i, 'f'+i]\n",
    "out0 = pd.read_csv('../data/corrdata/output0.csv', names=outcolumns)\n",
    "orbits = []\n",
    "for index in indices:\n",
    "    orbits.append(out0.loc[index, 't']/Pmin) #using Pmin means we always get the max # of orbits possible for given t\n",
    "print(orbits)\n",
    "\n",
    "orbits_cutoff = orbits[-1]\n",
    "train_ids = X_train.index\n",
    "dfcut = df.loc[train_ids]\n",
    "dfcut = dfcut[dfcut['Norbits_instability'] > orbits_cutoff] # take only ones that survive > orbits_cutoff\n",
    "print(\"{0} systems in training data (/{1})survived longer than {2:.1e} orbits\".format(dfcut.shape[0], X_train.shape[0], orbits_cutoff))\n",
    "\n",
    "Xs = [pd.DataFrame(index=dfcut.index, columns=columns, dtype=np.float64) for i in range(Ndfs)]\n",
    "#Norbits = [pd.Series(index=dfcut.index, dtype=np.float64) for i in range(Ndfs)]\n",
    "ys = [pd.Series(index=dfcut.index, dtype=bool) for i in range(Ndfs)]\n",
    "\n",
    "ids = dfcut.index\n",
    "for ID in ids:\n",
    "    rundf = pd.read_csv('../data/corrdata/output'+str(ID)+'.csv', names=outcolumns)\n",
    "    P0 = df.loc[ID, 'P1']\n",
    "    for j, index in enumerate(indices):\n",
    "        P1 = rundf.loc[index, 'P1']\n",
    "        Xs[j].loc[ID] = rundf.loc[index, columns]\n",
    "        #Norbits[j].loc[ID] = (df.loc[ID, 'Norbits_instability']*P0 - rundf.loc[index, 't'])/P1 # just use original target, see below\n",
    "        #ys[j].loc[ID] = Norbits[j].loc[ID] > 1e7-orbits_cutoff"
   ]
  },
  {
   "cell_type": "markdown",
   "metadata": {},
   "source": [
    "# orbits_cutoff = 1e5 orbits << 1e7, so for simplicity let's just take the target from the original dataset (if it's stable over 1e7 years, it's probably stable over 0.99e7 years)."
   ]
  },
  {
   "cell_type": "code",
   "execution_count": 22,
   "metadata": {
    "collapsed": false
   },
   "outputs": [
    {
     "data": {
      "text/plain": [
       "(2512,)"
      ]
     },
     "execution_count": 22,
     "metadata": {},
     "output_type": "execute_result"
    }
   ],
   "source": [
    "for j in range(Ndfs):\n",
    "    ys[j] = dfcut['Stable']"
   ]
  },
  {
   "cell_type": "code",
   "execution_count": 23,
   "metadata": {
    "collapsed": false
   },
   "outputs": [
    {
     "name": "stdout",
     "output_type": "stream",
     "text": [
      "Using datasets created after N_orbits = [125.0, 260.28286520124999, 548.42698400250003, 1155.5588054174998, 2434.8111812999996, 5069.9170439499994, 10682.529222237499, 22508.540000624998, 47426.44390875, 99929.519274249993]\n"
     ]
    }
   ],
   "source": [
    "import random\n",
    "\n",
    "print(\"Using datasets created after N_orbits = {0}\".format(orbits))\n",
    "Nholdout = y_holdout.shape[0]\n",
    "Nsamples = Xs[0].shape[0] # how many simulations there are in the X for each slice in time\n",
    "\n",
    "Nseeds = 10\n",
    "test_scores, test_scores_acc = np.zeros((Ndfs, Nseeds)), np.zeros((Ndfs, Nseeds))\n",
    "\n",
    "for seed in range(Nseeds):\n",
    "    random.seed(seed)\n",
    "    for i in range(Ndfs):\n",
    "        sample = random.sample(ids,Nholdout) # get sample of Nholdout values from ids without replacement\n",
    "        Xtest = Xs[i].loc[sample]\n",
    "        ytest = ys[i].loc[sample]\n",
    "        y_pred = model.predict_proba(Xtest)\n",
    "        y_pred_acc = model.predict(Xtest)\n",
    "        test_scores[i, seed] = metrics.roc_auc_score(ytest, y_pred[:,1])\n",
    "        test_scores_acc[i, seed] = metrics.accuracy_score(ytest, y_pred_acc)"
   ]
  },
  {
   "cell_type": "code",
   "execution_count": 24,
   "metadata": {
    "collapsed": false
   },
   "outputs": [
    {
     "data": {
      "text/plain": [
       "<matplotlib.legend.Legend at 0x7ff18998bfd0>"
      ]
     },
     "execution_count": 24,
     "metadata": {},
     "output_type": "execute_result"
    },
    {
     "data": {
      "image/png": "[encoded data removed]",
      "text/plain": [
       "<matplotlib.figure.Figure at 0x7ff189962c50>"
      ]
     },
     "metadata": {},
     "output_type": "display_data"
    }
   ],
   "source": [
    "%matplotlib inline\n",
    "import matplotlib.pyplot as plt\n",
    "fig, ax = plt.subplots(figsize=(15,5))\n",
    "for i, orbit in enumerate(orbits):\n",
    "    ax.plot([orbit]*Nseeds, test_scores[i,:], color='b', marker='.', linestyle='', alpha=0.3)\n",
    "    ax.plot([orbit]*Nseeds, test_scores_acc[i,:], color='g', marker='.', linestyle='', alpha=0.3)\n",
    "ax.axhline(test_score, color='b', linestyle='--', label='AUC')\n",
    "ax.axhline(test_score_acc, color='g', linestyle='--', label='Accuracy')\n",
    "ax.set_xscale('log')\n",
    "ax.set_xlabel('N_orbits used to create testing set', fontsize=24)\n",
    "ax.set_ylabel('Score', fontsize=24)\n",
    "plt.legend()"
   ]
  },
  {
   "cell_type": "markdown",
   "metadata": {
    "collapsed": true
   },
   "source": [
    "Horizontal lines are the scores from the best-fit model that just uses the training data.  Points are scores if we instead predict on a sample drawn at the time on the x axis. \n",
    "\n",
    "It seems like for short times, our drawn sample is too correlated to the training data, so the model is able to predict much better than it can on out-of-sample data.  However, beyond about 1e3 orbits, the model achieves the same AUC on out-of-sample data as on a dataset generated from states within each integration.  This may suggest we can greatly increase our sample size.\n",
    "\n",
    "For some reason the accuracy doesn't seem to follow this trend.  It seems to predict worse on the generated datasets than on out-of-sample data, which seems counterintuitive.  It seems like a bug but I haven't been able to find it yet."
   ]
  },
  {
   "cell_type": "code",
   "execution_count": null,
   "metadata": {
    "collapsed": true
   },
   "outputs": [],
   "source": []
  }
 ],
 "metadata": {
  "kernelspec": {
   "display_name": "Python 2",
   "language": "python",
   "name": "python2"
  },
  "language_info": {
   "codemirror_mode": {
    "name": "ipython",
    "version": 2
   },
   "file_extension": ".py",
   "mimetype": "text/x-python",
   "name": "python",
   "nbconvert_exporter": "python",
   "pygments_lexer": "ipython2",
   "version": "2.7.10"
  }
 },
 "nbformat": 4,
 "nbformat_minor": 0
}
