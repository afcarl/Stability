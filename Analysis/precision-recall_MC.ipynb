{
 "cells": [
  {
   "cell_type": "markdown",
   "metadata": {},
   "source": [
    "# Precision-Recall Monte-Carlo\n",
    "This notebook explores how the precision-recall curves are affected by different Norbits_instability values. The essence of this notebook is as follows:  \n",
    "1) Using sim_id = 4002 and 4283 we get a sense of the standard deviation in log(Norbits_instability). We assume that all sim_ids have the same spread in Norbits_Instability.  \n",
    "2) Randomly generate new Norbits_Instability times for each sim_id by drawing from gaussian distributions, where the mean is the \"true\" Norbits_Instability time and standard deviation calculated from 1).   \n",
    "3) If Norbits_Instability < 1e6, then the newly drawn system is classified as unstable, otherwise it is stable.  \n",
    "4) Generate new precision-recall curves.\n",
    "\n",
    "* Dealing with Norbits_instability = 10^7 systems: Maybe it goes unstable after 10^9 years, and assuming that the mean of the distribution is 10^7 is thus incorrect. But maybe if we see the slope the rate of how systems go unstable, fit a curve to that, and then extend it, we can draw mean instability times for the systems with Norbits_instability = 10^7.  "
   ]
  },
  {
   "cell_type": "code",
   "execution_count": 5,
   "metadata": {
    "collapsed": false
   },
   "outputs": [],
   "source": [
    "import pandas as pd\n",
    "import numpy as np\n",
    "import os\n",
    "import matplotlib.pyplot as plt\n",
    "%matplotlib inline"
   ]
  },
  {
   "cell_type": "code",
   "execution_count": 18,
   "metadata": {
    "collapsed": false
   },
   "outputs": [
    {
     "data": {
      "text/html": [
       "<div>\n",
       "<table border=\"1\" class=\"dataframe\">\n",
       "  <thead>\n",
       "    <tr style=\"text-align: right;\">\n",
       "      <th></th>\n",
       "      <th>Stable</th>\n",
       "      <th>Norbits_instability</th>\n",
       "      <th>Norbits</th>\n",
       "      <th>Mplanet</th>\n",
       "      <th>RH/a</th>\n",
       "      <th>a1</th>\n",
       "      <th>P1</th>\n",
       "      <th>e1</th>\n",
       "      <th>pomega1</th>\n",
       "      <th>inc1</th>\n",
       "      <th>...</th>\n",
       "      <th>Omega3</th>\n",
       "      <th>f3</th>\n",
       "      <th>x3</th>\n",
       "      <th>y3</th>\n",
       "      <th>z3</th>\n",
       "      <th>vx3</th>\n",
       "      <th>vy3</th>\n",
       "      <th>vz3</th>\n",
       "      <th>Rel_Eerr</th>\n",
       "      <th>integ_time</th>\n",
       "    </tr>\n",
       "    <tr>\n",
       "      <th>Sim_ID</th>\n",
       "      <th></th>\n",
       "      <th></th>\n",
       "      <th></th>\n",
       "      <th></th>\n",
       "      <th></th>\n",
       "      <th></th>\n",
       "      <th></th>\n",
       "      <th></th>\n",
       "      <th></th>\n",
       "      <th></th>\n",
       "      <th></th>\n",
       "      <th></th>\n",
       "      <th></th>\n",
       "      <th></th>\n",
       "      <th></th>\n",
       "      <th></th>\n",
       "      <th></th>\n",
       "      <th></th>\n",
       "      <th></th>\n",
       "      <th></th>\n",
       "      <th></th>\n",
       "    </tr>\n",
       "  </thead>\n",
       "  <tbody>\n",
       "    <tr>\n",
       "      <th>995</th>\n",
       "      <td>False</td>\n",
       "      <td>4.220480e+06</td>\n",
       "      <td>10000000.0</td>\n",
       "      <td>0.000015</td>\n",
       "      <td>0.021544</td>\n",
       "      <td>0.045652</td>\n",
       "      <td>0.009754</td>\n",
       "      <td>0.013522</td>\n",
       "      <td>1.325028</td>\n",
       "      <td>0.004092</td>\n",
       "      <td>...</td>\n",
       "      <td>-1.946087</td>\n",
       "      <td>-4.701002</td>\n",
       "      <td>-0.04958</td>\n",
       "      <td>0.035818</td>\n",
       "      <td>-0.000597</td>\n",
       "      <td>-15.283265</td>\n",
       "      <td>-20.29633</td>\n",
       "      <td>-0.068275</td>\n",
       "      <td>0.000133</td>\n",
       "      <td>188.618895</td>\n",
       "    </tr>\n",
       "    <tr>\n",
       "      <th>996</th>\n",
       "      <td>False</td>\n",
       "      <td>2.797826e+06</td>\n",
       "      <td>10000000.0</td>\n",
       "      <td>0.000015</td>\n",
       "      <td>0.021544</td>\n",
       "      <td>0.045652</td>\n",
       "      <td>0.009754</td>\n",
       "      <td>0.013522</td>\n",
       "      <td>1.325028</td>\n",
       "      <td>0.004092</td>\n",
       "      <td>...</td>\n",
       "      <td>-1.946087</td>\n",
       "      <td>-4.701002</td>\n",
       "      <td>-0.04958</td>\n",
       "      <td>0.035818</td>\n",
       "      <td>-0.000597</td>\n",
       "      <td>-15.283265</td>\n",
       "      <td>-20.29633</td>\n",
       "      <td>-0.068275</td>\n",
       "      <td>0.000038</td>\n",
       "      <td>126.096676</td>\n",
       "    </tr>\n",
       "    <tr>\n",
       "      <th>997</th>\n",
       "      <td>False</td>\n",
       "      <td>2.938650e+06</td>\n",
       "      <td>10000000.0</td>\n",
       "      <td>0.000015</td>\n",
       "      <td>0.021544</td>\n",
       "      <td>0.045652</td>\n",
       "      <td>0.009754</td>\n",
       "      <td>0.013522</td>\n",
       "      <td>1.325028</td>\n",
       "      <td>0.004092</td>\n",
       "      <td>...</td>\n",
       "      <td>-1.946087</td>\n",
       "      <td>-4.701002</td>\n",
       "      <td>-0.04958</td>\n",
       "      <td>0.035818</td>\n",
       "      <td>-0.000597</td>\n",
       "      <td>-15.283265</td>\n",
       "      <td>-20.29633</td>\n",
       "      <td>-0.068275</td>\n",
       "      <td>0.000031</td>\n",
       "      <td>131.513661</td>\n",
       "    </tr>\n",
       "    <tr>\n",
       "      <th>998</th>\n",
       "      <td>False</td>\n",
       "      <td>1.744611e+07</td>\n",
       "      <td>10000000.0</td>\n",
       "      <td>0.000015</td>\n",
       "      <td>0.021544</td>\n",
       "      <td>0.045652</td>\n",
       "      <td>0.009754</td>\n",
       "      <td>0.013522</td>\n",
       "      <td>1.325028</td>\n",
       "      <td>0.004092</td>\n",
       "      <td>...</td>\n",
       "      <td>-1.946087</td>\n",
       "      <td>-4.701002</td>\n",
       "      <td>-0.04958</td>\n",
       "      <td>0.035818</td>\n",
       "      <td>-0.000597</td>\n",
       "      <td>-15.283265</td>\n",
       "      <td>-20.29633</td>\n",
       "      <td>-0.068275</td>\n",
       "      <td>0.006207</td>\n",
       "      <td>777.151159</td>\n",
       "    </tr>\n",
       "    <tr>\n",
       "      <th>999</th>\n",
       "      <td>False</td>\n",
       "      <td>2.035919e+06</td>\n",
       "      <td>10000000.0</td>\n",
       "      <td>0.000015</td>\n",
       "      <td>0.021544</td>\n",
       "      <td>0.045652</td>\n",
       "      <td>0.009754</td>\n",
       "      <td>0.013522</td>\n",
       "      <td>1.325028</td>\n",
       "      <td>0.004092</td>\n",
       "      <td>...</td>\n",
       "      <td>-1.946087</td>\n",
       "      <td>-4.701002</td>\n",
       "      <td>-0.04958</td>\n",
       "      <td>0.035818</td>\n",
       "      <td>-0.000597</td>\n",
       "      <td>-15.283265</td>\n",
       "      <td>-20.29633</td>\n",
       "      <td>-0.068275</td>\n",
       "      <td>0.001526</td>\n",
       "      <td>91.547254</td>\n",
       "    </tr>\n",
       "  </tbody>\n",
       "</table>\n",
       "<p>5 rows × 46 columns</p>\n",
       "</div>"
      ],
      "text/plain": [
       "       Stable  Norbits_instability     Norbits   Mplanet      RH/a        a1  \\\n",
       "Sim_ID                                                                         \n",
       "995     False         4.220480e+06  10000000.0  0.000015  0.021544  0.045652   \n",
       "996     False         2.797826e+06  10000000.0  0.000015  0.021544  0.045652   \n",
       "997     False         2.938650e+06  10000000.0  0.000015  0.021544  0.045652   \n",
       "998     False         1.744611e+07  10000000.0  0.000015  0.021544  0.045652   \n",
       "999     False         2.035919e+06  10000000.0  0.000015  0.021544  0.045652   \n",
       "\n",
       "              P1        e1   pomega1      inc1     ...        Omega3  \\\n",
       "Sim_ID                                             ...                 \n",
       "995     0.009754  0.013522  1.325028  0.004092     ...     -1.946087   \n",
       "996     0.009754  0.013522  1.325028  0.004092     ...     -1.946087   \n",
       "997     0.009754  0.013522  1.325028  0.004092     ...     -1.946087   \n",
       "998     0.009754  0.013522  1.325028  0.004092     ...     -1.946087   \n",
       "999     0.009754  0.013522  1.325028  0.004092     ...     -1.946087   \n",
       "\n",
       "              f3       x3        y3        z3        vx3       vy3       vz3  \\\n",
       "Sim_ID                                                                         \n",
       "995    -4.701002 -0.04958  0.035818 -0.000597 -15.283265 -20.29633 -0.068275   \n",
       "996    -4.701002 -0.04958  0.035818 -0.000597 -15.283265 -20.29633 -0.068275   \n",
       "997    -4.701002 -0.04958  0.035818 -0.000597 -15.283265 -20.29633 -0.068275   \n",
       "998    -4.701002 -0.04958  0.035818 -0.000597 -15.283265 -20.29633 -0.068275   \n",
       "999    -4.701002 -0.04958  0.035818 -0.000597 -15.283265 -20.29633 -0.068275   \n",
       "\n",
       "        Rel_Eerr  integ_time  \n",
       "Sim_ID                        \n",
       "995     0.000133  188.618895  \n",
       "996     0.000038  126.096676  \n",
       "997     0.000031  131.513661  \n",
       "998     0.006207  777.151159  \n",
       "999     0.001526   91.547254  \n",
       "\n",
       "[5 rows x 46 columns]"
      ]
     },
     "execution_count": 18,
     "metadata": {},
     "output_type": "execute_result"
    }
   ],
   "source": [
    "sim_id = 4002\n",
    "#df = pd.read_csv(\"/mnt/raid-cita/dtamayo/Stability/data/distribution/outputs\"+str(sim_id)+'/distribution'+str(sim_id)+\".csv\", index_col=0)\n",
    "df = pd.read_csv(\"../data/distribution/outputs\"+str(sim_id)+'/distribution'+str(sim_id)+\".csv\", index_col=0)\n",
    "df.tail()\n",
    "\n",
    "sim_id = 4283\n",
    "#df2 = pd.read_csv(\"/mnt/raid-cita/dtamayo/Stability/data/distribution/outputs\"+str(sim_id)+'/distribution'+str(sim_id)+\".csv\", index_col=0)\n",
    "df2 = pd.read_csv(\"../data/distribution/outputs\"+str(sim_id)+'/distribution'+str(sim_id)+\".csv\", index_col=0)\n",
    "df2.tail()"
   ]
  },
  {
   "cell_type": "code",
   "execution_count": 19,
   "metadata": {
    "collapsed": false
   },
   "outputs": [],
   "source": [
    "logs1 = np.log10(df['Norbits_instability'].values)\n",
    "logs2 = np.log10(df2['Norbits_instability'].values)"
   ]
  },
  {
   "cell_type": "code",
   "execution_count": 26,
   "metadata": {
    "collapsed": false
   },
   "outputs": [
    {
     "name": "stdout",
     "output_type": "stream",
     "text": [
      "0.338423941975 0.458251312576\n"
     ]
    },
    {
     "data": {
      "image/png": "[encoded data removed]",
      "text/plain": [
       "<matplotlib.figure.Figure at 0x10b1ec7d0>"
      ]
     },
     "metadata": {},
     "output_type": "display_data"
    }
   ],
   "source": [
    "%matplotlib inline\n",
    "import matplotlib.pyplot as plt\n",
    "\n",
    "fig, ax = plt.subplots()\n",
    "ax.hist(logs1, 40)\n",
    "ax.hist(logs2, 40, alpha=0.5)\n",
    "ax.set_xlabel('Log instability time', fontsize=14)\n",
    "print np.std(logs1),np.std(logs2)"
   ]
  },
  {
   "cell_type": "code",
   "execution_count": 30,
   "metadata": {
    "collapsed": false
   },
   "outputs": [],
   "source": [
    "from scipy.stats import norm\n",
    "mu1, std1 = norm.fit(logs1)\n",
    "mu2, std2 = norm.fit(logs2)\n",
    "std_avg = np.mean([std1,std2])"
   ]
  },
  {
   "cell_type": "code",
   "execution_count": 125,
   "metadata": {
    "collapsed": false
   },
   "outputs": [
    {
     "data": {
      "text/html": [
       "<div>\n",
       "<table border=\"1\" class=\"dataframe\">\n",
       "  <thead>\n",
       "    <tr style=\"text-align: right;\">\n",
       "      <th></th>\n",
       "      <th>Sim_ID</th>\n",
       "      <th>daOverRH1</th>\n",
       "      <th>daOverRH2</th>\n",
       "      <th>P2/P1</th>\n",
       "      <th>P3/P2</th>\n",
       "      <th>predprob</th>\n",
       "      <th>predstable</th>\n",
       "      <th>Norbits_instability</th>\n",
       "      <th>Stable</th>\n",
       "    </tr>\n",
       "  </thead>\n",
       "  <tbody>\n",
       "    <tr>\n",
       "      <th>0</th>\n",
       "      <td>1648</td>\n",
       "      <td>6.879240</td>\n",
       "      <td>7.131643</td>\n",
       "      <td>1.230348</td>\n",
       "      <td>1.239099</td>\n",
       "      <td>0.264850</td>\n",
       "      <td>False</td>\n",
       "      <td>1.000000e+07</td>\n",
       "      <td>True</td>\n",
       "    </tr>\n",
       "    <tr>\n",
       "      <th>1</th>\n",
       "      <td>3471</td>\n",
       "      <td>8.496936</td>\n",
       "      <td>5.371167</td>\n",
       "      <td>1.286789</td>\n",
       "      <td>1.178497</td>\n",
       "      <td>0.012564</td>\n",
       "      <td>False</td>\n",
       "      <td>8.233677e+05</td>\n",
       "      <td>False</td>\n",
       "    </tr>\n",
       "    <tr>\n",
       "      <th>2</th>\n",
       "      <td>3849</td>\n",
       "      <td>6.822671</td>\n",
       "      <td>5.825163</td>\n",
       "      <td>1.228390</td>\n",
       "      <td>1.194028</td>\n",
       "      <td>0.005195</td>\n",
       "      <td>False</td>\n",
       "      <td>7.204145e+03</td>\n",
       "      <td>False</td>\n",
       "    </tr>\n",
       "    <tr>\n",
       "      <th>3</th>\n",
       "      <td>3537</td>\n",
       "      <td>5.092680</td>\n",
       "      <td>6.103170</td>\n",
       "      <td>1.169004</td>\n",
       "      <td>1.203572</td>\n",
       "      <td>0.011169</td>\n",
       "      <td>False</td>\n",
       "      <td>5.851915e+03</td>\n",
       "      <td>False</td>\n",
       "    </tr>\n",
       "    <tr>\n",
       "      <th>4</th>\n",
       "      <td>4214</td>\n",
       "      <td>8.928228</td>\n",
       "      <td>5.186531</td>\n",
       "      <td>1.301979</td>\n",
       "      <td>1.172200</td>\n",
       "      <td>0.076634</td>\n",
       "      <td>False</td>\n",
       "      <td>6.435885e+06</td>\n",
       "      <td>True</td>\n",
       "    </tr>\n",
       "  </tbody>\n",
       "</table>\n",
       "</div>"
      ],
      "text/plain": [
       "   Sim_ID  daOverRH1  daOverRH2     P2/P1     P3/P2  predprob predstable  \\\n",
       "0    1648   6.879240   7.131643  1.230348  1.239099  0.264850      False   \n",
       "1    3471   8.496936   5.371167  1.286789  1.178497  0.012564      False   \n",
       "2    3849   6.822671   5.825163  1.228390  1.194028  0.005195      False   \n",
       "3    3537   5.092680   6.103170  1.169004  1.203572  0.011169      False   \n",
       "4    4214   8.928228   5.186531  1.301979  1.172200  0.076634      False   \n",
       "\n",
       "   Norbits_instability Stable  \n",
       "0         1.000000e+07   True  \n",
       "1         8.233677e+05  False  \n",
       "2         7.204145e+03  False  \n",
       "3         5.851915e+03  False  \n",
       "4         6.435885e+06   True  "
      ]
     },
     "execution_count": 125,
     "metadata": {},
     "output_type": "execute_result"
    }
   ],
   "source": [
    "data = pd.read_csv(\"../data/ari_mc.csv\",header=0)\n",
    "data.head()\n",
    "\n",
    "#change stability to if systems survive > 10^6 years\n",
    "thresh_stability=6\n",
    "data.loc[np.log10(data[\"Norbits_instability\"])>=thresh_stability,\"Stable\"] = True\n",
    "data.head()"
   ]
  },
  {
   "cell_type": "code",
   "execution_count": 156,
   "metadata": {
    "collapsed": false,
    "scrolled": true
   },
   "outputs": [],
   "source": [
    "def PR_MC(data, std_avg, thresh_stability, N_samples):\n",
    "    precision = []\n",
    "    recall = []\n",
    "    \n",
    "    #fig, ax = plt.subplots()\n",
    "    for i in range(N_samples):\n",
    "        #Monte-Carlo\n",
    "        data[\"sample_log_NorbInsta\"] = np.random.normal(loc=np.log10(data[\"Norbits_instability\"]), scale=2*std_avg)\n",
    "        #ax.hist(data[\"sample_log_NorbInsta\"], 40, alpha=0.3, label=\"\");\n",
    "        \n",
    "        #pos = postive result, i.e. Stable. \n",
    "        true_pos_and_pos_classify = data[(data[\"Stable\"]==1)&(data[\"sample_log_NorbInsta\"]>thresh_stability)].shape[0]\n",
    "        pos_classify = data[data[\"sample_log_NorbInsta\"]>thresh_stability].shape[0]\n",
    "        total_true_pos = data[data[\"Stable\"]==1].shape[0]\n",
    "        precision.append(true_pos_and_pos_classify/float(pos_classify))\n",
    "        recall.append(true_pos_and_pos_classify/float(total_true_pos))\n",
    "    \n",
    "    #ax.hist(np.log10(data[\"Norbits_instability\"]), 40, alpha=0.3, label=\"original dist\");\n",
    "    #plt.legend(loc=\"upper left\")\n",
    "    #ax.set_title(\"Difference between MC samples and original\")\n",
    "    #ax.set_xlabel(\"log10(Norbits_instability)\")\n",
    "    #plt.savefig(\"precision-recall_MC_sample-dist.pdf\")\n",
    "    return precision, recall, data"
   ]
  },
  {
   "cell_type": "code",
   "execution_count": 157,
   "metadata": {
    "collapsed": false
   },
   "outputs": [],
   "source": [
    "N_samples = 1000\n",
    "precision, recall, data = PR_MC(data,std_avg,thresh_stability,N_samples)"
   ]
  },
  {
   "cell_type": "code",
   "execution_count": 158,
   "metadata": {
    "collapsed": false
   },
   "outputs": [
    {
     "data": {
      "image/png": "[encoded data removed]",
      "text/plain": [
       "<matplotlib.figure.Figure at 0x116e8c410>"
      ]
     },
     "metadata": {},
     "output_type": "display_data"
    }
   ],
   "source": [
    "fig, ax = plt.subplots()\n",
    "ax.hist(precision, 20, label=\"precision\");\n",
    "ax.hist(recall, 20, alpha=0.5, label=\"recall\");\n",
    "plt.legend(loc=\"upper right\")\n",
    "plt.savefig(\"precision-recall_MC_2xstd.pdf\")"
   ]
  },
  {
   "cell_type": "code",
   "execution_count": 154,
   "metadata": {
    "collapsed": false
   },
   "outputs": [
    {
     "data": {
      "text/plain": [
       "<matplotlib.text.Text at 0x1184986d0>"
      ]
     },
     "execution_count": 154,
     "metadata": {},
     "output_type": "execute_result"
    },
    {
     "data": {
      "image/png": "[encoded data removed]",
      "text/plain": [
       "<matplotlib.figure.Figure at 0x11517d310>"
      ]
     },
     "metadata": {},
     "output_type": "display_data"
    }
   ],
   "source": [
    "fig, ax = plt.subplots()\n",
    "ax.hist(np.log10(data[\"Norbits_instability\"]), 40, label=\"original dist\");\n",
    "ax.hist(data[\"sample_log_NorbInsta\"], 40, alpha=0.5, label=\"sample MC dist\");\n",
    "plt.legend(loc=\"upper left\")\n",
    "ax.set_title(\"Difference between MC samples and original\")\n",
    "ax.set_xlabel(\"log10(Norbits_instability)\")"
   ]
  },
  {
   "cell_type": "code",
   "execution_count": 78,
   "metadata": {
    "collapsed": false
   },
   "outputs": [
    {
     "data": {
      "text/plain": [
       "<matplotlib.text.Text at 0x112eca710>"
      ]
     },
     "execution_count": 78,
     "metadata": {},
     "output_type": "execute_result"
    },
    {
     "data": {
      "image/png": "[encoded data removed]",
      "text/plain": [
       "<matplotlib.figure.Figure at 0x1112c57d0>"
      ]
     },
     "metadata": {},
     "output_type": "display_data"
    }
   ],
   "source": [
    "insta_time = data.loc[data[\"Norbits_instability\"]<1e7,\"Norbits_instability\"]\n",
    "plt.plot(np.sort(insta_time),'.')\n",
    "plt.yscale('log')\n",
    "plt.ylabel('Instability Time')\n",
    "#plt.savefig(\"instability-time.pdf\")"
   ]
  },
  {
   "cell_type": "code",
   "execution_count": 4,
   "metadata": {
    "collapsed": false
   },
   "outputs": [
    {
     "data": {
      "text/plain": [
       "10536330.846826443"
      ]
     },
     "execution_count": 4,
     "metadata": {},
     "output_type": "execute_result"
    }
   ],
   "source": [
    "df['Norbits_instability'].mean()"
   ]
  },
  {
   "cell_type": "code",
   "execution_count": 5,
   "metadata": {
    "collapsed": false
   },
   "outputs": [
    {
     "data": {
      "text/plain": [
       "15261284.272998041"
      ]
     },
     "execution_count": 5,
     "metadata": {},
     "output_type": "execute_result"
    }
   ],
   "source": [
    "df['Norbits_instability'].std()"
   ]
  },
  {
   "cell_type": "code",
   "execution_count": 6,
   "metadata": {
    "collapsed": true
   },
   "outputs": [],
   "source": [
    "dfdist = pd.read_csv('../data/distribution/outputs'+str(sim_id)+'/distributionallfeatures'+str(sim_id)+'.csv', index_col=0)\n",
    "#dfdist = pd.read_csv('/mnt/raid-cita/dtamayo/Stability/data/distribution/outputs'+str(sim_id)+'/distributionallfeatures'+str(sim_id)+'.csv', index_col=0)"
   ]
  },
  {
   "cell_type": "code",
   "execution_count": 10,
   "metadata": {
    "collapsed": false
   },
   "outputs": [
    {
     "data": {
      "text/html": [
       "<div>\n",
       "<table border=\"1\" class=\"dataframe\">\n",
       "  <thead>\n",
       "    <tr style=\"text-align: right;\">\n",
       "      <th></th>\n",
       "      <th>Sim_ID</th>\n",
       "      <th>Stable</th>\n",
       "      <th>Norbits_instability</th>\n",
       "      <th>Norbits</th>\n",
       "      <th>Mplanet</th>\n",
       "      <th>RH/a</th>\n",
       "      <th>a1</th>\n",
       "      <th>P1</th>\n",
       "      <th>e1</th>\n",
       "      <th>pomega1</th>\n",
       "      <th>...</th>\n",
       "      <th>max_iH2</th>\n",
       "      <th>max_iH3</th>\n",
       "      <th>min_iH1</th>\n",
       "      <th>min_iH2</th>\n",
       "      <th>min_iH3</th>\n",
       "      <th>mean_std_iH</th>\n",
       "      <th>norm_a1_slope</th>\n",
       "      <th>norm_a2_slope</th>\n",
       "      <th>norm_a3_slope</th>\n",
       "      <th>y_pred</th>\n",
       "    </tr>\n",
       "  </thead>\n",
       "  <tbody>\n",
       "    <tr>\n",
       "      <th>0</th>\n",
       "      <td>0</td>\n",
       "      <td>False</td>\n",
       "      <td>2.699634e+06</td>\n",
       "      <td>10000000.0</td>\n",
       "      <td>0.000015</td>\n",
       "      <td>0.021544</td>\n",
       "      <td>0.058205</td>\n",
       "      <td>0.014042</td>\n",
       "      <td>0.016157</td>\n",
       "      <td>0.160546</td>\n",
       "      <td>...</td>\n",
       "      <td>0.672781</td>\n",
       "      <td>0.502136</td>\n",
       "      <td>0.015138</td>\n",
       "      <td>0.013499</td>\n",
       "      <td>0.176773</td>\n",
       "      <td>0.180753</td>\n",
       "      <td>-5.091637e-12</td>\n",
       "      <td>1.620393e-10</td>\n",
       "      <td>-1.796246e-10</td>\n",
       "      <td>0.942134</td>\n",
       "    </tr>\n",
       "    <tr>\n",
       "      <th>1</th>\n",
       "      <td>1</td>\n",
       "      <td>False</td>\n",
       "      <td>6.795081e+06</td>\n",
       "      <td>10000000.0</td>\n",
       "      <td>0.000015</td>\n",
       "      <td>0.021544</td>\n",
       "      <td>0.058205</td>\n",
       "      <td>0.014042</td>\n",
       "      <td>0.016157</td>\n",
       "      <td>0.160546</td>\n",
       "      <td>...</td>\n",
       "      <td>0.672781</td>\n",
       "      <td>0.502136</td>\n",
       "      <td>0.015138</td>\n",
       "      <td>0.013499</td>\n",
       "      <td>0.176773</td>\n",
       "      <td>0.180753</td>\n",
       "      <td>-5.304721e-12</td>\n",
       "      <td>1.622489e-10</td>\n",
       "      <td>-1.796332e-10</td>\n",
       "      <td>0.945562</td>\n",
       "    </tr>\n",
       "    <tr>\n",
       "      <th>2</th>\n",
       "      <td>2</td>\n",
       "      <td>False</td>\n",
       "      <td>6.059626e+06</td>\n",
       "      <td>10000000.0</td>\n",
       "      <td>0.000015</td>\n",
       "      <td>0.021544</td>\n",
       "      <td>0.058205</td>\n",
       "      <td>0.014042</td>\n",
       "      <td>0.016157</td>\n",
       "      <td>0.160546</td>\n",
       "      <td>...</td>\n",
       "      <td>0.672781</td>\n",
       "      <td>0.502136</td>\n",
       "      <td>0.015138</td>\n",
       "      <td>0.013499</td>\n",
       "      <td>0.176773</td>\n",
       "      <td>0.180753</td>\n",
       "      <td>-5.083294e-12</td>\n",
       "      <td>1.620311e-10</td>\n",
       "      <td>-1.796243e-10</td>\n",
       "      <td>0.942134</td>\n",
       "    </tr>\n",
       "    <tr>\n",
       "      <th>3</th>\n",
       "      <td>3</td>\n",
       "      <td>False</td>\n",
       "      <td>3.425721e+06</td>\n",
       "      <td>10000000.0</td>\n",
       "      <td>0.000015</td>\n",
       "      <td>0.021544</td>\n",
       "      <td>0.058205</td>\n",
       "      <td>0.014042</td>\n",
       "      <td>0.016157</td>\n",
       "      <td>0.160546</td>\n",
       "      <td>...</td>\n",
       "      <td>0.672781</td>\n",
       "      <td>0.502136</td>\n",
       "      <td>0.015138</td>\n",
       "      <td>0.013499</td>\n",
       "      <td>0.176773</td>\n",
       "      <td>0.180753</td>\n",
       "      <td>-5.287510e-12</td>\n",
       "      <td>1.622319e-10</td>\n",
       "      <td>-1.796325e-10</td>\n",
       "      <td>0.945562</td>\n",
       "    </tr>\n",
       "    <tr>\n",
       "      <th>4</th>\n",
       "      <td>4</td>\n",
       "      <td>False</td>\n",
       "      <td>6.157578e+06</td>\n",
       "      <td>10000000.0</td>\n",
       "      <td>0.000015</td>\n",
       "      <td>0.021544</td>\n",
       "      <td>0.058205</td>\n",
       "      <td>0.014042</td>\n",
       "      <td>0.016157</td>\n",
       "      <td>0.160546</td>\n",
       "      <td>...</td>\n",
       "      <td>0.672781</td>\n",
       "      <td>0.502136</td>\n",
       "      <td>0.015138</td>\n",
       "      <td>0.013499</td>\n",
       "      <td>0.176773</td>\n",
       "      <td>0.180753</td>\n",
       "      <td>-5.131387e-12</td>\n",
       "      <td>1.620784e-10</td>\n",
       "      <td>-1.796262e-10</td>\n",
       "      <td>0.942082</td>\n",
       "    </tr>\n",
       "  </tbody>\n",
       "</table>\n",
       "<p>5 rows × 154 columns</p>\n",
       "</div>"
      ],
      "text/plain": [
       "   Sim_ID Stable  Norbits_instability     Norbits   Mplanet      RH/a  \\\n",
       "0       0  False         2.699634e+06  10000000.0  0.000015  0.021544   \n",
       "1       1  False         6.795081e+06  10000000.0  0.000015  0.021544   \n",
       "2       2  False         6.059626e+06  10000000.0  0.000015  0.021544   \n",
       "3       3  False         3.425721e+06  10000000.0  0.000015  0.021544   \n",
       "4       4  False         6.157578e+06  10000000.0  0.000015  0.021544   \n",
       "\n",
       "         a1        P1        e1   pomega1    ...      max_iH2   max_iH3  \\\n",
       "0  0.058205  0.014042  0.016157  0.160546    ...     0.672781  0.502136   \n",
       "1  0.058205  0.014042  0.016157  0.160546    ...     0.672781  0.502136   \n",
       "2  0.058205  0.014042  0.016157  0.160546    ...     0.672781  0.502136   \n",
       "3  0.058205  0.014042  0.016157  0.160546    ...     0.672781  0.502136   \n",
       "4  0.058205  0.014042  0.016157  0.160546    ...     0.672781  0.502136   \n",
       "\n",
       "    min_iH1   min_iH2   min_iH3  mean_std_iH  norm_a1_slope  norm_a2_slope  \\\n",
       "0  0.015138  0.013499  0.176773     0.180753  -5.091637e-12   1.620393e-10   \n",
       "1  0.015138  0.013499  0.176773     0.180753  -5.304721e-12   1.622489e-10   \n",
       "2  0.015138  0.013499  0.176773     0.180753  -5.083294e-12   1.620311e-10   \n",
       "3  0.015138  0.013499  0.176773     0.180753  -5.287510e-12   1.622319e-10   \n",
       "4  0.015138  0.013499  0.176773     0.180753  -5.131387e-12   1.620784e-10   \n",
       "\n",
       "   norm_a3_slope    y_pred  \n",
       "0  -1.796246e-10  0.942134  \n",
       "1  -1.796332e-10  0.945562  \n",
       "2  -1.796243e-10  0.942134  \n",
       "3  -1.796325e-10  0.945562  \n",
       "4  -1.796262e-10  0.942082  \n",
       "\n",
       "[5 rows x 154 columns]"
      ]
     },
     "execution_count": 10,
     "metadata": {},
     "output_type": "execute_result"
    }
   ],
   "source": [
    "dfdist.head()"
   ]
  },
  {
   "cell_type": "code",
   "execution_count": 11,
   "metadata": {
    "collapsed": false
   },
   "outputs": [
    {
     "data": {
      "text/plain": [
       "<matplotlib.text.Text at 0x1072641d0>"
      ]
     },
     "execution_count": 11,
     "metadata": {},
     "output_type": "execute_result"
    },
    {
     "data": {
      "image/png": "[encoded data removed]",
      "text/plain": [
       "<matplotlib.figure.Figure at 0x10723af10>"
      ]
     },
     "metadata": {},
     "output_type": "display_data"
    }
   ],
   "source": [
    "fig, ax = plt.subplots()\n",
    "ax.hist(dfdist[\"y_pred\"], 100)\n",
    "ax.set_xlabel('model predicted probability it is stable', fontsize=14)"
   ]
  },
  {
   "cell_type": "code",
   "execution_count": null,
   "metadata": {
    "collapsed": true
   },
   "outputs": [],
   "source": [
    "from sklearn.metrics import precision_recall_curve\n",
    "precision, recall, thresholds = precision_recall_curve(dftest['Stable'], y_pred[:,1])\n",
    "fig, ax = plt.subplots()\n",
    "ax.plot(recall, precision)\n",
    "ax.set_xlim([0.0, 1.0])\n",
    "ax.set_ylim([0.0, 1.0])\n",
    "ax.set_xlabel('Recall')\n",
    "ax.set_ylabel('Precision')\n",
    "ax.set_title('Precision Recall curve')"
   ]
  },
  {
   "cell_type": "code",
   "execution_count": null,
   "metadata": {
    "collapsed": true
   },
   "outputs": [],
   "source": []
  }
 ],
 "metadata": {
  "kernelspec": {
   "display_name": "Python 2",
   "language": "python",
   "name": "python2"
  },
  "language_info": {
   "codemirror_mode": {
    "name": "ipython",
    "version": 2
   },
   "file_extension": ".py",
   "mimetype": "text/x-python",
   "name": "python",
   "nbconvert_exporter": "python",
   "pygments_lexer": "ipython2",
   "version": "2.7.11"
  }
 },
 "nbformat": 4,
 "nbformat_minor": 1
}
