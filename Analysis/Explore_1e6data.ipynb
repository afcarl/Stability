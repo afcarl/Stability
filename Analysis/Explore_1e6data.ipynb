{
 "cells": [
  {
   "cell_type": "code",
   "execution_count": 2,
   "metadata": {
    "collapsed": false
   },
   "outputs": [],
   "source": [
    "import pandas as pd\n",
    "df = pd.read_csv('1e6dataset.txt')"
   ]
  },
  {
   "cell_type": "code",
   "execution_count": 3,
   "metadata": {
    "collapsed": false
   },
   "outputs": [
    {
     "data": {
      "text/html": [
       "<div>\n",
       "<table border=\"1\" class=\"dataframe\">\n",
       "  <thead>\n",
       "    <tr style=\"text-align: right;\">\n",
       "      <th></th>\n",
       "      <th>Unnamed: 0</th>\n",
       "      <th>Stable</th>\n",
       "      <th>Norbits</th>\n",
       "      <th>Mplanet</th>\n",
       "      <th>RH/a</th>\n",
       "      <th>a1</th>\n",
       "      <th>P1</th>\n",
       "      <th>e1</th>\n",
       "      <th>pomega1</th>\n",
       "      <th>inc1</th>\n",
       "      <th>...</th>\n",
       "      <th>inc2</th>\n",
       "      <th>Omega2</th>\n",
       "      <th>f2</th>\n",
       "      <th>a3</th>\n",
       "      <th>P3</th>\n",
       "      <th>e3</th>\n",
       "      <th>pomega3</th>\n",
       "      <th>inc3</th>\n",
       "      <th>Omega3</th>\n",
       "      <th>f3</th>\n",
       "    </tr>\n",
       "  </thead>\n",
       "  <tbody>\n",
       "    <tr>\n",
       "      <th>0</th>\n",
       "      <td>0</td>\n",
       "      <td>True</td>\n",
       "      <td>1000000.0</td>\n",
       "      <td>0.000015</td>\n",
       "      <td>0.021544</td>\n",
       "      <td>0.050005</td>\n",
       "      <td>0.011182</td>\n",
       "      <td>0.005776</td>\n",
       "      <td>0.238565</td>\n",
       "      <td>0.004611</td>\n",
       "      <td>...</td>\n",
       "      <td>0.011851</td>\n",
       "      <td>1.631981</td>\n",
       "      <td>-5.303298</td>\n",
       "      <td>0.066488</td>\n",
       "      <td>0.017144</td>\n",
       "      <td>0.009993</td>\n",
       "      <td>-1.222611</td>\n",
       "      <td>0.013411</td>\n",
       "      <td>1.838312</td>\n",
       "      <td>5.118309</td>\n",
       "    </tr>\n",
       "    <tr>\n",
       "      <th>1</th>\n",
       "      <td>1</td>\n",
       "      <td>True</td>\n",
       "      <td>1000000.0</td>\n",
       "      <td>0.000015</td>\n",
       "      <td>0.021544</td>\n",
       "      <td>0.049997</td>\n",
       "      <td>0.011179</td>\n",
       "      <td>0.005504</td>\n",
       "      <td>-1.829833</td>\n",
       "      <td>0.014697</td>\n",
       "      <td>...</td>\n",
       "      <td>0.017953</td>\n",
       "      <td>-1.144552</td>\n",
       "      <td>-1.314599</td>\n",
       "      <td>0.069424</td>\n",
       "      <td>0.018292</td>\n",
       "      <td>0.011354</td>\n",
       "      <td>3.098720</td>\n",
       "      <td>0.004279</td>\n",
       "      <td>0.624017</td>\n",
       "      <td>-5.264576</td>\n",
       "    </tr>\n",
       "    <tr>\n",
       "      <th>2</th>\n",
       "      <td>2</td>\n",
       "      <td>False</td>\n",
       "      <td>1000000.0</td>\n",
       "      <td>0.000015</td>\n",
       "      <td>0.021544</td>\n",
       "      <td>0.047969</td>\n",
       "      <td>0.010506</td>\n",
       "      <td>0.074062</td>\n",
       "      <td>2.319163</td>\n",
       "      <td>0.006916</td>\n",
       "      <td>...</td>\n",
       "      <td>0.001915</td>\n",
       "      <td>-1.288583</td>\n",
       "      <td>-3.124795</td>\n",
       "      <td>0.066854</td>\n",
       "      <td>0.017285</td>\n",
       "      <td>0.112981</td>\n",
       "      <td>-1.368589</td>\n",
       "      <td>0.004592</td>\n",
       "      <td>0.174013</td>\n",
       "      <td>-0.644255</td>\n",
       "    </tr>\n",
       "    <tr>\n",
       "      <th>3</th>\n",
       "      <td>3</td>\n",
       "      <td>False</td>\n",
       "      <td>1000000.0</td>\n",
       "      <td>0.000015</td>\n",
       "      <td>0.021544</td>\n",
       "      <td>0.047724</td>\n",
       "      <td>0.010425</td>\n",
       "      <td>0.082000</td>\n",
       "      <td>2.891776</td>\n",
       "      <td>0.010222</td>\n",
       "      <td>...</td>\n",
       "      <td>0.005317</td>\n",
       "      <td>-2.319534</td>\n",
       "      <td>-2.894826</td>\n",
       "      <td>0.068622</td>\n",
       "      <td>0.017976</td>\n",
       "      <td>0.067250</td>\n",
       "      <td>-2.265014</td>\n",
       "      <td>0.006661</td>\n",
       "      <td>-0.807832</td>\n",
       "      <td>-0.372393</td>\n",
       "    </tr>\n",
       "    <tr>\n",
       "      <th>4</th>\n",
       "      <td>4</td>\n",
       "      <td>True</td>\n",
       "      <td>1000000.0</td>\n",
       "      <td>0.000015</td>\n",
       "      <td>0.021544</td>\n",
       "      <td>0.049995</td>\n",
       "      <td>0.011179</td>\n",
       "      <td>0.004748</td>\n",
       "      <td>2.438079</td>\n",
       "      <td>0.013462</td>\n",
       "      <td>...</td>\n",
       "      <td>0.013237</td>\n",
       "      <td>-1.016651</td>\n",
       "      <td>-3.573545</td>\n",
       "      <td>0.067997</td>\n",
       "      <td>0.017731</td>\n",
       "      <td>0.006454</td>\n",
       "      <td>2.426652</td>\n",
       "      <td>0.001658</td>\n",
       "      <td>-0.559482</td>\n",
       "      <td>-3.150335</td>\n",
       "    </tr>\n",
       "  </tbody>\n",
       "</table>\n",
       "<p>5 rows × 26 columns</p>\n",
       "</div>"
      ],
      "text/plain": [
       "   Unnamed: 0 Stable    Norbits   Mplanet      RH/a        a1        P1  \\\n",
       "0           0   True  1000000.0  0.000015  0.021544  0.050005  0.011182   \n",
       "1           1   True  1000000.0  0.000015  0.021544  0.049997  0.011179   \n",
       "2           2  False  1000000.0  0.000015  0.021544  0.047969  0.010506   \n",
       "3           3  False  1000000.0  0.000015  0.021544  0.047724  0.010425   \n",
       "4           4   True  1000000.0  0.000015  0.021544  0.049995  0.011179   \n",
       "\n",
       "         e1   pomega1      inc1    ...         inc2    Omega2        f2  \\\n",
       "0  0.005776  0.238565  0.004611    ...     0.011851  1.631981 -5.303298   \n",
       "1  0.005504 -1.829833  0.014697    ...     0.017953 -1.144552 -1.314599   \n",
       "2  0.074062  2.319163  0.006916    ...     0.001915 -1.288583 -3.124795   \n",
       "3  0.082000  2.891776  0.010222    ...     0.005317 -2.319534 -2.894826   \n",
       "4  0.004748  2.438079  0.013462    ...     0.013237 -1.016651 -3.573545   \n",
       "\n",
       "         a3        P3        e3   pomega3      inc3    Omega3        f3  \n",
       "0  0.066488  0.017144  0.009993 -1.222611  0.013411  1.838312  5.118309  \n",
       "1  0.069424  0.018292  0.011354  3.098720  0.004279  0.624017 -5.264576  \n",
       "2  0.066854  0.017285  0.112981 -1.368589  0.004592  0.174013 -0.644255  \n",
       "3  0.068622  0.017976  0.067250 -2.265014  0.006661 -0.807832 -0.372393  \n",
       "4  0.067997  0.017731  0.006454  2.426652  0.001658 -0.559482 -3.150335  \n",
       "\n",
       "[5 rows x 26 columns]"
      ]
     },
     "execution_count": 3,
     "metadata": {},
     "output_type": "execute_result"
    }
   ],
   "source": [
    "df.head()"
   ]
  },
  {
   "cell_type": "code",
   "execution_count": 4,
   "metadata": {
    "collapsed": false
   },
   "outputs": [
    {
     "data": {
      "text/plain": [
       "True     705\n",
       "False    300\n",
       "Name: Stable, dtype: int64"
      ]
     },
     "execution_count": 4,
     "metadata": {},
     "output_type": "execute_result"
    }
   ],
   "source": [
    "df['Stable'].value_counts()"
   ]
  },
  {
   "cell_type": "code",
   "execution_count": null,
   "metadata": {
    "collapsed": true
   },
   "outputs": [],
   "source": []
  }
 ],
 "metadata": {
  "kernelspec": {
   "display_name": "Python 2",
   "language": "python",
   "name": "python2"
  },
  "language_info": {
   "codemirror_mode": {
    "name": "ipython",
    "version": 2
   },
   "file_extension": ".py",
   "mimetype": "text/x-python",
   "name": "python",
   "nbconvert_exporter": "python",
   "pygments_lexer": "ipython2",
   "version": "2.7.10"
  }
 },
 "nbformat": 4,
 "nbformat_minor": 0
}
