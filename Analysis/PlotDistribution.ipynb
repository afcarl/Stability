{
 "cells": [
  {
   "cell_type": "code",
   "execution_count": 26,
   "metadata": {
    "collapsed": false
   },
   "outputs": [
    {
     "data": {
      "text/html": [
       "<div>\n",
       "<table border=\"1\" class=\"dataframe\">\n",
       "  <thead>\n",
       "    <tr style=\"text-align: right;\">\n",
       "      <th></th>\n",
       "      <th>Sim_ID</th>\n",
       "      <th>Stable</th>\n",
       "      <th>Norbits_instability</th>\n",
       "      <th>Norbits</th>\n",
       "      <th>Mplanet</th>\n",
       "      <th>RH/a</th>\n",
       "      <th>a1</th>\n",
       "      <th>P1</th>\n",
       "      <th>e1</th>\n",
       "      <th>pomega1</th>\n",
       "      <th>...</th>\n",
       "      <th>max_iH2</th>\n",
       "      <th>max_iH3</th>\n",
       "      <th>min_iH1</th>\n",
       "      <th>min_iH2</th>\n",
       "      <th>min_iH3</th>\n",
       "      <th>mean_std_iH</th>\n",
       "      <th>norm_a1_slope</th>\n",
       "      <th>norm_a2_slope</th>\n",
       "      <th>norm_a3_slope</th>\n",
       "      <th>y_pred</th>\n",
       "    </tr>\n",
       "  </thead>\n",
       "  <tbody>\n",
       "    <tr>\n",
       "      <th>995</th>\n",
       "      <td>995</td>\n",
       "      <td>False</td>\n",
       "      <td>4.220480e+06</td>\n",
       "      <td>10000000.0</td>\n",
       "      <td>0.000015</td>\n",
       "      <td>0.021544</td>\n",
       "      <td>0.045652</td>\n",
       "      <td>0.009754</td>\n",
       "      <td>0.013522</td>\n",
       "      <td>1.325028</td>\n",
       "      <td>...</td>\n",
       "      <td>0.476772</td>\n",
       "      <td>0.476258</td>\n",
       "      <td>0.153493</td>\n",
       "      <td>0.142702</td>\n",
       "      <td>0.114034</td>\n",
       "      <td>0.138363</td>\n",
       "      <td>-5.063991e-10</td>\n",
       "      <td>2.003642e-09</td>\n",
       "      <td>-1.534471e-09</td>\n",
       "      <td>0.020058</td>\n",
       "    </tr>\n",
       "    <tr>\n",
       "      <th>996</th>\n",
       "      <td>996</td>\n",
       "      <td>False</td>\n",
       "      <td>2.797826e+06</td>\n",
       "      <td>10000000.0</td>\n",
       "      <td>0.000015</td>\n",
       "      <td>0.021544</td>\n",
       "      <td>0.045652</td>\n",
       "      <td>0.009754</td>\n",
       "      <td>0.013522</td>\n",
       "      <td>1.325028</td>\n",
       "      <td>...</td>\n",
       "      <td>0.476944</td>\n",
       "      <td>0.476258</td>\n",
       "      <td>0.153493</td>\n",
       "      <td>0.142702</td>\n",
       "      <td>0.114034</td>\n",
       "      <td>0.138374</td>\n",
       "      <td>-5.306702e-10</td>\n",
       "      <td>2.054205e-09</td>\n",
       "      <td>-1.556078e-09</td>\n",
       "      <td>0.033983</td>\n",
       "    </tr>\n",
       "    <tr>\n",
       "      <th>997</th>\n",
       "      <td>997</td>\n",
       "      <td>False</td>\n",
       "      <td>2.938650e+06</td>\n",
       "      <td>10000000.0</td>\n",
       "      <td>0.000015</td>\n",
       "      <td>0.021544</td>\n",
       "      <td>0.045652</td>\n",
       "      <td>0.009754</td>\n",
       "      <td>0.013522</td>\n",
       "      <td>1.325028</td>\n",
       "      <td>...</td>\n",
       "      <td>0.476783</td>\n",
       "      <td>0.476258</td>\n",
       "      <td>0.153493</td>\n",
       "      <td>0.142702</td>\n",
       "      <td>0.114034</td>\n",
       "      <td>0.138360</td>\n",
       "      <td>-5.011742e-10</td>\n",
       "      <td>1.993703e-09</td>\n",
       "      <td>-1.530899e-09</td>\n",
       "      <td>0.015805</td>\n",
       "    </tr>\n",
       "    <tr>\n",
       "      <th>998</th>\n",
       "      <td>998</td>\n",
       "      <td>False</td>\n",
       "      <td>1.744611e+07</td>\n",
       "      <td>10000000.0</td>\n",
       "      <td>0.000015</td>\n",
       "      <td>0.021544</td>\n",
       "      <td>0.045652</td>\n",
       "      <td>0.009754</td>\n",
       "      <td>0.013522</td>\n",
       "      <td>1.325028</td>\n",
       "      <td>...</td>\n",
       "      <td>0.476790</td>\n",
       "      <td>0.476258</td>\n",
       "      <td>0.153493</td>\n",
       "      <td>0.142702</td>\n",
       "      <td>0.114034</td>\n",
       "      <td>0.138359</td>\n",
       "      <td>-4.991493e-10</td>\n",
       "      <td>1.989510e-09</td>\n",
       "      <td>-1.529245e-09</td>\n",
       "      <td>0.016898</td>\n",
       "    </tr>\n",
       "    <tr>\n",
       "      <th>999</th>\n",
       "      <td>999</td>\n",
       "      <td>False</td>\n",
       "      <td>2.035919e+06</td>\n",
       "      <td>10000000.0</td>\n",
       "      <td>0.000015</td>\n",
       "      <td>0.021544</td>\n",
       "      <td>0.045652</td>\n",
       "      <td>0.009754</td>\n",
       "      <td>0.013522</td>\n",
       "      <td>1.325028</td>\n",
       "      <td>...</td>\n",
       "      <td>0.476781</td>\n",
       "      <td>0.476258</td>\n",
       "      <td>0.153493</td>\n",
       "      <td>0.142702</td>\n",
       "      <td>0.114034</td>\n",
       "      <td>0.138361</td>\n",
       "      <td>-5.020798e-10</td>\n",
       "      <td>1.995487e-09</td>\n",
       "      <td>-1.531564e-09</td>\n",
       "      <td>0.020058</td>\n",
       "    </tr>\n",
       "  </tbody>\n",
       "</table>\n",
       "<p>5 rows × 154 columns</p>\n",
       "</div>"
      ],
      "text/plain": [
       "     Sim_ID Stable  Norbits_instability     Norbits   Mplanet      RH/a  \\\n",
       "995     995  False         4.220480e+06  10000000.0  0.000015  0.021544   \n",
       "996     996  False         2.797826e+06  10000000.0  0.000015  0.021544   \n",
       "997     997  False         2.938650e+06  10000000.0  0.000015  0.021544   \n",
       "998     998  False         1.744611e+07  10000000.0  0.000015  0.021544   \n",
       "999     999  False         2.035919e+06  10000000.0  0.000015  0.021544   \n",
       "\n",
       "           a1        P1        e1   pomega1    ...      max_iH2   max_iH3  \\\n",
       "995  0.045652  0.009754  0.013522  1.325028    ...     0.476772  0.476258   \n",
       "996  0.045652  0.009754  0.013522  1.325028    ...     0.476944  0.476258   \n",
       "997  0.045652  0.009754  0.013522  1.325028    ...     0.476783  0.476258   \n",
       "998  0.045652  0.009754  0.013522  1.325028    ...     0.476790  0.476258   \n",
       "999  0.045652  0.009754  0.013522  1.325028    ...     0.476781  0.476258   \n",
       "\n",
       "      min_iH1   min_iH2   min_iH3  mean_std_iH  norm_a1_slope  norm_a2_slope  \\\n",
       "995  0.153493  0.142702  0.114034     0.138363  -5.063991e-10   2.003642e-09   \n",
       "996  0.153493  0.142702  0.114034     0.138374  -5.306702e-10   2.054205e-09   \n",
       "997  0.153493  0.142702  0.114034     0.138360  -5.011742e-10   1.993703e-09   \n",
       "998  0.153493  0.142702  0.114034     0.138359  -4.991493e-10   1.989510e-09   \n",
       "999  0.153493  0.142702  0.114034     0.138361  -5.020798e-10   1.995487e-09   \n",
       "\n",
       "     norm_a3_slope    y_pred  \n",
       "995  -1.534471e-09  0.020058  \n",
       "996  -1.556078e-09  0.033983  \n",
       "997  -1.530899e-09  0.015805  \n",
       "998  -1.529245e-09  0.016898  \n",
       "999  -1.531564e-09  0.020058  \n",
       "\n",
       "[5 rows x 154 columns]"
      ]
     },
     "execution_count": 26,
     "metadata": {},
     "output_type": "execute_result"
    }
   ],
   "source": [
    "import pandas as pd\n",
    "import numpy as np\n",
    "import os\n",
    "\n",
    "sim_id = 4283\n",
    "#df = pd.read_csv(\"/mnt/raid-cita/dtamayo/Stability/data/distribution/outputs\"+str(sim_id)+'/distribution'+str(sim_id)+\".csv\", index_col=0)\n",
    "df = pd.read_csv(\"../data/distribution/outputs\"+str(sim_id)+'/distributionallfeatures'+str(sim_id)+\".csv\", index_col=0)\n",
    "df.tail()"
   ]
  },
  {
   "cell_type": "code",
   "execution_count": 27,
   "metadata": {
    "collapsed": false
   },
   "outputs": [],
   "source": [
    "logs = np.log10(df['Norbits_instability'].values)"
   ]
  },
  {
   "cell_type": "code",
   "execution_count": 28,
   "metadata": {
    "collapsed": false
   },
   "outputs": [
    {
     "data": {
      "text/plain": [
       "<matplotlib.text.Text at 0x7f4154fb0b10>"
      ]
     },
     "execution_count": 28,
     "metadata": {},
     "output_type": "execute_result"
    },
    {
     "data": {
      "image/png": "[encoded data removed]",
      "text/plain": [
       "<matplotlib.figure.Figure at 0x7f4154e81310>"
      ]
     },
     "metadata": {},
     "output_type": "display_data"
    }
   ],
   "source": [
    "%matplotlib inline\n",
    "import matplotlib.pyplot as plt\n",
    "\n",
    "fig, ax = plt.subplots()\n",
    "ax.hist(logs, 40)\n",
    "ax.set_xlabel('Log instability time', fontsize=14)"
   ]
  },
  {
   "cell_type": "code",
   "execution_count": 29,
   "metadata": {
    "collapsed": false
   },
   "outputs": [
    {
     "data": {
      "text/plain": [
       "10381587.06876762"
      ]
     },
     "execution_count": 29,
     "metadata": {},
     "output_type": "execute_result"
    }
   ],
   "source": [
    "df['Norbits_instability'].mean()"
   ]
  },
  {
   "cell_type": "code",
   "execution_count": 30,
   "metadata": {
    "collapsed": false
   },
   "outputs": [
    {
     "data": {
      "text/plain": [
       "18624333.733746"
      ]
     },
     "execution_count": 30,
     "metadata": {},
     "output_type": "execute_result"
    }
   ],
   "source": [
    "df['Norbits_instability'].std()"
   ]
  },
  {
   "cell_type": "code",
   "execution_count": 31,
   "metadata": {
    "collapsed": true
   },
   "outputs": [],
   "source": [
    "dfdist = pd.read_csv('../data/distribution/outputs'+str(sim_id)+'/distributionallfeatures'+str(sim_id)+'.csv', index_col=0)\n",
    "#dfdist = pd.read_csv('/mnt/raid-cita/dtamayo/Stability/data/distribution/outputs'+str(sim_id)+'/distributionallfeatures'+str(sim_id)+'.csv', index_col=0)"
   ]
  },
  {
   "cell_type": "code",
   "execution_count": 32,
   "metadata": {
    "collapsed": false
   },
   "outputs": [
    {
     "data": {
      "text/html": [
       "<div>\n",
       "<table border=\"1\" class=\"dataframe\">\n",
       "  <thead>\n",
       "    <tr style=\"text-align: right;\">\n",
       "      <th></th>\n",
       "      <th>Sim_ID</th>\n",
       "      <th>Stable</th>\n",
       "      <th>Norbits_instability</th>\n",
       "      <th>Norbits</th>\n",
       "      <th>Mplanet</th>\n",
       "      <th>RH/a</th>\n",
       "      <th>a1</th>\n",
       "      <th>P1</th>\n",
       "      <th>e1</th>\n",
       "      <th>pomega1</th>\n",
       "      <th>...</th>\n",
       "      <th>max_iH2</th>\n",
       "      <th>max_iH3</th>\n",
       "      <th>min_iH1</th>\n",
       "      <th>min_iH2</th>\n",
       "      <th>min_iH3</th>\n",
       "      <th>mean_std_iH</th>\n",
       "      <th>norm_a1_slope</th>\n",
       "      <th>norm_a2_slope</th>\n",
       "      <th>norm_a3_slope</th>\n",
       "      <th>y_pred</th>\n",
       "    </tr>\n",
       "  </thead>\n",
       "  <tbody>\n",
       "    <tr>\n",
       "      <th>0</th>\n",
       "      <td>0</td>\n",
       "      <td>False</td>\n",
       "      <td>3.057232e+06</td>\n",
       "      <td>10000000.0</td>\n",
       "      <td>0.000015</td>\n",
       "      <td>0.021544</td>\n",
       "      <td>0.045652</td>\n",
       "      <td>0.009754</td>\n",
       "      <td>0.013522</td>\n",
       "      <td>1.325028</td>\n",
       "      <td>...</td>\n",
       "      <td>0.476811</td>\n",
       "      <td>0.476258</td>\n",
       "      <td>0.153493</td>\n",
       "      <td>0.142702</td>\n",
       "      <td>0.114034</td>\n",
       "      <td>0.138356</td>\n",
       "      <td>-4.952216e-10</td>\n",
       "      <td>1.980447e-09</td>\n",
       "      <td>-1.525079e-09</td>\n",
       "      <td>0.016436</td>\n",
       "    </tr>\n",
       "    <tr>\n",
       "      <th>1</th>\n",
       "      <td>1</td>\n",
       "      <td>False</td>\n",
       "      <td>5.385895e+06</td>\n",
       "      <td>10000000.0</td>\n",
       "      <td>0.000015</td>\n",
       "      <td>0.021544</td>\n",
       "      <td>0.045652</td>\n",
       "      <td>0.009754</td>\n",
       "      <td>0.013522</td>\n",
       "      <td>1.325028</td>\n",
       "      <td>...</td>\n",
       "      <td>0.476849</td>\n",
       "      <td>0.476258</td>\n",
       "      <td>0.153493</td>\n",
       "      <td>0.142702</td>\n",
       "      <td>0.114034</td>\n",
       "      <td>0.138369</td>\n",
       "      <td>-5.252786e-10</td>\n",
       "      <td>2.039336e-09</td>\n",
       "      <td>-1.547765e-09</td>\n",
       "      <td>0.020387</td>\n",
       "    </tr>\n",
       "    <tr>\n",
       "      <th>2</th>\n",
       "      <td>2</td>\n",
       "      <td>False</td>\n",
       "      <td>2.833908e+07</td>\n",
       "      <td>10000000.0</td>\n",
       "      <td>0.000015</td>\n",
       "      <td>0.021544</td>\n",
       "      <td>0.045652</td>\n",
       "      <td>0.009754</td>\n",
       "      <td>0.013522</td>\n",
       "      <td>1.325028</td>\n",
       "      <td>...</td>\n",
       "      <td>0.476788</td>\n",
       "      <td>0.476258</td>\n",
       "      <td>0.153493</td>\n",
       "      <td>0.142702</td>\n",
       "      <td>0.114034</td>\n",
       "      <td>0.138360</td>\n",
       "      <td>-4.997175e-10</td>\n",
       "      <td>1.990722e-09</td>\n",
       "      <td>-1.529738e-09</td>\n",
       "      <td>0.015372</td>\n",
       "    </tr>\n",
       "    <tr>\n",
       "      <th>3</th>\n",
       "      <td>3</td>\n",
       "      <td>False</td>\n",
       "      <td>5.032042e+06</td>\n",
       "      <td>10000000.0</td>\n",
       "      <td>0.000015</td>\n",
       "      <td>0.021544</td>\n",
       "      <td>0.045652</td>\n",
       "      <td>0.009754</td>\n",
       "      <td>0.013522</td>\n",
       "      <td>1.325028</td>\n",
       "      <td>...</td>\n",
       "      <td>0.476898</td>\n",
       "      <td>0.476258</td>\n",
       "      <td>0.153493</td>\n",
       "      <td>0.142702</td>\n",
       "      <td>0.114034</td>\n",
       "      <td>0.138372</td>\n",
       "      <td>-5.312367e-10</td>\n",
       "      <td>2.051935e-09</td>\n",
       "      <td>-1.553367e-09</td>\n",
       "      <td>0.020572</td>\n",
       "    </tr>\n",
       "    <tr>\n",
       "      <th>4</th>\n",
       "      <td>4</td>\n",
       "      <td>False</td>\n",
       "      <td>2.371886e+07</td>\n",
       "      <td>10000000.0</td>\n",
       "      <td>0.000015</td>\n",
       "      <td>0.021544</td>\n",
       "      <td>0.045652</td>\n",
       "      <td>0.009754</td>\n",
       "      <td>0.013522</td>\n",
       "      <td>1.325028</td>\n",
       "      <td>...</td>\n",
       "      <td>0.476928</td>\n",
       "      <td>0.476258</td>\n",
       "      <td>0.153493</td>\n",
       "      <td>0.142702</td>\n",
       "      <td>0.114034</td>\n",
       "      <td>0.138374</td>\n",
       "      <td>-5.321782e-10</td>\n",
       "      <td>2.055643e-09</td>\n",
       "      <td>-1.555873e-09</td>\n",
       "      <td>0.020012</td>\n",
       "    </tr>\n",
       "  </tbody>\n",
       "</table>\n",
       "<p>5 rows × 154 columns</p>\n",
       "</div>"
      ],
      "text/plain": [
       "   Sim_ID Stable  Norbits_instability     Norbits   Mplanet      RH/a  \\\n",
       "0       0  False         3.057232e+06  10000000.0  0.000015  0.021544   \n",
       "1       1  False         5.385895e+06  10000000.0  0.000015  0.021544   \n",
       "2       2  False         2.833908e+07  10000000.0  0.000015  0.021544   \n",
       "3       3  False         5.032042e+06  10000000.0  0.000015  0.021544   \n",
       "4       4  False         2.371886e+07  10000000.0  0.000015  0.021544   \n",
       "\n",
       "         a1        P1        e1   pomega1    ...      max_iH2   max_iH3  \\\n",
       "0  0.045652  0.009754  0.013522  1.325028    ...     0.476811  0.476258   \n",
       "1  0.045652  0.009754  0.013522  1.325028    ...     0.476849  0.476258   \n",
       "2  0.045652  0.009754  0.013522  1.325028    ...     0.476788  0.476258   \n",
       "3  0.045652  0.009754  0.013522  1.325028    ...     0.476898  0.476258   \n",
       "4  0.045652  0.009754  0.013522  1.325028    ...     0.476928  0.476258   \n",
       "\n",
       "    min_iH1   min_iH2   min_iH3  mean_std_iH  norm_a1_slope  norm_a2_slope  \\\n",
       "0  0.153493  0.142702  0.114034     0.138356  -4.952216e-10   1.980447e-09   \n",
       "1  0.153493  0.142702  0.114034     0.138369  -5.252786e-10   2.039336e-09   \n",
       "2  0.153493  0.142702  0.114034     0.138360  -4.997175e-10   1.990722e-09   \n",
       "3  0.153493  0.142702  0.114034     0.138372  -5.312367e-10   2.051935e-09   \n",
       "4  0.153493  0.142702  0.114034     0.138374  -5.321782e-10   2.055643e-09   \n",
       "\n",
       "   norm_a3_slope    y_pred  \n",
       "0  -1.525079e-09  0.016436  \n",
       "1  -1.547765e-09  0.020387  \n",
       "2  -1.529738e-09  0.015372  \n",
       "3  -1.553367e-09  0.020572  \n",
       "4  -1.555873e-09  0.020012  \n",
       "\n",
       "[5 rows x 154 columns]"
      ]
     },
     "execution_count": 32,
     "metadata": {},
     "output_type": "execute_result"
    }
   ],
   "source": [
    "dfdist.head()"
   ]
  },
  {
   "cell_type": "code",
   "execution_count": 33,
   "metadata": {
    "collapsed": false
   },
   "outputs": [
    {
     "data": {
      "text/plain": [
       "<matplotlib.text.Text at 0x7f4154be8d50>"
      ]
     },
     "execution_count": 33,
     "metadata": {},
     "output_type": "execute_result"
    },
    {
     "data": {
      "image/png": "[encoded data removed]",
      "text/plain": [
       "<matplotlib.figure.Figure at 0x7f4154f839d0>"
      ]
     },
     "metadata": {},
     "output_type": "display_data"
    }
   ],
   "source": [
    "fig, ax = plt.subplots()\n",
    "ax.hist(dfdist[\"y_pred\"], 100)\n",
    "ax.set_xlabel('model predicted probability it is stable', fontsize=14)"
   ]
  },
  {
   "cell_type": "code",
   "execution_count": null,
   "metadata": {
    "collapsed": true
   },
   "outputs": [],
   "source": []
  }
 ],
 "metadata": {
  "kernelspec": {
   "display_name": "Python 2",
   "language": "python",
   "name": "python2"
  },
  "language_info": {
   "codemirror_mode": {
    "name": "ipython",
    "version": 2
   },
   "file_extension": ".py",
   "mimetype": "text/x-python",
   "name": "python",
   "nbconvert_exporter": "python",
   "pygments_lexer": "ipython2",
   "version": "2.7.10"
  }
 },
 "nbformat": 4,
 "nbformat_minor": 1
}
