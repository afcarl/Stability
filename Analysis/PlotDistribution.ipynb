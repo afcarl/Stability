{
 "cells": [
  {
   "cell_type": "code",
   "execution_count": 9,
   "metadata": {
    "collapsed": false
   },
   "outputs": [
    {
     "data": {
      "text/html": [
       "<div>\n",
       "<table border=\"1\" class=\"dataframe\">\n",
       "  <thead>\n",
       "    <tr style=\"text-align: right;\">\n",
       "      <th></th>\n",
       "      <th>Stable</th>\n",
       "      <th>Norbits_instability</th>\n",
       "      <th>Norbits</th>\n",
       "      <th>Mplanet</th>\n",
       "      <th>RH/a</th>\n",
       "      <th>a1</th>\n",
       "      <th>P1</th>\n",
       "      <th>e1</th>\n",
       "      <th>pomega1</th>\n",
       "      <th>inc1</th>\n",
       "      <th>...</th>\n",
       "      <th>Omega3</th>\n",
       "      <th>f3</th>\n",
       "      <th>x3</th>\n",
       "      <th>y3</th>\n",
       "      <th>z3</th>\n",
       "      <th>vx3</th>\n",
       "      <th>vy3</th>\n",
       "      <th>vz3</th>\n",
       "      <th>Rel_Eerr</th>\n",
       "      <th>integ_time</th>\n",
       "    </tr>\n",
       "    <tr>\n",
       "      <th>Sim_ID</th>\n",
       "      <th></th>\n",
       "      <th></th>\n",
       "      <th></th>\n",
       "      <th></th>\n",
       "      <th></th>\n",
       "      <th></th>\n",
       "      <th></th>\n",
       "      <th></th>\n",
       "      <th></th>\n",
       "      <th></th>\n",
       "      <th></th>\n",
       "      <th></th>\n",
       "      <th></th>\n",
       "      <th></th>\n",
       "      <th></th>\n",
       "      <th></th>\n",
       "      <th></th>\n",
       "      <th></th>\n",
       "      <th></th>\n",
       "      <th></th>\n",
       "      <th></th>\n",
       "    </tr>\n",
       "  </thead>\n",
       "  <tbody>\n",
       "    <tr>\n",
       "      <th>995</th>\n",
       "      <td>False</td>\n",
       "      <td>9.905229e+06</td>\n",
       "      <td>10000000.0</td>\n",
       "      <td>0.000015</td>\n",
       "      <td>0.021544</td>\n",
       "      <td>0.058205</td>\n",
       "      <td>0.014042</td>\n",
       "      <td>0.016157</td>\n",
       "      <td>0.160546</td>\n",
       "      <td>0.013167</td>\n",
       "      <td>...</td>\n",
       "      <td>-1.236221</td>\n",
       "      <td>-2.80609</td>\n",
       "      <td>-0.069386</td>\n",
       "      <td>-0.04155</td>\n",
       "      <td>-0.000655</td>\n",
       "      <td>11.355697</td>\n",
       "      <td>-18.87997</td>\n",
       "      <td>0.037457</td>\n",
       "      <td>0.000108</td>\n",
       "      <td>441.222295</td>\n",
       "    </tr>\n",
       "    <tr>\n",
       "      <th>996</th>\n",
       "      <td>False</td>\n",
       "      <td>9.416035e+06</td>\n",
       "      <td>10000000.0</td>\n",
       "      <td>0.000015</td>\n",
       "      <td>0.021544</td>\n",
       "      <td>0.058205</td>\n",
       "      <td>0.014042</td>\n",
       "      <td>0.016157</td>\n",
       "      <td>0.160546</td>\n",
       "      <td>0.013167</td>\n",
       "      <td>...</td>\n",
       "      <td>-1.236221</td>\n",
       "      <td>-2.80609</td>\n",
       "      <td>-0.069386</td>\n",
       "      <td>-0.04155</td>\n",
       "      <td>-0.000655</td>\n",
       "      <td>11.355697</td>\n",
       "      <td>-18.87997</td>\n",
       "      <td>0.037457</td>\n",
       "      <td>0.000020</td>\n",
       "      <td>420.744793</td>\n",
       "    </tr>\n",
       "    <tr>\n",
       "      <th>997</th>\n",
       "      <td>False</td>\n",
       "      <td>1.515895e+06</td>\n",
       "      <td>10000000.0</td>\n",
       "      <td>0.000015</td>\n",
       "      <td>0.021544</td>\n",
       "      <td>0.058205</td>\n",
       "      <td>0.014042</td>\n",
       "      <td>0.016157</td>\n",
       "      <td>0.160546</td>\n",
       "      <td>0.013167</td>\n",
       "      <td>...</td>\n",
       "      <td>-1.236221</td>\n",
       "      <td>-2.80609</td>\n",
       "      <td>-0.069386</td>\n",
       "      <td>-0.04155</td>\n",
       "      <td>-0.000655</td>\n",
       "      <td>11.355697</td>\n",
       "      <td>-18.87997</td>\n",
       "      <td>0.037457</td>\n",
       "      <td>0.000548</td>\n",
       "      <td>68.292400</td>\n",
       "    </tr>\n",
       "    <tr>\n",
       "      <th>998</th>\n",
       "      <td>False</td>\n",
       "      <td>7.125698e+06</td>\n",
       "      <td>10000000.0</td>\n",
       "      <td>0.000015</td>\n",
       "      <td>0.021544</td>\n",
       "      <td>0.058205</td>\n",
       "      <td>0.014042</td>\n",
       "      <td>0.016157</td>\n",
       "      <td>0.160546</td>\n",
       "      <td>0.013167</td>\n",
       "      <td>...</td>\n",
       "      <td>-1.236221</td>\n",
       "      <td>-2.80609</td>\n",
       "      <td>-0.069386</td>\n",
       "      <td>-0.04155</td>\n",
       "      <td>-0.000655</td>\n",
       "      <td>11.355697</td>\n",
       "      <td>-18.87997</td>\n",
       "      <td>0.037457</td>\n",
       "      <td>0.000042</td>\n",
       "      <td>317.448356</td>\n",
       "    </tr>\n",
       "    <tr>\n",
       "      <th>999</th>\n",
       "      <td>False</td>\n",
       "      <td>9.737442e+07</td>\n",
       "      <td>10000000.0</td>\n",
       "      <td>0.000015</td>\n",
       "      <td>0.021544</td>\n",
       "      <td>0.058205</td>\n",
       "      <td>0.014042</td>\n",
       "      <td>0.016157</td>\n",
       "      <td>0.160546</td>\n",
       "      <td>0.013167</td>\n",
       "      <td>...</td>\n",
       "      <td>-1.236221</td>\n",
       "      <td>-2.80609</td>\n",
       "      <td>-0.069386</td>\n",
       "      <td>-0.04155</td>\n",
       "      <td>-0.000655</td>\n",
       "      <td>11.355697</td>\n",
       "      <td>-18.87997</td>\n",
       "      <td>0.037457</td>\n",
       "      <td>0.000041</td>\n",
       "      <td>4271.579148</td>\n",
       "    </tr>\n",
       "  </tbody>\n",
       "</table>\n",
       "<p>5 rows × 46 columns</p>\n",
       "</div>"
      ],
      "text/plain": [
       "       Stable  Norbits_instability     Norbits   Mplanet      RH/a        a1  \\\n",
       "Sim_ID                                                                         \n",
       "995     False         9.905229e+06  10000000.0  0.000015  0.021544  0.058205   \n",
       "996     False         9.416035e+06  10000000.0  0.000015  0.021544  0.058205   \n",
       "997     False         1.515895e+06  10000000.0  0.000015  0.021544  0.058205   \n",
       "998     False         7.125698e+06  10000000.0  0.000015  0.021544  0.058205   \n",
       "999     False         9.737442e+07  10000000.0  0.000015  0.021544  0.058205   \n",
       "\n",
       "              P1        e1   pomega1      inc1     ...         Omega3  \\\n",
       "Sim_ID                                             ...                  \n",
       "995     0.014042  0.016157  0.160546  0.013167     ...      -1.236221   \n",
       "996     0.014042  0.016157  0.160546  0.013167     ...      -1.236221   \n",
       "997     0.014042  0.016157  0.160546  0.013167     ...      -1.236221   \n",
       "998     0.014042  0.016157  0.160546  0.013167     ...      -1.236221   \n",
       "999     0.014042  0.016157  0.160546  0.013167     ...      -1.236221   \n",
       "\n",
       "             f3        x3       y3        z3        vx3       vy3       vz3  \\\n",
       "Sim_ID                                                                        \n",
       "995    -2.80609 -0.069386 -0.04155 -0.000655  11.355697 -18.87997  0.037457   \n",
       "996    -2.80609 -0.069386 -0.04155 -0.000655  11.355697 -18.87997  0.037457   \n",
       "997    -2.80609 -0.069386 -0.04155 -0.000655  11.355697 -18.87997  0.037457   \n",
       "998    -2.80609 -0.069386 -0.04155 -0.000655  11.355697 -18.87997  0.037457   \n",
       "999    -2.80609 -0.069386 -0.04155 -0.000655  11.355697 -18.87997  0.037457   \n",
       "\n",
       "        Rel_Eerr   integ_time  \n",
       "Sim_ID                         \n",
       "995     0.000108   441.222295  \n",
       "996     0.000020   420.744793  \n",
       "997     0.000548    68.292400  \n",
       "998     0.000042   317.448356  \n",
       "999     0.000041  4271.579148  \n",
       "\n",
       "[5 rows x 46 columns]"
      ]
     },
     "execution_count": 9,
     "metadata": {},
     "output_type": "execute_result"
    }
   ],
   "source": [
    "import pandas as pd\n",
    "import numpy as np\n",
    "import os\n",
    "\n",
    "sim_id = 4002\n",
    "#df = pd.read_csv(\"/mnt/raid-cita/dtamayo/Stability/data/distribution/outputs\"+str(sim_id)+'/distribution'+str(sim_id)+\".csv\", index_col=0)\n",
    "df = pd.read_csv(\"../data/distribution/outputs\"+str(sim_id)+'/distribution'+str(sim_id)+\".csv\", index_col=0)\n",
    "df.tail()"
   ]
  },
  {
   "cell_type": "code",
   "execution_count": 2,
   "metadata": {
    "collapsed": false
   },
   "outputs": [],
   "source": [
    "logs = np.log10(df['Norbits_instability'].values)"
   ]
  },
  {
   "cell_type": "code",
   "execution_count": 3,
   "metadata": {
    "collapsed": false
   },
   "outputs": [
    {
     "data": {
      "text/plain": [
       "<matplotlib.text.Text at 0x108269c90>"
      ]
     },
     "execution_count": 3,
     "metadata": {},
     "output_type": "execute_result"
    },
    {
     "data": {
      "image/png": "[encoded data removed]",
      "text/plain": [
       "<matplotlib.figure.Figure at 0x105159e50>"
      ]
     },
     "metadata": {},
     "output_type": "display_data"
    }
   ],
   "source": [
    "%matplotlib inline\n",
    "import matplotlib.pyplot as plt\n",
    "\n",
    "fig, ax = plt.subplots()\n",
    "ax.hist(logs, 40)\n",
    "ax.set_xlabel('Log instability time', fontsize=14)"
   ]
  },
  {
   "cell_type": "code",
   "execution_count": 4,
   "metadata": {
    "collapsed": false
   },
   "outputs": [
    {
     "data": {
      "text/plain": [
       "10536330.846826443"
      ]
     },
     "execution_count": 4,
     "metadata": {},
     "output_type": "execute_result"
    }
   ],
   "source": [
    "df['Norbits_instability'].mean()"
   ]
  },
  {
   "cell_type": "code",
   "execution_count": 5,
   "metadata": {
    "collapsed": false
   },
   "outputs": [
    {
     "data": {
      "text/plain": [
       "15261284.272998041"
      ]
     },
     "execution_count": 5,
     "metadata": {},
     "output_type": "execute_result"
    }
   ],
   "source": [
    "df['Norbits_instability'].std()"
   ]
  },
  {
   "cell_type": "code",
   "execution_count": 6,
   "metadata": {
    "collapsed": true
   },
   "outputs": [],
   "source": [
    "dfdist = pd.read_csv('../data/distribution/outputs'+str(sim_id)+'/distributionallfeatures'+str(sim_id)+'.csv', index_col=0)\n",
    "#dfdist = pd.read_csv('/mnt/raid-cita/dtamayo/Stability/data/distribution/outputs'+str(sim_id)+'/distributionallfeatures'+str(sim_id)+'.csv', index_col=0)"
   ]
  },
  {
   "cell_type": "code",
   "execution_count": 10,
   "metadata": {
    "collapsed": false
   },
   "outputs": [
    {
     "data": {
      "text/html": [
       "<div>\n",
       "<table border=\"1\" class=\"dataframe\">\n",
       "  <thead>\n",
       "    <tr style=\"text-align: right;\">\n",
       "      <th></th>\n",
       "      <th>Sim_ID</th>\n",
       "      <th>Stable</th>\n",
       "      <th>Norbits_instability</th>\n",
       "      <th>Norbits</th>\n",
       "      <th>Mplanet</th>\n",
       "      <th>RH/a</th>\n",
       "      <th>a1</th>\n",
       "      <th>P1</th>\n",
       "      <th>e1</th>\n",
       "      <th>pomega1</th>\n",
       "      <th>...</th>\n",
       "      <th>max_iH2</th>\n",
       "      <th>max_iH3</th>\n",
       "      <th>min_iH1</th>\n",
       "      <th>min_iH2</th>\n",
       "      <th>min_iH3</th>\n",
       "      <th>mean_std_iH</th>\n",
       "      <th>norm_a1_slope</th>\n",
       "      <th>norm_a2_slope</th>\n",
       "      <th>norm_a3_slope</th>\n",
       "      <th>y_pred</th>\n",
       "    </tr>\n",
       "  </thead>\n",
       "  <tbody>\n",
       "    <tr>\n",
       "      <th>0</th>\n",
       "      <td>0</td>\n",
       "      <td>False</td>\n",
       "      <td>2.699634e+06</td>\n",
       "      <td>10000000.0</td>\n",
       "      <td>0.000015</td>\n",
       "      <td>0.021544</td>\n",
       "      <td>0.058205</td>\n",
       "      <td>0.014042</td>\n",
       "      <td>0.016157</td>\n",
       "      <td>0.160546</td>\n",
       "      <td>...</td>\n",
       "      <td>0.672781</td>\n",
       "      <td>0.502136</td>\n",
       "      <td>0.015138</td>\n",
       "      <td>0.013499</td>\n",
       "      <td>0.176773</td>\n",
       "      <td>0.180753</td>\n",
       "      <td>-5.091637e-12</td>\n",
       "      <td>1.620393e-10</td>\n",
       "      <td>-1.796246e-10</td>\n",
       "      <td>0.942134</td>\n",
       "    </tr>\n",
       "    <tr>\n",
       "      <th>1</th>\n",
       "      <td>1</td>\n",
       "      <td>False</td>\n",
       "      <td>6.795081e+06</td>\n",
       "      <td>10000000.0</td>\n",
       "      <td>0.000015</td>\n",
       "      <td>0.021544</td>\n",
       "      <td>0.058205</td>\n",
       "      <td>0.014042</td>\n",
       "      <td>0.016157</td>\n",
       "      <td>0.160546</td>\n",
       "      <td>...</td>\n",
       "      <td>0.672781</td>\n",
       "      <td>0.502136</td>\n",
       "      <td>0.015138</td>\n",
       "      <td>0.013499</td>\n",
       "      <td>0.176773</td>\n",
       "      <td>0.180753</td>\n",
       "      <td>-5.304721e-12</td>\n",
       "      <td>1.622489e-10</td>\n",
       "      <td>-1.796332e-10</td>\n",
       "      <td>0.945562</td>\n",
       "    </tr>\n",
       "    <tr>\n",
       "      <th>2</th>\n",
       "      <td>2</td>\n",
       "      <td>False</td>\n",
       "      <td>6.059626e+06</td>\n",
       "      <td>10000000.0</td>\n",
       "      <td>0.000015</td>\n",
       "      <td>0.021544</td>\n",
       "      <td>0.058205</td>\n",
       "      <td>0.014042</td>\n",
       "      <td>0.016157</td>\n",
       "      <td>0.160546</td>\n",
       "      <td>...</td>\n",
       "      <td>0.672781</td>\n",
       "      <td>0.502136</td>\n",
       "      <td>0.015138</td>\n",
       "      <td>0.013499</td>\n",
       "      <td>0.176773</td>\n",
       "      <td>0.180753</td>\n",
       "      <td>-5.083294e-12</td>\n",
       "      <td>1.620311e-10</td>\n",
       "      <td>-1.796243e-10</td>\n",
       "      <td>0.942134</td>\n",
       "    </tr>\n",
       "    <tr>\n",
       "      <th>3</th>\n",
       "      <td>3</td>\n",
       "      <td>False</td>\n",
       "      <td>3.425721e+06</td>\n",
       "      <td>10000000.0</td>\n",
       "      <td>0.000015</td>\n",
       "      <td>0.021544</td>\n",
       "      <td>0.058205</td>\n",
       "      <td>0.014042</td>\n",
       "      <td>0.016157</td>\n",
       "      <td>0.160546</td>\n",
       "      <td>...</td>\n",
       "      <td>0.672781</td>\n",
       "      <td>0.502136</td>\n",
       "      <td>0.015138</td>\n",
       "      <td>0.013499</td>\n",
       "      <td>0.176773</td>\n",
       "      <td>0.180753</td>\n",
       "      <td>-5.287510e-12</td>\n",
       "      <td>1.622319e-10</td>\n",
       "      <td>-1.796325e-10</td>\n",
       "      <td>0.945562</td>\n",
       "    </tr>\n",
       "    <tr>\n",
       "      <th>4</th>\n",
       "      <td>4</td>\n",
       "      <td>False</td>\n",
       "      <td>6.157578e+06</td>\n",
       "      <td>10000000.0</td>\n",
       "      <td>0.000015</td>\n",
       "      <td>0.021544</td>\n",
       "      <td>0.058205</td>\n",
       "      <td>0.014042</td>\n",
       "      <td>0.016157</td>\n",
       "      <td>0.160546</td>\n",
       "      <td>...</td>\n",
       "      <td>0.672781</td>\n",
       "      <td>0.502136</td>\n",
       "      <td>0.015138</td>\n",
       "      <td>0.013499</td>\n",
       "      <td>0.176773</td>\n",
       "      <td>0.180753</td>\n",
       "      <td>-5.131387e-12</td>\n",
       "      <td>1.620784e-10</td>\n",
       "      <td>-1.796262e-10</td>\n",
       "      <td>0.942082</td>\n",
       "    </tr>\n",
       "  </tbody>\n",
       "</table>\n",
       "<p>5 rows × 154 columns</p>\n",
       "</div>"
      ],
      "text/plain": [
       "   Sim_ID Stable  Norbits_instability     Norbits   Mplanet      RH/a  \\\n",
       "0       0  False         2.699634e+06  10000000.0  0.000015  0.021544   \n",
       "1       1  False         6.795081e+06  10000000.0  0.000015  0.021544   \n",
       "2       2  False         6.059626e+06  10000000.0  0.000015  0.021544   \n",
       "3       3  False         3.425721e+06  10000000.0  0.000015  0.021544   \n",
       "4       4  False         6.157578e+06  10000000.0  0.000015  0.021544   \n",
       "\n",
       "         a1        P1        e1   pomega1    ...      max_iH2   max_iH3  \\\n",
       "0  0.058205  0.014042  0.016157  0.160546    ...     0.672781  0.502136   \n",
       "1  0.058205  0.014042  0.016157  0.160546    ...     0.672781  0.502136   \n",
       "2  0.058205  0.014042  0.016157  0.160546    ...     0.672781  0.502136   \n",
       "3  0.058205  0.014042  0.016157  0.160546    ...     0.672781  0.502136   \n",
       "4  0.058205  0.014042  0.016157  0.160546    ...     0.672781  0.502136   \n",
       "\n",
       "    min_iH1   min_iH2   min_iH3  mean_std_iH  norm_a1_slope  norm_a2_slope  \\\n",
       "0  0.015138  0.013499  0.176773     0.180753  -5.091637e-12   1.620393e-10   \n",
       "1  0.015138  0.013499  0.176773     0.180753  -5.304721e-12   1.622489e-10   \n",
       "2  0.015138  0.013499  0.176773     0.180753  -5.083294e-12   1.620311e-10   \n",
       "3  0.015138  0.013499  0.176773     0.180753  -5.287510e-12   1.622319e-10   \n",
       "4  0.015138  0.013499  0.176773     0.180753  -5.131387e-12   1.620784e-10   \n",
       "\n",
       "   norm_a3_slope    y_pred  \n",
       "0  -1.796246e-10  0.942134  \n",
       "1  -1.796332e-10  0.945562  \n",
       "2  -1.796243e-10  0.942134  \n",
       "3  -1.796325e-10  0.945562  \n",
       "4  -1.796262e-10  0.942082  \n",
       "\n",
       "[5 rows x 154 columns]"
      ]
     },
     "execution_count": 10,
     "metadata": {},
     "output_type": "execute_result"
    }
   ],
   "source": [
    "dfdist.head()"
   ]
  },
  {
   "cell_type": "code",
   "execution_count": 11,
   "metadata": {
    "collapsed": false
   },
   "outputs": [
    {
     "data": {
      "text/plain": [
       "<matplotlib.text.Text at 0x1072641d0>"
      ]
     },
     "execution_count": 11,
     "metadata": {},
     "output_type": "execute_result"
    },
    {
     "data": {
      "image/png": "[encoded data removed]",
      "text/plain": [
       "<matplotlib.figure.Figure at 0x10723af10>"
      ]
     },
     "metadata": {},
     "output_type": "display_data"
    }
   ],
   "source": [
    "fig, ax = plt.subplots()\n",
    "ax.hist(dfdist[\"y_pred\"], 100)\n",
    "ax.set_xlabel('model predicted probability it is stable', fontsize=14)"
   ]
  },
  {
   "cell_type": "code",
   "execution_count": null,
   "metadata": {
    "collapsed": true
   },
   "outputs": [],
   "source": []
  }
 ],
 "metadata": {
  "kernelspec": {
   "display_name": "Python 2",
   "language": "python",
   "name": "python2"
  },
  "language_info": {
   "codemirror_mode": {
    "name": "ipython",
    "version": 2
   },
   "file_extension": ".py",
   "mimetype": "text/x-python",
   "name": "python",
   "nbconvert_exporter": "python",
   "pygments_lexer": "ipython2",
   "version": "2.7.10"
  }
 },
 "nbformat": 4,
 "nbformat_minor": 1
}
