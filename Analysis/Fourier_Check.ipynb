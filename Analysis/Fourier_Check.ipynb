{
 "cells": [
  {
   "cell_type": "markdown",
   "metadata": {},
   "source": [
    "# Analysis of Orbits in Fourier Space\n",
    "\n",
    "Here we simulate Dan's Machine Learning system with rebound and then do a basic Fourier analysis. "
   ]
  },
  {
   "cell_type": "code",
   "execution_count": 1,
   "metadata": {
    "collapsed": true
   },
   "outputs": [],
   "source": [
    "import rebound\n",
    "import numpy as np\n",
    "import pandas as pd\n",
    "import numpy as np\n",
    "import matplotlib.pyplot as plt\n",
    "import time\n",
    "#%matplotlib inline"
   ]
  },
  {
   "cell_type": "markdown",
   "metadata": {},
   "source": [
    "Here we set up the outer solar system with the possibility to inflate the masses. Such a system is known to go unstable on short timescales (e.g. Chambers, 1999). The simulation stops once there is a close encounter. "
   ]
  },
  {
   "cell_type": "code",
   "execution_count": 2,
   "metadata": {
    "collapsed": false
   },
   "outputs": [],
   "source": [
    "def problem(inner_massfac,output_N,tmax,seed):\n",
    "    sim = rebound.Simulation()\n",
    "    sim.integrator = \"whfast\"\n",
    "    sim.dt = 1e-4*2*np.pi\n",
    "    \n",
    "    #add bodies\n",
    "    m_planet = 5*3e-6    #5-earth masses\n",
    "    a_planet = 1\n",
    "    rhill = a_planet*(m_planet/3.)**(1./3.)\n",
    "    e = 1e-6\n",
    "    \n",
    "    np.random.seed(seed)\n",
    "    \n",
    "    sim.add(m=1.)\n",
    "    sim.add(a=a_planet - 52.63*rhill,m=m_planet*inner_massfac,e=e,inc=1e-4,f=np.random.random()*np.pi*2)\n",
    "    sim.add(a=a_planet,m=m_planet,e=e,inc=2e-4,f=np.random.random()*np.pi*2)\n",
    "    sim.add(a=a_planet + 8*rhill,m=m_planet,e=e,inc=1e-5,f=np.random.random()*np.pi*2)\n",
    "    sim.N_active = sim.N\n",
    "    \n",
    "    sim.move_to_com()\n",
    "    E0 = sim.calculate_energy()\n",
    "    #sim.init_megno()\n",
    "    \n",
    "    #condition to stop the simulation\n",
    "    m_neptune = 5e-5\n",
    "    sim.exit_min_distance = a_planet*(m_neptune/3.)**(1./3.)\n",
    "    \n",
    "    #integrate and output\n",
    "    output_name = \"Fourier/data/DTsys_t\"+str('{0:.1e}'.format(tmax))+\"_innerMF\"+str(inner_massfac)+\"_sd\"+str(seed)+\".csv\"\n",
    "    output_info = \"Fourier/data/DTsys_t\"+str('{0:.1e}'.format(tmax))+\"_innerMF\"+str(inner_massfac)+\"_sd\"+str(seed)+\"_info.txt\"\n",
    "    start_time = time.time()\n",
    "    times = np.linspace(0,tmax*2*np.pi,output_N)\n",
    "    print 'starting simulation for '+output_name\n",
    "    with open(output_name, 'w') as f:\n",
    "        try:\n",
    "            for t in times:\n",
    "                sim.integrate(t)\n",
    "                f.write(str(sim.t/(2*np.pi)))\n",
    "                #f.write(','+str(sim.calculate_lyapunov()))\n",
    "                outs = []\n",
    "                for p in sim.particles[1:sim.N - sim.N_var]:\n",
    "                    outs += [p.a, p.P, p.e, p.pomega, p.inc, p.Omega, p.f]\n",
    "                for out in outs:\n",
    "                    f.write(',{0}'.format(out))\n",
    "                f.write('\\n')\n",
    "            f.close()\n",
    "            o = open(output_info,\"w\")\n",
    "            o.write('Simulation complete. Final energy error is: '+str(abs((E0 - sim.calculate_energy())/E0))+\".\")\n",
    "            o.write('\\nTotal Elapsed time is: '+str(time.time() - start_time)+' seconds.')\n",
    "            o.close()\n",
    "            print 'Simulation '+output_name+' complete. Final energy error is:', abs((E0 - sim.calculate_energy())/E0)\n",
    "        except rebound.Encounter as error:\n",
    "            f.write(str(sim.t/(2*np.pi)))\n",
    "            #f.write(','+str(sim.calculate_lyapunov()))\n",
    "            outs = []\n",
    "            for p in sim.particles[1:sim.N - sim.N_var]:\n",
    "                outs += [p.a, p.P, p.e, p.pomega, p.inc, p.Omega, p.f]\n",
    "            outs += []\n",
    "            for out in outs:\n",
    "                f.write(',{0}'.format(out))\n",
    "            f.write('\\n')\n",
    "            f.close()\n",
    "            o = open(output_info,\"w\")\n",
    "            o.write(\"Close encounter, simulation \"+output_name+\" stopping.\")\n",
    "            o.write('\\nTotal Elapsed time is: '+str(time.time() - start_time)+' seconds.')\n",
    "            o.close()\n",
    "            print \"Close encounter, simulation \"+output_name+\" stopping.\""
   ]
  },
  {
   "cell_type": "markdown",
   "metadata": {},
   "source": [
    "Choose the parameters you will search over."
   ]
  },
  {
   "cell_type": "code",
   "execution_count": null,
   "metadata": {
    "collapsed": false
   },
   "outputs": [],
   "source": [
    "n_runs = 10             #number of simulations you want to run\n",
    "max_inner_massfac = 1   #max mass factor to increase inner planet by (60 = Jupiter)\n",
    "n_outputs = 5e4         #number of outputted data points, important for FFT\n",
    "tmax = 1e6              #simulation time"
   ]
  },
  {
   "cell_type": "markdown",
   "metadata": {},
   "source": [
    "**Warning!** Executing the code below will take a long time!"
   ]
  },
  {
   "cell_type": "code",
   "execution_count": null,
   "metadata": {
    "collapsed": false
   },
   "outputs": [],
   "source": [
    "#Get inputs\n",
    "massfac = np.round(np.logspace(0,np.log10(max_inner_massfac),n_runs),2)\n",
    "\n",
    "#temp, consistency check - two of every run to see if fourier specs agree\n",
    "#massfac = np.concatenate((massfac,massfac))\n",
    "#n_runs *= 2\n",
    "\n",
    "params = zip(massfac,n_outputs*np.ones(n_runs),tmax*np.ones(n_runs),(1000*np.random.random(n_runs)).astype(\"int\"))\n",
    "\n",
    "#Run the problem\n",
    "import multiprocessing as mp\n",
    "def execute(pars):\n",
    "    problem(pars[0],pars[1],pars[2],pars[3])\n",
    "\n",
    "if __name__== '__main__':\n",
    "    pool = mp.Pool(processes=n_runs)\n",
    "    pool.map(execute, params)\n",
    "    pool.close()\n",
    "    pool.join()"
   ]
  },
  {
   "cell_type": "markdown",
   "metadata": {},
   "source": [
    "# Functions\n",
    "Here are the functions we need to create to do a Fourier analysis"
   ]
  },
  {
   "cell_type": "code",
   "execution_count": null,
   "metadata": {
    "collapsed": true
   },
   "outputs": [],
   "source": [
    "#extra variables that we might want to plot\n",
    "def get_var(data,i,var):\n",
    "    if var == \"LCE\":\n",
    "        return data[\"LCE\"]\n",
    "    if var == \"z\":\n",
    "        e = data[\"e\"+i].values\n",
    "        pomega = data[\"pomega\"+i].values\n",
    "        return e*np.exp(pomega*1j)\n",
    "    if var == \"h\":\n",
    "        e = data[\"e\"+i].values\n",
    "        pomega = data[\"pomega\"+i].values\n",
    "        return e*np.cos(pomega)\n",
    "    if var == \"k\":\n",
    "        e = data[\"e\"+i].values\n",
    "        pomega = data[\"pomega\"+i].values\n",
    "        return e*np.sin(pomega)\n",
    "    else:\n",
    "        return data[var+i].values"
   ]
  },
  {
   "cell_type": "code",
   "execution_count": null,
   "metadata": {
    "collapsed": false
   },
   "outputs": [],
   "source": [
    "#1-D frequency map\n",
    "import scipy.signal as signal\n",
    "def fourier(data,var,tmax,N_outputs,output_name):        \n",
    "    N_freq = 200\n",
    "    t=data[\"Time\"].values\n",
    "    window = np.hanning(N_outputs)\n",
    "    freq = np.fft.fftfreq(N_outputs, tmax/N_outputs)\n",
    "    plt.figure(figsize=(12,8))\n",
    "    names = ['Planet 1','Planet 2','Planet 3','Planet 4']\n",
    "    for i,num in enumerate(['1', '2', '3']):\n",
    "        y = get_var(data,num,var)\n",
    "        power = np.fft.fft(y)/N_outputs\n",
    "        plt.subplot(2, 1, 1)\n",
    "        plt.plot(1./freq,power,label=names[i],alpha=1-0.2*i)\n",
    "        plt.subplot(2, 1, 2)\n",
    "        plt.plot(t,y,label=num,alpha=1-0.2*i)\n",
    "\n",
    "    plt.subplots_adjust(hspace=0.4)\n",
    "    plt.subplot(2, 1, 1)\n",
    "    plt.ylabel(\"power of: \"+var)\n",
    "    plt.legend(loc=\"upper left\")\n",
    "    plt.xlabel('frequencies')\n",
    "    plt.xscale('log')\n",
    "    plt.subplot(2, 1, 2)\n",
    "    plt.ylabel(var)\n",
    "    plt.xlabel('time')\n",
    "    if var == \"LCE\":\n",
    "        plt.yscale('log')\n",
    "    out = output_name.split(\".csv\")[0].split(\"data\")[1]\n",
    "    plt.savefig(\"Fourier/images\"+out+\"_fft-\"+var+\".png\")\n",
    "    plt.clf()"
   ]
  },
  {
   "cell_type": "markdown",
   "metadata": {},
   "source": [
    "# Analyze Batch\n",
    "Let's batch analyze our data now (note you may have to change the file_location variable)."
   ]
  },
  {
   "cell_type": "code",
   "execution_count": null,
   "metadata": {
    "collapsed": false
   },
   "outputs": [],
   "source": [
    "#If just wanting to batch analyze .csv files\n",
    "file_location = 'Fourier/data/DT_1e6/*.csv'  #Location of where data is stored. \n",
    "var = \"z\"                        #choices are h,k,z or any of the orbital elements (e.g. a,P,e,pomega,etc.)"
   ]
  },
  {
   "cell_type": "code",
   "execution_count": null,
   "metadata": {
    "collapsed": false
   },
   "outputs": [],
   "source": [
    "import glob\n",
    "files = glob.glob(file_location)\n",
    "columns = ['Time']\n",
    "for i in ['1', '2', '3']:\n",
    "    columns += ['a'+i, 'P'+i, 'e'+i, 'pomega'+i, 'inc'+i, 'Omega'+i, 'f'+i]\n",
    "\n",
    "for f in files:\n",
    "    data = pd.read_csv(f,header=None,names=columns)\n",
    "    tmax = float(f.split(\"_\")[-3].split(\"t\")[1])\n",
    "    N_outputs = len(data.index)\n",
    "    fourier(data,var,tmax,N_outputs,f)"
   ]
  },
  {
   "cell_type": "markdown",
   "metadata": {},
   "source": [
    "# Run/Analyze single"
   ]
  },
  {
   "cell_type": "code",
   "execution_count": null,
   "metadata": {
    "collapsed": false,
    "scrolled": true
   },
   "outputs": [],
   "source": [
    "#single run\n",
    "problem(1,1000,1e3)"
   ]
  },
  {
   "cell_type": "code",
   "execution_count": null,
   "metadata": {
    "collapsed": false
   },
   "outputs": [],
   "source": [
    "%matplotlib inline\n",
    "f = \"Fourier/data/DTsys_t1.0e+06_innerMF1_sd198.csv\"\n",
    "var = \"z\"  \n",
    "columns = ['Time']\n",
    "for i in ['1', '2', '3', '4']:\n",
    "    columns += ['a'+i, 'P'+i, 'e'+i, 'pomega'+i, 'inc'+i, 'Omega'+i, 'f'+i]\n",
    "    \n",
    "data = pd.read_csv(f,header=None,names=columns)\n",
    "data.head()\n",
    "tmax = float(f.split(\"_\")[-3].split(\"t\")[1])\n",
    "N_outputs = len(data.index)\n",
    "fourier(data,var,tmax,N_outputs,f)"
   ]
  },
  {
   "cell_type": "code",
   "execution_count": null,
   "metadata": {
    "collapsed": true
   },
   "outputs": [],
   "source": []
  }
 ],
 "metadata": {
  "kernelspec": {
   "display_name": "Python 2",
   "language": "python",
   "name": "python2"
  },
  "language_info": {
   "codemirror_mode": {
    "name": "ipython",
    "version": 2
   },
   "file_extension": ".py",
   "mimetype": "text/x-python",
   "name": "python",
   "nbconvert_exporter": "python",
   "pygments_lexer": "ipython2",
   "version": "2.7.11"
  }
 },
 "nbformat": 4,
 "nbformat_minor": 0
}
