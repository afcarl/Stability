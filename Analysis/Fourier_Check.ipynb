{
 "cells": [
  {
   "cell_type": "markdown",
   "metadata": {},
   "source": [
    "# Analysis of Orbits in Fourier Space\n",
    "By: Ari Silburt\n",
    "\n",
    "In this notebook I outline the steps to create numerous simulations with rebound and then do a basic Fourier analysis. Here I focus on the outer solar system, varying the masses using a \"massfac\" variable, which is a uniform multiplicative factor on masses of the bodies. As massfac is increased, the system becomes more and more unstable, and chaotic features in the fourier spectrum are seen. "
   ]
  },
  {
   "cell_type": "code",
   "execution_count": 4,
   "metadata": {
    "collapsed": true
   },
   "outputs": [],
   "source": [
    "import rebound\n",
    "import numpy as np\n",
    "import pandas as pd\n",
    "import numpy as np\n",
    "import matplotlib.pyplot as plt\n",
    "#%matplotlib inline"
   ]
  },
  {
   "cell_type": "markdown",
   "metadata": {},
   "source": [
    "Here we set up the outer solar system with the possibility to inflate the masses. Such a system is known to go unstable on short timescales (e.g. Chambers, 1999). The simulation stops once there is a close encounter. "
   ]
  },
  {
   "cell_type": "code",
   "execution_count": 1,
   "metadata": {
    "collapsed": false
   },
   "outputs": [],
   "source": [
    "def problem(mass_fac,output_N,tmax):\n",
    "    sim = rebound.Simulation()\n",
    "    sim.integrator = \"whfast\"\n",
    "    sim.dt = 0.03*2*np.pi\n",
    "    sim.usleep = 1\n",
    "    \n",
    "    #add bodies\n",
    "    m_jupiter = 9.543e-4\n",
    "    a_jupiter = 5.2\n",
    "    sim.add(m=1.)\n",
    "    sim.add(a=a_jupiter,m=m_jupiter*mass_fac,e=0.01,inc=1e-4,f=np.random.random()*np.pi*2)\n",
    "    sim.add(a=9.5,m=2.857e-4*mass_fac,e=0.005,inc=1e-3,f=np.random.random()*np.pi*2)\n",
    "    sim.add(a=19.2,m=4.365e-5*mass_fac,e=0.01,inc=-2e-4,f=np.random.random()*np.pi*2)\n",
    "    sim.add(a=30.1,m=5e-5*mass_fac,e=0.002,inc=-1e-3,f=np.random.random()*np.pi*2)\n",
    "    sim.move_to_com()\n",
    "    E0 = sim.calculate_energy()\n",
    "    \n",
    "    #condition to stop the simulation\n",
    "    sim.exit_min_distance = a_jupiter*(m_jupiter/3.)**(1./3.)\n",
    "    \n",
    "    #integrate and output\n",
    "    output_name = \"Fourier/outerSS_t\"+str('{0:.1e}'.format(tmax))+\"_massfac\"+str(mass_fac)+\".csv\"\n",
    "    times = np.linspace(0,tmax*2*np.pi,output_N)\n",
    "    print 'starting simulation for '+output_name\n",
    "    with open(output_name, 'w') as f:\n",
    "        try:\n",
    "            for t in times:\n",
    "                sim.integrate(t)\n",
    "                f.write(str(sim.t/(2*np.pi)))\n",
    "                outs = []\n",
    "                for p in sim.particles[1:]:\n",
    "                    outs = outs + [p.a, p.P, p.e, p.pomega, p.inc, p.Omega, p.f]\n",
    "                for out in outs:\n",
    "                    f.write(',{0}'.format(out))\n",
    "                f.write('\\n')\n",
    "            print 'Simulation '+output_name+' complete. Final energy error is:', abs((E0 - sim.calculate_energy())/E0)\n",
    "        except rebound.Encounter as error:\n",
    "            print \"Close encounter, simulation \"+output_name+\" stopping.\"\n",
    "            f.write(str(sim.t/(2*np.pi))) \n",
    "            outs = []\n",
    "            for p in sim.particles[1:]:\n",
    "                outs = outs + [p.a, p.P, p.e, p.pomega, p.inc, p.Omega, p.f]\n",
    "            for out in outs:\n",
    "                f.write(',{0}'.format(out))\n",
    "            f.write('\\n')"
   ]
  },
  {
   "cell_type": "markdown",
   "metadata": {},
   "source": [
    "Choose the parameters you will search over."
   ]
  },
  {
   "cell_type": "code",
   "execution_count": 74,
   "metadata": {
    "collapsed": false
   },
   "outputs": [],
   "source": [
    "n_runs = 20        #number of simulations you want to run\n",
    "max_mass_fac = 50  #upper limit of the mass fac range (lower limit is 1, i.e. no inflated masses)\n",
    "n_outputs = 10000  #number of outputted data points, important for FFT\n",
    "tmax = 1e6         #simulation time"
   ]
  },
  {
   "cell_type": "markdown",
   "metadata": {},
   "source": [
    "**Warning!** Executing the code below will take a long time!"
   ]
  },
  {
   "cell_type": "code",
   "execution_count": 75,
   "metadata": {
    "collapsed": false
   },
   "outputs": [
    {
     "name": "stdout",
     "output_type": "stream",
     "text": [
      "Close encounter, simulation Fourier/outerSS_massfac50.0.csv stopping.\n",
      "Simulation Fourier/outerSS_massfac18.8030154654.csv complete. Final energy error is: 1.17330374477e-09\n",
      "Simulation Fourier/outerSS_massfac1.0.csv complete. Final energy error is: 4.70840426087e-10\n",
      "Simulation Fourier/outerSS_massfac7.07106781187.csv complete. Final energy error is: 1.06664684749e-08\n",
      "Simulation Fourier/outerSS_massfac2.65914794847.csv complete. Final energy error is: 4.0095156871e-09\n"
     ]
    }
   ],
   "source": [
    "#Get inputs\n",
    "mass_fac = np.round(np.logspace(0,np.log10(max_mass_fac),n_runs),2)       #inflated mass factor of planets\n",
    "params = zip(mass_fac,np.ones(n_runs)*n_outputs,np.ones(n_runs)*tmax)\n",
    "\n",
    "#Run the problem\n",
    "import multiprocessing as mp\n",
    "def execute(pars):\n",
    "    problem(pars[0],pars[1],pars[2])\n",
    "\n",
    "if __name__== '__main__':\n",
    "    pool = mp.Pool(processes=n_runs)\n",
    "    pool.map(execute, params)\n",
    "    pool.close()\n",
    "    pool.join()"
   ]
  },
  {
   "cell_type": "markdown",
   "metadata": {},
   "source": [
    "# Functions\n",
    "Here are the functions we need to create to do a Fourier analysis"
   ]
  },
  {
   "cell_type": "code",
   "execution_count": 6,
   "metadata": {
    "collapsed": true
   },
   "outputs": [],
   "source": [
    "#extra variables that we might want to plot\n",
    "def get_var(data,i,var):\n",
    "    if var == 'z':\n",
    "        e = data[\"e\"+i].values\n",
    "        pomega = data[\"pomega\"+i].values\n",
    "        return e*np.exp(pomega*1j)\n",
    "    if var == \"h\":\n",
    "        e = data[\"e\"+i].values\n",
    "        pomega = data[\"pomega\"+i].values\n",
    "        return e*np.cos(pomega)\n",
    "    if var == \"k\":\n",
    "        e = data[\"e\"+i].values\n",
    "        pomega = data[\"pomega\"+i].values\n",
    "        return e*np.sin(pomega)\n",
    "    else:\n",
    "        return data[var+i].values"
   ]
  },
  {
   "cell_type": "code",
   "execution_count": 7,
   "metadata": {
    "collapsed": false
   },
   "outputs": [],
   "source": [
    "#1-D frequency map\n",
    "import scipy.signal as signal\n",
    "def fourier(data,var,tmax,N_outputs,output_name):        \n",
    "    N_freq = 200\n",
    "    t=data[\"Time\"].values\n",
    "    window = np.hanning(N_outputs)\n",
    "    logPmin = np.log10(tmax/N_outputs)\n",
    "    logPmax = np.log10(1e5)\n",
    "    Period = np.logspace(logPmin,logPmax,N_freq)\n",
    "    #freq = np.asarray([2*np.pi/P for P in Period])\n",
    "    freq = np.fft.fftfreq(N_outputs, tmax/N_outputs)#*2*np.pi\n",
    "    plt.figure(figsize=(12,8))\n",
    "    names = ['Jupiter','Saturn','Uranus','Neptune']\n",
    "    for i,num in enumerate(['1', '2', '3', '4']):\n",
    "        y = get_var(data,num,var)\n",
    "        #power = signal.lombscargle(t,y*window,freq)\n",
    "        power = np.fft.fft(y)/N_outputs\n",
    "        plt.subplot(2, 1, 1)\n",
    "        plt.plot(2*np.pi/freq,power,label=names[i])\n",
    "        #plt.plot(Period, np.sqrt(4*power/N_outputs), label=names[i])\n",
    "        plt.subplot(2, 1, 2)\n",
    "        plt.plot(t,y,label=num)\n",
    "\n",
    "    plt.subplots_adjust(hspace=0.4)\n",
    "    plt.subplot(2, 1, 1)\n",
    "    plt.ylabel(\"power of: \"+var)\n",
    "    plt.legend(loc=\"lower right\")\n",
    "    plt.xlabel('frequencies')\n",
    "    plt.xscale('log')\n",
    "    plt.subplot(2, 1, 2)\n",
    "    plt.ylabel(var)\n",
    "    plt.xlabel('time')\n",
    "    plt.savefig(output_name.split(\".csv\")[0]+\"_fft-\"+var+\".png\")"
   ]
  },
  {
   "cell_type": "markdown",
   "metadata": {},
   "source": [
    "# Analyze\n",
    "Let's batch analyze our data now (note you may have to change the file_location variable)."
   ]
  },
  {
   "cell_type": "code",
   "execution_count": 8,
   "metadata": {
    "collapsed": false
   },
   "outputs": [],
   "source": [
    "#If just wanting to batch analyze .csv files\n",
    "file_location = 'Fourier/*.csv'  #Location of where data is stored. \n",
    "var = \"z\"                        #choices are h,k,z or any of the orbital elements (e.g. a,P,e,pomega,etc.)"
   ]
  },
  {
   "cell_type": "code",
   "execution_count": 9,
   "metadata": {
    "collapsed": false
   },
   "outputs": [
    {
     "name": "stderr",
     "output_type": "stream",
     "text": [
      "/Users/silburt/anaconda2/envs/ml/lib/python2.7/site-packages/numpy/core/numeric.py:482: ComplexWarning: Casting complex values to real discards the imaginary part\n",
      "  return array(a, dtype, copy=False, order=order)\n"
     ]
    }
   ],
   "source": [
    "import glob\n",
    "files = glob.glob(file_location)\n",
    "columns = ['Time']\n",
    "for i in ['1', '2', '3', '4']:\n",
    "    columns += ['a'+i, 'P'+i, 'e'+i, 'pomega'+i, 'inc'+i, 'Omega'+i, 'f'+i]\n",
    "\n",
    "for f in files:\n",
    "    data = pd.read_csv(f,header=None,names=columns)\n",
    "    tmax = float(f.split(\"_\")[-2].split(\"t\")[1])\n",
    "    N_outputs = len(data.index)\n",
    "    fourier(data,var,tmax,N_outputs,f)"
   ]
  },
  {
   "cell_type": "markdown",
   "metadata": {},
   "source": [
    "# Play with FFT on basic sine function\n",
    "If you want to get a grasp of what the FFT is doing, here is the basic vanilla FFT that you can play with on a sine function. You can also play with the Lomb-Scargle periodogram, which does the same thing as an FFT except doesn't require evenly spaced points."
   ]
  },
  {
   "cell_type": "code",
   "execution_count": 12,
   "metadata": {
    "collapsed": false
   },
   "outputs": [
    {
     "data": {
      "text/plain": [
       "<matplotlib.text.Text at 0x12aa82050>"
      ]
     },
     "execution_count": 12,
     "metadata": {},
     "output_type": "execute_result"
    },
    {
     "data": {
      "image/png": "[encoded data removed]",
      "text/plain": [
       "<matplotlib.figure.Figure at 0x10360e810>"
      ]
     },
     "metadata": {},
     "output_type": "display_data"
    }
   ],
   "source": [
    "%matplotlib inline\n",
    "#import scipy.signal as signal\n",
    "Npts = 1000\n",
    "period = 1\n",
    "t_min=0.\n",
    "t_max=400.\n",
    "\n",
    "t = np.linspace(t_min,t_max,Npts).astype('float64')\n",
    "window = np.hanning(Npts)\n",
    "y = np.sin(period*t).astype('float64')*window\n",
    "\n",
    "#freq = np.linspace(0.1,10,100).astype('float64')\n",
    "#power = signal.lombscargle(t,y*window,freq)\n",
    "power = np.fft.fft(y)/Npts\n",
    "freq = np.fft.fftfreq(Npts, t_max/Npts)*2*np.pi\n",
    "\n",
    "plt.figure(figsize=(8,4))\n",
    "plt.subplot(2, 1, 1)\n",
    "plt.plot(freq, np.sqrt(4*power/Npts))\n",
    "plt.xlim([0,10])\n",
    "plt.subplot(2, 1, 2)\n",
    "plt.plot(t,y)\n",
    "plt.xlabel(\"time\")\n",
    "plt.ylabel(\"amplitude\")"
   ]
  },
  {
   "cell_type": "markdown",
   "metadata": {
    "collapsed": true
   },
   "source": [
    "# Extra Code\n",
    "This code might have a place in the future but currently is just sitting around."
   ]
  },
  {
   "cell_type": "code",
   "execution_count": null,
   "metadata": {
    "collapsed": false
   },
   "outputs": [],
   "source": [
    "for i in ['1', '2', '3']:\n",
    "    h=data[\"e\"+i]*np.cos(data[\"pomega\"+i])\n",
    "    k=data[\"e\"+i]*np.sin(data[\"pomega\"+i])\n",
    "    sp_h = np.fft.fft(h)\n",
    "    freq_h = np.fft.fftfreq(h.shape[-1])\n",
    "    sp_k = np.fft.fft(k)\n",
    "    freq_k = np.fft.fftfreq(k.shape[-1])\n",
    "    plt.plot(freq_h, sp_h.real)\n",
    "    plt.plot(freq_k, sp_k.real)\n",
    "plt.xscale('log')\n",
    "plt.ylabel('h and k')\n",
    "plt.xlabel('frequency')"
   ]
  },
  {
   "cell_type": "code",
   "execution_count": 107,
   "metadata": {
    "collapsed": false
   },
   "outputs": [
    {
     "ename": "ValueError",
     "evalue": "total size of new array must be unchanged",
     "output_type": "error",
     "traceback": [
      "\u001b[0;31m---------------------------------------------------------------------------\u001b[0m",
      "\u001b[0;31mValueError\u001b[0m                                Traceback (most recent call last)",
      "\u001b[0;32m<ipython-input-107-1db65d8aee42>\u001b[0m in \u001b[0;36m<module>\u001b[0;34m()\u001b[0m\n\u001b[1;32m      6\u001b[0m \u001b[0;34m\u001b[0m\u001b[0m\n\u001b[1;32m      7\u001b[0m \u001b[0mf\u001b[0m \u001b[0;34m=\u001b[0m \u001b[0mnp\u001b[0m\u001b[0;34m.\u001b[0m\u001b[0mlinspace\u001b[0m\u001b[0;34m(\u001b[0m\u001b[0;36m0.01\u001b[0m\u001b[0;34m,\u001b[0m \u001b[0;36m5\u001b[0m\u001b[0;34m,\u001b[0m \u001b[0mn_freq\u001b[0m\u001b[0;34m)\u001b[0m\u001b[0;34m\u001b[0m\u001b[0m\n\u001b[0;32m----> 8\u001b[0;31m \u001b[0mt\u001b[0m \u001b[0;34m=\u001b[0m \u001b[0mdata\u001b[0m\u001b[0;34m[\u001b[0m\u001b[0;34m\"Time\"\u001b[0m\u001b[0;34m]\u001b[0m\u001b[0;34m.\u001b[0m\u001b[0mvalues\u001b[0m\u001b[0;34m.\u001b[0m\u001b[0mreshape\u001b[0m\u001b[0;34m(\u001b[0m\u001b[0;34m(\u001b[0m\u001b[0mn_chunks\u001b[0m\u001b[0;34m,\u001b[0m\u001b[0;36m1000\u001b[0m\u001b[0;34m/\u001b[0m\u001b[0mn_chunks\u001b[0m\u001b[0;34m)\u001b[0m\u001b[0;34m)\u001b[0m \u001b[0;31m#10 rows of 100 entries each\u001b[0m\u001b[0;34m\u001b[0m\u001b[0m\n\u001b[0m\u001b[1;32m      9\u001b[0m \u001b[0my\u001b[0m \u001b[0;34m=\u001b[0m \u001b[0mget_var\u001b[0m\u001b[0;34m(\u001b[0m\u001b[0mdata\u001b[0m\u001b[0;34m,\u001b[0m\u001b[0;34m\"1\"\u001b[0m\u001b[0;34m,\u001b[0m\u001b[0mvar\u001b[0m\u001b[0;34m)\u001b[0m\u001b[0;34m.\u001b[0m\u001b[0mreshape\u001b[0m\u001b[0;34m(\u001b[0m\u001b[0;34m(\u001b[0m\u001b[0mn_chunks\u001b[0m\u001b[0;34m,\u001b[0m\u001b[0;36m1000\u001b[0m\u001b[0;34m/\u001b[0m\u001b[0mn_chunks\u001b[0m\u001b[0;34m)\u001b[0m\u001b[0;34m)\u001b[0m\u001b[0;34m\u001b[0m\u001b[0m\n\u001b[1;32m     10\u001b[0m \u001b[0mpowers\u001b[0m \u001b[0;34m=\u001b[0m \u001b[0;34m[\u001b[0m\u001b[0;34m]\u001b[0m\u001b[0;34m\u001b[0m\u001b[0m\n",
      "\u001b[0;31mValueError\u001b[0m: total size of new array must be unchanged"
     ]
    }
   ],
   "source": [
    "#2-D frequency map (i.e. split data into chunks and do freq analysis of each chunk)\n",
    "import scipy.signal as signal\n",
    "var = \"h\"\n",
    "n_freq = 30\n",
    "n_chunks = 4\n",
    "\n",
    "f = np.linspace(0.01, 5, n_freq)\n",
    "t = data[\"Time\"].values.reshape((n_chunks,1000/n_chunks)) #10 rows of 100 entries each\n",
    "y = get_var(data,\"1\",var).reshape((n_chunks,1000/n_chunks))\n",
    "powers = []\n",
    "freq = []\n",
    "index = []\n",
    "for i in range(n_chunks):\n",
    "    powers.append(signal.lombscargle(t[i],y[i],f))\n",
    "    freq.append(f)\n",
    "    index.append(np.ones(n_freq)*i*0.1)\n",
    "\n",
    "index = np.asarray(index)\n",
    "powers = np.asarray(powers)\n",
    "freq = np.asarray(freq)\n",
    "\n",
    "#plot\n",
    "im = plt.scatter(freq,index,c=powers,cmap='coolwarm',lw=0,s=20);\n",
    "plt.colorbar(im, label='power')\n",
    "plt.xlabel(\"frequency\")\n",
    "plt.ylabel(\"time chunk (arbitrary scaling)\")"
   ]
  },
  {
   "cell_type": "code",
   "execution_count": null,
   "metadata": {
    "collapsed": true
   },
   "outputs": [],
   "source": []
  }
 ],
 "metadata": {
  "kernelspec": {
   "display_name": "Python 2",
   "language": "python",
   "name": "python2"
  },
  "language_info": {
   "codemirror_mode": {
    "name": "ipython",
    "version": 2
   },
   "file_extension": ".py",
   "mimetype": "text/x-python",
   "name": "python",
   "nbconvert_exporter": "python",
   "pygments_lexer": "ipython2",
   "version": "2.7.11"
  }
 },
 "nbformat": 4,
 "nbformat_minor": 0
}
