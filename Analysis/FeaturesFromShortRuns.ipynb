{
 "cells": [
  {
   "cell_type": "code",
   "execution_count": 1,
   "metadata": {
    "collapsed": false
   },
   "outputs": [
    {
     "data": {
      "text/html": [
       "<div>\n",
       "<table border=\"1\" class=\"dataframe\">\n",
       "  <thead>\n",
       "    <tr style=\"text-align: right;\">\n",
       "      <th></th>\n",
       "      <th>Stable</th>\n",
       "      <th>Norbits_instability</th>\n",
       "      <th>Norbits</th>\n",
       "      <th>Mplanet</th>\n",
       "      <th>RH/a</th>\n",
       "      <th>a1</th>\n",
       "      <th>P1</th>\n",
       "      <th>e1</th>\n",
       "      <th>pomega1</th>\n",
       "      <th>inc1</th>\n",
       "      <th>...</th>\n",
       "      <th>Omega3</th>\n",
       "      <th>f3</th>\n",
       "      <th>x3</th>\n",
       "      <th>y3</th>\n",
       "      <th>z3</th>\n",
       "      <th>vx3</th>\n",
       "      <th>vy3</th>\n",
       "      <th>vz3</th>\n",
       "      <th>Rel_Eerr</th>\n",
       "      <th>integ_time</th>\n",
       "    </tr>\n",
       "    <tr>\n",
       "      <th>Sim_ID</th>\n",
       "      <th></th>\n",
       "      <th></th>\n",
       "      <th></th>\n",
       "      <th></th>\n",
       "      <th></th>\n",
       "      <th></th>\n",
       "      <th></th>\n",
       "      <th></th>\n",
       "      <th></th>\n",
       "      <th></th>\n",
       "      <th></th>\n",
       "      <th></th>\n",
       "      <th></th>\n",
       "      <th></th>\n",
       "      <th></th>\n",
       "      <th></th>\n",
       "      <th></th>\n",
       "      <th></th>\n",
       "      <th></th>\n",
       "      <th></th>\n",
       "      <th></th>\n",
       "    </tr>\n",
       "  </thead>\n",
       "  <tbody>\n",
       "    <tr>\n",
       "      <th>4995</th>\n",
       "      <td>True</td>\n",
       "      <td>1.000000e+07</td>\n",
       "      <td>10000000.0</td>\n",
       "      <td>0.000015</td>\n",
       "      <td>0.021544</td>\n",
       "      <td>0.053729</td>\n",
       "      <td>0.012454</td>\n",
       "      <td>0.005642</td>\n",
       "      <td>-1.657512</td>\n",
       "      <td>0.012805</td>\n",
       "      <td>...</td>\n",
       "      <td>-2.455928</td>\n",
       "      <td>-0.162476</td>\n",
       "      <td>0.008390</td>\n",
       "      <td>-0.073445</td>\n",
       "      <td>0.000225</td>\n",
       "      <td>23.145675</td>\n",
       "      <td>2.707954</td>\n",
       "      <td>0.045366</td>\n",
       "      <td>2.622256e-09</td>\n",
       "      <td>1437.494908</td>\n",
       "    </tr>\n",
       "    <tr>\n",
       "      <th>4996</th>\n",
       "      <td>True</td>\n",
       "      <td>1.000000e+07</td>\n",
       "      <td>10000000.0</td>\n",
       "      <td>0.000015</td>\n",
       "      <td>0.021544</td>\n",
       "      <td>0.056524</td>\n",
       "      <td>0.013439</td>\n",
       "      <td>0.003143</td>\n",
       "      <td>0.454508</td>\n",
       "      <td>0.016073</td>\n",
       "      <td>...</td>\n",
       "      <td>2.849398</td>\n",
       "      <td>1.906923</td>\n",
       "      <td>-0.025937</td>\n",
       "      <td>0.072181</td>\n",
       "      <td>-0.000593</td>\n",
       "      <td>-21.424946</td>\n",
       "      <td>-7.242948</td>\n",
       "      <td>0.126097</td>\n",
       "      <td>1.469989e-08</td>\n",
       "      <td>1502.892072</td>\n",
       "    </tr>\n",
       "    <tr>\n",
       "      <th>4997</th>\n",
       "      <td>True</td>\n",
       "      <td>1.000000e+07</td>\n",
       "      <td>10000000.0</td>\n",
       "      <td>0.000015</td>\n",
       "      <td>0.021544</td>\n",
       "      <td>0.058060</td>\n",
       "      <td>0.013990</td>\n",
       "      <td>0.009825</td>\n",
       "      <td>-0.543930</td>\n",
       "      <td>0.013198</td>\n",
       "      <td>...</td>\n",
       "      <td>1.792055</td>\n",
       "      <td>0.982644</td>\n",
       "      <td>-0.007582</td>\n",
       "      <td>0.076548</td>\n",
       "      <td>-0.000043</td>\n",
       "      <td>-22.647292</td>\n",
       "      <td>-2.002117</td>\n",
       "      <td>0.103816</td>\n",
       "      <td>7.680985e-09</td>\n",
       "      <td>1408.293117</td>\n",
       "    </tr>\n",
       "    <tr>\n",
       "      <th>4998</th>\n",
       "      <td>False</td>\n",
       "      <td>2.365555e+05</td>\n",
       "      <td>10000000.0</td>\n",
       "      <td>0.000015</td>\n",
       "      <td>0.021544</td>\n",
       "      <td>0.052558</td>\n",
       "      <td>0.012049</td>\n",
       "      <td>0.003733</td>\n",
       "      <td>-3.677540</td>\n",
       "      <td>0.004648</td>\n",
       "      <td>...</td>\n",
       "      <td>-3.022916</td>\n",
       "      <td>0.840517</td>\n",
       "      <td>0.031328</td>\n",
       "      <td>-0.060568</td>\n",
       "      <td>0.000609</td>\n",
       "      <td>21.634522</td>\n",
       "      <td>10.844146</td>\n",
       "      <td>-0.078264</td>\n",
       "      <td>6.473084e-07</td>\n",
       "      <td>33.453553</td>\n",
       "    </tr>\n",
       "    <tr>\n",
       "      <th>4999</th>\n",
       "      <td>False</td>\n",
       "      <td>1.997705e+04</td>\n",
       "      <td>10000000.0</td>\n",
       "      <td>0.000015</td>\n",
       "      <td>0.021544</td>\n",
       "      <td>0.051719</td>\n",
       "      <td>0.011762</td>\n",
       "      <td>0.015866</td>\n",
       "      <td>1.766786</td>\n",
       "      <td>0.011312</td>\n",
       "      <td>...</td>\n",
       "      <td>-1.104623</td>\n",
       "      <td>2.694640</td>\n",
       "      <td>0.067710</td>\n",
       "      <td>0.016891</td>\n",
       "      <td>0.000328</td>\n",
       "      <td>-5.630598</td>\n",
       "      <td>22.998094</td>\n",
       "      <td>0.025569</td>\n",
       "      <td>8.613444e-07</td>\n",
       "      <td>3.079377</td>\n",
       "    </tr>\n",
       "  </tbody>\n",
       "</table>\n",
       "<p>5 rows × 46 columns</p>\n",
       "</div>"
      ],
      "text/plain": [
       "       Stable  Norbits_instability     Norbits   Mplanet      RH/a        a1  \\\n",
       "Sim_ID                                                                         \n",
       "4995     True         1.000000e+07  10000000.0  0.000015  0.021544  0.053729   \n",
       "4996     True         1.000000e+07  10000000.0  0.000015  0.021544  0.056524   \n",
       "4997     True         1.000000e+07  10000000.0  0.000015  0.021544  0.058060   \n",
       "4998    False         2.365555e+05  10000000.0  0.000015  0.021544  0.052558   \n",
       "4999    False         1.997705e+04  10000000.0  0.000015  0.021544  0.051719   \n",
       "\n",
       "              P1        e1   pomega1      inc1     ...         Omega3  \\\n",
       "Sim_ID                                             ...                  \n",
       "4995    0.012454  0.005642 -1.657512  0.012805     ...      -2.455928   \n",
       "4996    0.013439  0.003143  0.454508  0.016073     ...       2.849398   \n",
       "4997    0.013990  0.009825 -0.543930  0.013198     ...       1.792055   \n",
       "4998    0.012049  0.003733 -3.677540  0.004648     ...      -3.022916   \n",
       "4999    0.011762  0.015866  1.766786  0.011312     ...      -1.104623   \n",
       "\n",
       "              f3        x3        y3        z3        vx3        vy3  \\\n",
       "Sim_ID                                                                 \n",
       "4995   -0.162476  0.008390 -0.073445  0.000225  23.145675   2.707954   \n",
       "4996    1.906923 -0.025937  0.072181 -0.000593 -21.424946  -7.242948   \n",
       "4997    0.982644 -0.007582  0.076548 -0.000043 -22.647292  -2.002117   \n",
       "4998    0.840517  0.031328 -0.060568  0.000609  21.634522  10.844146   \n",
       "4999    2.694640  0.067710  0.016891  0.000328  -5.630598  22.998094   \n",
       "\n",
       "             vz3      Rel_Eerr   integ_time  \n",
       "Sim_ID                                       \n",
       "4995    0.045366  2.622256e-09  1437.494908  \n",
       "4996    0.126097  1.469989e-08  1502.892072  \n",
       "4997    0.103816  7.680985e-09  1408.293117  \n",
       "4998   -0.078264  6.473084e-07    33.453553  \n",
       "4999    0.025569  8.613444e-07     3.079377  \n",
       "\n",
       "[5 rows x 46 columns]"
      ]
     },
     "execution_count": 1,
     "metadata": {},
     "output_type": "execute_result"
    }
   ],
   "source": [
    "import pandas as pd\n",
    "import numpy as np\n",
    "df = pd.read_csv('../data/1e7datasetcorr.csv', index_col=0)\n",
    "df.tail()"
   ]
  },
  {
   "cell_type": "code",
   "execution_count": 2,
   "metadata": {
    "collapsed": false
   },
   "outputs": [],
   "source": [
    "df['Pratio21'] = df['P2']/df['P1']\n",
    "df['Pratio32'] = df['P3']/df['P2']"
   ]
  },
  {
   "cell_type": "code",
   "execution_count": 203,
   "metadata": {
    "collapsed": true
   },
   "outputs": [],
   "source": [
    "dflonginstability = df.loc[(df['Norbits_instability'] > 1.e6) & (df['Norbits_instability'] < 1.e7)]"
   ]
  },
  {
   "cell_type": "code",
   "execution_count": 204,
   "metadata": {
    "collapsed": true
   },
   "outputs": [],
   "source": [
    "longinstabilityids = dflonginstability.index.values"
   ]
  },
  {
   "cell_type": "code",
   "execution_count": 206,
   "metadata": {
    "collapsed": false
   },
   "outputs": [
    {
     "data": {
      "text/plain": [
       "3"
      ]
     },
     "execution_count": 206,
     "metadata": {},
     "output_type": "execute_result"
    }
   ],
   "source": [
    "longinstabilityids[0]"
   ]
  },
  {
   "cell_type": "code",
   "execution_count": 11,
   "metadata": {
    "collapsed": false
   },
   "outputs": [],
   "source": [
    "df5to4 = df.loc[(df['Pratio21'] > 1.249) & (df['Pratio21'] < 1.251)]"
   ]
  },
  {
   "cell_type": "code",
   "execution_count": 19,
   "metadata": {
    "collapsed": false
   },
   "outputs": [],
   "source": [
    "simids = df5to4.index.values"
   ]
  },
  {
   "cell_type": "code",
   "execution_count": 24,
   "metadata": {
    "collapsed": false
   },
   "outputs": [
    {
     "name": "stdout",
     "output_type": "stream",
     "text": [
      "85\n"
     ]
    }
   ],
   "source": [
    "sim_id = simids[0]\n",
    "print(sim_id)\n",
    "s = df.loc[sim_id]"
   ]
  },
  {
   "cell_type": "code",
   "execution_count": 28,
   "metadata": {
    "collapsed": false
   },
   "outputs": [
    {
     "data": {
      "text/plain": [
       "Stable                       False\n",
       "Norbits_instability        6691.12\n",
       "Norbits                      1e+07\n",
       "Mplanet                    1.5e-05\n",
       "RH/a                     0.0215443\n",
       "a1                       0.0439918\n",
       "P1                      0.00922686\n",
       "e1                       0.0181036\n",
       "pomega1                    1.20685\n",
       "inc1                    0.00804983\n",
       "Omega1                    -1.43736\n",
       "f1                        -0.57868\n",
       "x1                       0.0350492\n",
       "y1                       0.0254587\n",
       "z1                     0.000306894\n",
       "vx1                       -18.1143\n",
       "vy1                        24.4349\n",
       "vz1                      -0.118356\n",
       "a2                       0.0510624\n",
       "P2                       0.0115384\n",
       "e2                       0.0116444\n",
       "pomega2                   -2.00294\n",
       "inc2                    0.00936161\n",
       "Omega2                   -0.965771\n",
       "f2                          1.4111\n",
       "x2                       0.0422926\n",
       "y2                      -0.0284303\n",
       "z2                     0.000174253\n",
       "vx2                        15.8063\n",
       "vy2                        22.9417\n",
       "vz2                        0.24387\n",
       "a3                       0.0570342\n",
       "P3                       0.0136205\n",
       "e3                       0.0136814\n",
       "pomega3                    3.77805\n",
       "inc3                    0.00813214\n",
       "Omega3                     2.70615\n",
       "f3                       0.0338617\n",
       "x3                      -0.0440809\n",
       "y3                      -0.0349452\n",
       "z3                     0.000408878\n",
       "vx3                        16.5602\n",
       "vy3                       -20.9079\n",
       "vz3                      0.0973566\n",
       "Rel_Eerr               8.73668e-07\n",
       "integ_time                 1.56664\n",
       "Pratio21                   1.25052\n",
       "Pratio32                   1.18045\n",
       "Name: 85, dtype: object"
      ]
     },
     "execution_count": 28,
     "metadata": {},
     "output_type": "execute_result"
    }
   ],
   "source": [
    "s"
   ]
  },
  {
   "cell_type": "code",
   "execution_count": 179,
   "metadata": {
    "collapsed": true
   },
   "outputs": [],
   "source": [
    "maxorbs = 1.e4\n",
    "Noutputs = 2000"
   ]
  },
  {
   "cell_type": "code",
   "execution_count": 180,
   "metadata": {
    "collapsed": false
   },
   "outputs": [],
   "source": [
    "import numpy as np\n",
    "import rebound\n",
    "import time\n",
    "\n",
    "def system(sim_id):\n",
    "    s = df.loc[sim_id]\n",
    "    sim = rebound.Simulation()\n",
    "    sim.add(m=1.)\n",
    "    sim.G = 4*np.pi**2\n",
    "    mp = s['Mplanet']\n",
    "    gamma = s['RH/a']\n",
    "    for i in ['1', '2', '3']:\n",
    "        sim.add(m=mp, x=s['x'+i], y=s['y'+i], z=s['z'+i], vx=s['vx'+i], vy=s['vy'+i], vz=s['vz'+i])\n",
    "    sim.move_to_com()\n",
    "    ps = sim.particles\n",
    "\n",
    "    sim.integrator=\"whfast\"\n",
    "    P0 = ps[1].P\n",
    "    tmax = maxorbs * P0 # number of inner planet orbital periods to integrate\n",
    "    sim.dt = P0*0.09\n",
    "    sim.exit_min_distance = ps[1].a*gamma # use smaller hill radius as exit condition\n",
    "\n",
    "    sim.init_megno()\n",
    "\n",
    "    features = [maxorbs, mp, gamma]\n",
    "    for p in ps[1:sim.N_real]:\n",
    "        features = features + [p.a, p.P, p.e, p.pomega, p.inc, p.Omega, p.f]\n",
    "\n",
    "    stable = [True] # assume it's stable and update if not\n",
    "\n",
    "    E0 = sim.calculate_energy()\n",
    "    t0 = time.time()\n",
    "\n",
    "    times = np.linspace(0,tmax,Noutputs)\n",
    "    outputs = '/mnt/raid-cita/dtamayo/Stability/data/featuresfromshortruns/output'+str(sim_id)+'.csv'\n",
    "\n",
    "    with open(outputs, 'w') as f:\n",
    "        try:\n",
    "            for t in times:\n",
    "                sim.integrate(t)\n",
    "                f.write(str(sim.t))\n",
    "                try:\n",
    "                    outs = [1./sim.calculate_lyapunov()]\n",
    "                except: \n",
    "                    outs = [np.inf]\n",
    "                for p in ps[1:sim.N_real]:\n",
    "                    outs = outs + [p.a, p.P, p.e, p.pomega, p.inc, p.Omega, p.f]\n",
    "\n",
    "                for out in outs:\n",
    "                    f.write(',{0}'.format(out))\n",
    "                f.write('\\n')\n",
    "        except rebound.Encounter as error:\n",
    "            stable = [False]\n",
    "            f.write(str(sim.t)) # this block added after the 1e7 dataset was generated for future use\n",
    "            try:\n",
    "                outs = [1./sim.calculate_lyapunov()]\n",
    "            except: \n",
    "                outs = [np.inf]\n",
    "            for p in ps[1:sim.N_real]:\n",
    "                outs = outs + [p.a, p.P, p.e, p.pomega, p.inc, p.Omega, p.f]\n",
    "\n",
    "            for out in outs:\n",
    "                f.write(',{0}'.format(out))\n",
    "            f.write('\\n')\n",
    "\n",
    "    features = [sim_id] + stable+[sim.t/P0]+features+[np.abs((sim.calculate_energy()-E0)/E0), time.time()-t0]\n",
    "    return features"
   ]
  },
  {
   "cell_type": "code",
   "execution_count": null,
   "metadata": {
    "collapsed": false
   },
   "outputs": [],
   "source": [
    "for sim_id in range(5000):\n",
    "    system(sim_id)"
   ]
  },
  {
   "cell_type": "code",
   "execution_count": 218,
   "metadata": {
    "collapsed": false
   },
   "outputs": [
    {
     "name": "stdout",
     "output_type": "stream",
     "text": [
      "3\n"
     ]
    }
   ],
   "source": [
    "sim_id = longinstabilityids[0]\n",
    "print(sim_id)"
   ]
  },
  {
   "cell_type": "code",
   "execution_count": 212,
   "metadata": {
    "collapsed": true
   },
   "outputs": [],
   "source": [
    "sim_id = 4997"
   ]
  },
  {
   "cell_type": "code",
   "execution_count": 219,
   "metadata": {
    "collapsed": false
   },
   "outputs": [
    {
     "data": {
      "text/plain": [
       "Stable                       False\n",
       "Norbits_instability    1.11828e+06\n",
       "Norbits                      1e+07\n",
       "Mplanet                    1.5e-05\n",
       "RH/a                     0.0215443\n",
       "a1                       0.0447593\n",
       "P1                      0.00946938\n",
       "e1                       0.0120784\n",
       "pomega1                   -2.35167\n",
       "inc1                    0.00114369\n",
       "Omega1                   0.0827369\n",
       "f1                         5.26197\n",
       "x1                      -0.0432872\n",
       "y1                        0.010194\n",
       "z1                     1.57203e-05\n",
       "vx1                       -6.55336\n",
       "vy1                       -29.1623\n",
       "vz1                     -0.0326142\n",
       "a2                       0.0516801\n",
       "P2                       0.0117484\n",
       "e2                      0.00518708\n",
       "pomega2                    1.47234\n",
       "inc2                     0.0173773\n",
       "Omega2                     2.95475\n",
       "f2                        -1.02754\n",
       "x2                       0.0465247\n",
       "y2                        0.022172\n",
       "z2                    -0.000528809\n",
       "vx2                       -12.0359\n",
       "vy2                        24.9609\n",
       "vz2                      -0.387386\n",
       "a3                       0.0588948\n",
       "P3                       0.0142924\n",
       "e3                      0.00952706\n",
       "pomega3                    -2.2678\n",
       "inc3                    0.00262875\n",
       "Omega3                    -2.29424\n",
       "f3                       -0.829096\n",
       "x3                      -0.0584534\n",
       "y3                     -0.00261442\n",
       "z3                    -0.000110624\n",
       "vx3                        1.34595\n",
       "vy3                       -26.0244\n",
       "vz3                      0.0479384\n",
       "Rel_Eerr               1.08943e-06\n",
       "integ_time                 248.878\n",
       "Pratio21                   1.24067\n",
       "Pratio32                   1.21654\n",
       "Name: 3, dtype: object"
      ]
     },
     "execution_count": 219,
     "metadata": {},
     "output_type": "execute_result"
    }
   ],
   "source": [
    "df.loc[3]"
   ]
  },
  {
   "cell_type": "code",
   "execution_count": 213,
   "metadata": {
    "collapsed": false
   },
   "outputs": [
    {
     "data": {
      "text/html": [
       "<div>\n",
       "<table border=\"1\" class=\"dataframe\">\n",
       "  <thead>\n",
       "    <tr style=\"text-align: right;\">\n",
       "      <th></th>\n",
       "      <th>Time</th>\n",
       "      <th>Lyapunov Time</th>\n",
       "      <th>a1</th>\n",
       "      <th>P1</th>\n",
       "      <th>e1</th>\n",
       "      <th>pomega1</th>\n",
       "      <th>inc1</th>\n",
       "      <th>Omega1</th>\n",
       "      <th>f1</th>\n",
       "      <th>a2</th>\n",
       "      <th>...</th>\n",
       "      <th>inc2</th>\n",
       "      <th>Omega2</th>\n",
       "      <th>f2</th>\n",
       "      <th>a3</th>\n",
       "      <th>P3</th>\n",
       "      <th>e3</th>\n",
       "      <th>pomega3</th>\n",
       "      <th>inc3</th>\n",
       "      <th>Omega3</th>\n",
       "      <th>f3</th>\n",
       "    </tr>\n",
       "  </thead>\n",
       "  <tbody>\n",
       "    <tr>\n",
       "      <th>0</th>\n",
       "      <td>0.000000</td>\n",
       "      <td>inf</td>\n",
       "      <td>0.058054</td>\n",
       "      <td>0.013988</td>\n",
       "      <td>0.009884</td>\n",
       "      <td>-0.546974</td>\n",
       "      <td>0.013198</td>\n",
       "      <td>-2.284257</td>\n",
       "      <td>-3.613314</td>\n",
       "      <td>0.065252</td>\n",
       "      <td>...</td>\n",
       "      <td>0.007991</td>\n",
       "      <td>-2.317747</td>\n",
       "      <td>-0.200628</td>\n",
       "      <td>0.077476</td>\n",
       "      <td>0.021565</td>\n",
       "      <td>0.012746</td>\n",
       "      <td>0.683364</td>\n",
       "      <td>0.004607</td>\n",
       "      <td>1.792016</td>\n",
       "      <td>0.986146</td>\n",
       "    </tr>\n",
       "    <tr>\n",
       "      <th>1</th>\n",
       "      <td>0.069974</td>\n",
       "      <td>-0.314697</td>\n",
       "      <td>0.058033</td>\n",
       "      <td>0.013980</td>\n",
       "      <td>0.011740</td>\n",
       "      <td>-0.383780</td>\n",
       "      <td>0.013191</td>\n",
       "      <td>-2.288885</td>\n",
       "      <td>-3.751014</td>\n",
       "      <td>0.065285</td>\n",
       "      <td>...</td>\n",
       "      <td>0.007998</td>\n",
       "      <td>-2.315431</td>\n",
       "      <td>1.229933</td>\n",
       "      <td>0.077467</td>\n",
       "      <td>0.021561</td>\n",
       "      <td>0.011880</td>\n",
       "      <td>0.717244</td>\n",
       "      <td>0.004579</td>\n",
       "      <td>1.787157</td>\n",
       "      <td>2.487185</td>\n",
       "    </tr>\n",
       "    <tr>\n",
       "      <th>2</th>\n",
       "      <td>0.139948</td>\n",
       "      <td>-0.707436</td>\n",
       "      <td>0.058023</td>\n",
       "      <td>0.013976</td>\n",
       "      <td>0.009975</td>\n",
       "      <td>-0.121562</td>\n",
       "      <td>0.013217</td>\n",
       "      <td>-2.293210</td>\n",
       "      <td>-3.982980</td>\n",
       "      <td>0.065292</td>\n",
       "      <td>...</td>\n",
       "      <td>0.007973</td>\n",
       "      <td>-2.311252</td>\n",
       "      <td>2.338309</td>\n",
       "      <td>0.077474</td>\n",
       "      <td>0.021564</td>\n",
       "      <td>0.013006</td>\n",
       "      <td>0.622285</td>\n",
       "      <td>0.004563</td>\n",
       "      <td>1.784946</td>\n",
       "      <td>4.090170</td>\n",
       "    </tr>\n",
       "    <tr>\n",
       "      <th>3</th>\n",
       "      <td>0.209922</td>\n",
       "      <td>-1.807872</td>\n",
       "      <td>0.058037</td>\n",
       "      <td>0.013982</td>\n",
       "      <td>0.007136</td>\n",
       "      <td>0.024245</td>\n",
       "      <td>0.013205</td>\n",
       "      <td>-2.296907</td>\n",
       "      <td>-4.102724</td>\n",
       "      <td>0.065276</td>\n",
       "      <td>...</td>\n",
       "      <td>0.007997</td>\n",
       "      <td>-2.309355</td>\n",
       "      <td>-3.193751</td>\n",
       "      <td>0.077470</td>\n",
       "      <td>0.021562</td>\n",
       "      <td>0.011866</td>\n",
       "      <td>0.714711</td>\n",
       "      <td>0.004548</td>\n",
       "      <td>1.778950</td>\n",
       "      <td>-0.736069</td>\n",
       "    </tr>\n",
       "    <tr>\n",
       "      <th>4</th>\n",
       "      <td>0.279895</td>\n",
       "      <td>-24.225486</td>\n",
       "      <td>0.058039</td>\n",
       "      <td>0.013982</td>\n",
       "      <td>0.007631</td>\n",
       "      <td>-0.033128</td>\n",
       "      <td>0.013209</td>\n",
       "      <td>-2.297710</td>\n",
       "      <td>-4.017615</td>\n",
       "      <td>0.065277</td>\n",
       "      <td>...</td>\n",
       "      <td>0.008009</td>\n",
       "      <td>-2.310774</td>\n",
       "      <td>-1.934843</td>\n",
       "      <td>0.077466</td>\n",
       "      <td>0.021560</td>\n",
       "      <td>0.011564</td>\n",
       "      <td>0.686744</td>\n",
       "      <td>0.004541</td>\n",
       "      <td>1.773660</td>\n",
       "      <td>0.870423</td>\n",
       "    </tr>\n",
       "  </tbody>\n",
       "</table>\n",
       "<p>5 rows × 23 columns</p>\n",
       "</div>"
      ],
      "text/plain": [
       "       Time  Lyapunov Time        a1        P1        e1   pomega1      inc1  \\\n",
       "0  0.000000            inf  0.058054  0.013988  0.009884 -0.546974  0.013198   \n",
       "1  0.069974      -0.314697  0.058033  0.013980  0.011740 -0.383780  0.013191   \n",
       "2  0.139948      -0.707436  0.058023  0.013976  0.009975 -0.121562  0.013217   \n",
       "3  0.209922      -1.807872  0.058037  0.013982  0.007136  0.024245  0.013205   \n",
       "4  0.279895     -24.225486  0.058039  0.013982  0.007631 -0.033128  0.013209   \n",
       "\n",
       "     Omega1        f1        a2    ...         inc2    Omega2        f2  \\\n",
       "0 -2.284257 -3.613314  0.065252    ...     0.007991 -2.317747 -0.200628   \n",
       "1 -2.288885 -3.751014  0.065285    ...     0.007998 -2.315431  1.229933   \n",
       "2 -2.293210 -3.982980  0.065292    ...     0.007973 -2.311252  2.338309   \n",
       "3 -2.296907 -4.102724  0.065276    ...     0.007997 -2.309355 -3.193751   \n",
       "4 -2.297710 -4.017615  0.065277    ...     0.008009 -2.310774 -1.934843   \n",
       "\n",
       "         a3        P3        e3   pomega3      inc3    Omega3        f3  \n",
       "0  0.077476  0.021565  0.012746  0.683364  0.004607  1.792016  0.986146  \n",
       "1  0.077467  0.021561  0.011880  0.717244  0.004579  1.787157  2.487185  \n",
       "2  0.077474  0.021564  0.013006  0.622285  0.004563  1.784946  4.090170  \n",
       "3  0.077470  0.021562  0.011866  0.714711  0.004548  1.778950 -0.736069  \n",
       "4  0.077466  0.021560  0.011564  0.686744  0.004541  1.773660  0.870423  \n",
       "\n",
       "[5 rows x 23 columns]"
      ]
     },
     "execution_count": 213,
     "metadata": {},
     "output_type": "execute_result"
    }
   ],
   "source": [
    "columns = ['Time', 'Lyapunov Time']\n",
    "for i in ['1', '2', '3']:\n",
    "    columns += ['a'+i, 'P'+i, 'e'+i, 'pomega'+i, 'inc'+i, 'Omega'+i, 'f'+i]\n",
    "            \n",
    "filename = '/mnt/raid-cita/dtamayo/Stability/data/featuresfromshortruns/output'+str(sim_id)+'.csv'\n",
    "run = pd.read_csv(filename, names=columns)\n",
    "run.head()"
   ]
  },
  {
   "cell_type": "code",
   "execution_count": 214,
   "metadata": {
    "collapsed": false
   },
   "outputs": [
    {
     "data": {
      "text/plain": [
       "[<matplotlib.lines.Line2D at 0x7f3030a5f050>]"
      ]
     },
     "execution_count": 214,
     "metadata": {},
     "output_type": "execute_result"
    },
    {
     "data": {
      "image/png": "[encoded data removed]",
      "text/plain": [
       "<matplotlib.figure.Figure at 0x7f3030ae8fd0>"
      ]
     },
     "metadata": {},
     "output_type": "display_data"
    }
   ],
   "source": [
    "%matplotlib inline\n",
    "import matplotlib.pyplot as plt\n",
    "\n",
    "fig, ax = plt.subplots()\n",
    "ax.plot(run['Time'], run['a1'], ',')\n",
    "#ax.set_xlim([0,20])"
   ]
  },
  {
   "cell_type": "code",
   "execution_count": 215,
   "metadata": {
    "collapsed": false
   },
   "outputs": [
    {
     "data": {
      "text/plain": [
       "[<matplotlib.lines.Line2D at 0x7f3030bb7b90>]"
      ]
     },
     "execution_count": 215,
     "metadata": {},
     "output_type": "execute_result"
    },
    {
     "data": {
      "image/png": "[encoded data removed]",
      "text/plain": [
       "<matplotlib.figure.Figure at 0x7f3030bb7c10>"
      ]
     },
     "metadata": {},
     "output_type": "display_data"
    }
   ],
   "source": [
    "%matplotlib inline\n",
    "import matplotlib.pyplot as plt\n",
    "\n",
    "fig, ax = plt.subplots()\n",
    "ax.plot(run['Time'], run['e1'], ',')\n",
    "#ax.set_xlim([0,20])"
   ]
  },
  {
   "cell_type": "code",
   "execution_count": 216,
   "metadata": {
    "collapsed": false
   },
   "outputs": [
    {
     "data": {
      "text/plain": [
       "(0, 20)"
      ]
     },
     "execution_count": 216,
     "metadata": {},
     "output_type": "execute_result"
    },
    {
     "data": {
      "image/png": "[encoded data removed]",
      "text/plain": [
       "<matplotlib.figure.Figure at 0x7f3030af2410>"
      ]
     },
     "metadata": {},
     "output_type": "display_data"
    }
   ],
   "source": [
    "%matplotlib inline\n",
    "import matplotlib.pyplot as plt\n",
    "\n",
    "fig, ax = plt.subplots()\n",
    "ax.plot(run['Time'], run['Lyapunov Time'], ',')\n",
    "ax.set_ylim([0, 20])"
   ]
  },
  {
   "cell_type": "code",
   "execution_count": 217,
   "metadata": {
    "collapsed": true
   },
   "outputs": [],
   "source": [
    "dfnonres = df.loc[(df['Pratio21'] > 1.269) & (df['Pratio21'] < 1.271)]\n",
    "simnonresids = dfnonres.index.values"
   ]
  },
  {
   "cell_type": "code",
   "execution_count": 187,
   "metadata": {
    "collapsed": false
   },
   "outputs": [
    {
     "data": {
      "text/plain": [
       "[183,\n",
       " False,\n",
       " 9590.244897448729,\n",
       " 10000.0,\n",
       " 1.4999999999999999e-05,\n",
       " 0.021544346900299997,\n",
       " 0.04215845920679021,\n",
       " 0.00865613134987766,\n",
       " 0.006031181910250666,\n",
       " -4.904101878502302,\n",
       " 0.014265108440325384,\n",
       " -3.0197203190848136,\n",
       " 0.5796889130474594,\n",
       " 0.049415615293136345,\n",
       " 0.010984740370857721,\n",
       " 0.012915350483452711,\n",
       " -0.6611543892033798,\n",
       " 0.0012638159117220927,\n",
       " -2.3579490506336263,\n",
       " -1.8889205086785934,\n",
       " 0.054745354095975966,\n",
       " 0.012808879272779024,\n",
       " 0.01930673377195614,\n",
       " -0.5056582255337514,\n",
       " 0.01708792129604345,\n",
       " 0.09546657669605506,\n",
       " 0.29359576538705234,\n",
       " 0.0048577638025218669,\n",
       " 0.7868459224700928]"
      ]
     },
     "execution_count": 187,
     "metadata": {},
     "output_type": "execute_result"
    }
   ],
   "source": [
    "sim_id = simnonresids[2]\n",
    "system(sim_id)"
   ]
  },
  {
   "cell_type": "code",
   "execution_count": 153,
   "metadata": {
    "collapsed": true
   },
   "outputs": [],
   "source": [
    "columns = ['Sim_ID', 'Stable', 'Norbits_instability', 'Norbits', 'Mplanet', 'RH/a']\n",
    "for i in ['1', '2', '3']:\n",
    "    columns += ['a'+i, 'P'+i, 'e'+i, 'pomega'+i, 'inc'+i, 'Omega'+i, 'f'+i]\n",
    "columns += ['Rel_Eerr', 'integ_time']"
   ]
  },
  {
   "cell_type": "code",
   "execution_count": null,
   "metadata": {
    "collapsed": true
   },
   "outputs": [],
   "source": []
  }
 ],
 "metadata": {
  "kernelspec": {
   "display_name": "Python 2",
   "language": "python",
   "name": "python2"
  },
  "language_info": {
   "codemirror_mode": {
    "name": "ipython",
    "version": 2
   },
   "file_extension": ".py",
   "mimetype": "text/x-python",
   "name": "python",
   "nbconvert_exporter": "python",
   "pygments_lexer": "ipython2",
   "version": "2.7.10"
  }
 },
 "nbformat": 4,
 "nbformat_minor": 0
}
